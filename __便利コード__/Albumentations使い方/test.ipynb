{
 "cells": [
  {
   "cell_type": "code",
   "execution_count": 1,
   "metadata": {},
   "outputs": [
    {
     "ename": "ModuleNotFoundError",
     "evalue": "No module named 'kwcoco_v2'",
     "output_type": "error",
     "traceback": [
      "\u001b[1;31m---------------------------------------------------------------------------\u001b[0m",
      "\u001b[1;31mModuleNotFoundError\u001b[0m                       Traceback (most recent call last)",
      "Cell \u001b[1;32mIn[1], line 11\u001b[0m\n\u001b[0;32m      8\u001b[0m \u001b[38;5;28;01mimport\u001b[39;00m \u001b[38;5;21;01mmatplotlib\u001b[39;00m\u001b[38;5;21;01m.\u001b[39;00m\u001b[38;5;21;01mpyplot\u001b[39;00m \u001b[38;5;28;01mas\u001b[39;00m \u001b[38;5;21;01mplt\u001b[39;00m\n\u001b[0;32m      9\u001b[0m \u001b[38;5;28;01mimport\u001b[39;00m \u001b[38;5;21;01mcv2\u001b[39;00m\n\u001b[1;32m---> 11\u001b[0m \u001b[38;5;28;01mfrom\u001b[39;00m \u001b[38;5;21;01mkwcoco_v2\u001b[39;00m \u001b[38;5;28;01mimport\u001b[39;00m COCO_dataset\n\u001b[0;32m     13\u001b[0m \u001b[38;5;28;01mdef\u001b[39;00m \u001b[38;5;21mshow_img\u001b[39m(img, title\u001b[38;5;241m=\u001b[39m\u001b[38;5;28;01mNone\u001b[39;00m):\n\u001b[0;32m     14\u001b[0m     fig, ax \u001b[38;5;241m=\u001b[39m plt\u001b[38;5;241m.\u001b[39msubplots(nrows\u001b[38;5;241m=\u001b[39m\u001b[38;5;241m1\u001b[39m, ncols\u001b[38;5;241m=\u001b[39m\u001b[38;5;241m1\u001b[39m, dpi\u001b[38;5;241m=\u001b[39m\u001b[38;5;241m150\u001b[39m)\n",
      "\u001b[1;31mModuleNotFoundError\u001b[0m: No module named 'kwcoco_v2'"
     ]
    }
   ],
   "source": [
    "%load_ext autoreload\n",
    "%autoreload 2\n",
    "%matplotlib inline\n",
    "\n",
    "from pathlib import Path\n",
    "from tqdm import tqdm\n",
    "import albumentations as A\n",
    "import matplotlib.pyplot as plt\n",
    "import cv2\n",
    "\n",
    "from kwcoco_v2 import COCO_dataset\n",
    "\n",
    "def show_img(img, title=None):\n",
    "    fig, ax = plt.subplots(nrows=1, ncols=1, dpi=150)\n",
    "    ax.set_title( title, fontsize=16, color='black')\n",
    "    ax.axes.xaxis.set_visible(False) # X軸を非表示に\n",
    "    ax.axes.yaxis.set_visible(False) # Y軸を非表示に\n",
    "    ax.imshow(img)\n",
    "    return fig, ax\n",
    "\n",
    "def get_transforms():\n",
    "\n",
    "    transform = A.Compose(\n",
    "        [\n",
    "            A.RandomCrop(width=330, height=330),\n",
    "            A.RandomBrightnessContrast(p=0.2),\n",
    "        ],\n",
    "        bbox_params=A.BboxParams(format='coco', label_fields=['category_ids']),\n",
    "        keypoint_params = A.KeypointParams(format='xy'),\n",
    "    )\n",
    "\n",
    "    return transform\n",
    "\n",
    "sample_coco_path = Path(\"../../sample_data/coco_sample_datasets/sample_coco_train2017/instances_train2017.json\")\n",
    "sample_coco = COCO_dataset(str(sample_coco_path))\n",
    "\n",
    "print(sample_coco)\n",
    "\n",
    "for imgId in tqdm(sample_coco.get_imgId_list()):\n",
    "    imgObj = sample_coco.image(imgId)\n",
    "    \n",
    "    show_img(sample_coco.get_vis_image(imgId))\n",
    "\n",
    "\n",
    "    print(imgObj.get_annotations())\n",
    "\n",
    "    img = imgObj.get_image()\n",
    "    catIds = imgObj.get_catIds()\n",
    "    bboxes = imgObj.get_bboxes()\n",
    "    masks = imgObj.get_masks()\n",
    "    keypoints = imgObj.get_keypoints()\n",
    "\n",
    "    print(catIds)\n",
    "    print(len(bboxes))\n",
    "    print(len(masks))\n",
    "    print(len(keypoints))\n",
    "    # vis_img = sample_coco.get_visualizer(imgId=imgId).draw(imgObj.get_annotations())\n",
    "\n",
    "    transform = get_transforms()\n",
    "\n",
    "    augmented = transform(image=img, bboxes=bboxes, keypoints=keypoints)\n",
    "    print(augmented)\n",
    "\n",
    "    break"
   ]
  }
 ],
 "metadata": {
  "kernelspec": {
   "display_name": "aiaug",
   "language": "python",
   "name": "python3"
  },
  "language_info": {
   "codemirror_mode": {
    "name": "ipython",
    "version": 3
   },
   "file_extension": ".py",
   "mimetype": "text/x-python",
   "name": "python",
   "nbconvert_exporter": "python",
   "pygments_lexer": "ipython3",
   "version": "3.11.5"
  },
  "orig_nbformat": 4
 },
 "nbformat": 4,
 "nbformat_minor": 2
}
