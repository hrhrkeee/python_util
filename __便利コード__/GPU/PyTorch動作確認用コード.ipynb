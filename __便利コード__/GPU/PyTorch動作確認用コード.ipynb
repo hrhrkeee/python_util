{
 "cells": [
  {
   "cell_type": "code",
   "execution_count": null,
   "metadata": {},
   "outputs": [],
   "source": [
    "import torch\n",
    "\n",
    "print(torch.__version__)\n",
    "print(f\"cuda, {torch.cuda.is_available()}\")\n",
    "print(f\"compute_{''.join(map(str,(torch.cuda.get_device_capability())))}\")\n",
    "device_num:int = torch.cuda.device_count()\n",
    "print(f\"find gpu devices, {device_num}\")\n",
    "for idx in range(device_num):\n",
    "    print(f\"cuda:{idx}, {torch.cuda.get_device_name(idx)}\")\n",
    "\n",
    "print(\"end\")"
   ]
  }
 ],
 "metadata": {
  "kernelspec": {
   "display_name": "detectron2",
   "language": "python",
   "name": "python3"
  },
  "language_info": {
   "codemirror_mode": {
    "name": "ipython",
    "version": 3
   },
   "file_extension": ".py",
   "mimetype": "text/x-python",
   "name": "python",
   "nbconvert_exporter": "python",
   "pygments_lexer": "ipython3",
   "version": "3.10.14"
  },
  "orig_nbformat": 4
 },
 "nbformat": 4,
 "nbformat_minor": 2
}
