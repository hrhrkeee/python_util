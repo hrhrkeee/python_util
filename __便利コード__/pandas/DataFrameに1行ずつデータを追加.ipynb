{
 "cells": [
  {
   "cell_type": "code",
   "execution_count": 1,
   "metadata": {},
   "outputs": [
    {
     "name": "stdout",
     "output_type": "stream",
     "text": [
      "   A  B  C\n",
      "0  1  2  3\n",
      "1  4  5  6\n",
      "2  7  8  9\n"
     ]
    }
   ],
   "source": [
    "%load_ext autoreload\n",
    "%autoreload 2\n",
    "%matplotlib inline\n",
    "\n",
    "import pandas as pd\n",
    "import numpy as np\n",
    "\n",
    "data1 = {\"A\":1, \"B\":2, \"C\":3}\n",
    "data2 = {\"A\":4, \"B\":5, \"C\":6}\n",
    "data3 = {\"A\":7, \"B\":8, \"C\":9}\n",
    "\n",
    "df = pd.DataFrame(columns=['A', 'B', 'C'])\n",
    "\n",
    "# 1度リストでまとめてから追加したほうが1番早いらしい\n",
    "df = pd.concat([df, pd.DataFrame([data1, data2, data3])], ignore_index=True)\n",
    "\n",
    "# これは使えなくなった\n",
    "# As of pandas 2.0, append (previously deprecated) was removed.\n",
    "# df = df.append([data1, data2, data3], ignore_index=True)\n",
    "\n",
    "print(df)\n"
   ]
  },
  {
   "cell_type": "code",
   "execution_count": 10,
   "metadata": {},
   "outputs": [
    {
     "name": "stderr",
     "output_type": "stream",
     "text": [
      "  0%|          | 0/100 [00:00<?, ?it/s]"
     ]
    },
    {
     "name": "stderr",
     "output_type": "stream",
     "text": [
      "100%|██████████| 100/100 [00:01<00:00, 60.29it/s]\n"
     ]
    },
    {
     "name": "stdout",
     "output_type": "stream",
     "text": [
      "        count        mean        std  min    25%    50%    75%    max height  \\\n",
      "0   1221120.0  154.767599  69.721401  0.0   96.0  171.0  211.0  255.0    636   \n",
      "1    725760.0  139.701306  47.535934  9.0   94.0  142.0  180.0  253.0    378   \n",
      "2    921600.0  122.646508  46.424238  0.0   88.0  127.0  160.0  255.0    480   \n",
      "3    921600.0  116.885978  55.643797  0.0   79.0  109.0  141.0  255.0    480   \n",
      "4    821760.0  179.487398  25.917846  0.0  165.0  179.0  199.0  233.0    428   \n",
      "..        ...         ...        ...  ...    ...    ...    ...    ...    ...   \n",
      "95  1228800.0   89.110936  95.659014  0.0    1.0   47.0  182.0  255.0    640   \n",
      "96   517500.0  116.002945  74.065565  0.0   49.0  106.0  184.0  255.0    345   \n",
      "97   971520.0  139.663336  64.347151  0.0   88.0  137.0  194.0  255.0    640   \n",
      "98   921600.0  116.215438  64.848528  0.0   73.0  100.0  151.0  255.0    640   \n",
      "99   919680.0   72.690810  60.733665  0.0   21.0   52.0  111.0  255.0    479   \n",
      "\n",
      "   width                                          file_name         file_path  \n",
      "0    640  ..\\..\\sample_data\\coco_sample_datasets\\sample_...  000000187976.jpg  \n",
      "1    640  ..\\..\\sample_data\\coco_sample_datasets\\sample_...  000000187978.jpg  \n",
      "2    640  ..\\..\\sample_data\\coco_sample_datasets\\sample_...  000000187979.jpg  \n",
      "3    640  ..\\..\\sample_data\\coco_sample_datasets\\sample_...  000000187986.jpg  \n",
      "4    640  ..\\..\\sample_data\\coco_sample_datasets\\sample_...  000000187989.jpg  \n",
      "..   ...                                                ...               ...  \n",
      "95   640  ..\\..\\sample_data\\coco_sample_datasets\\sample_...  000000544410.jpg  \n",
      "96   500  ..\\..\\sample_data\\coco_sample_datasets\\sample_...  000000544414.jpg  \n",
      "97   506  ..\\..\\sample_data\\coco_sample_datasets\\sample_...  000000544421.jpg  \n",
      "98   480  ..\\..\\sample_data\\coco_sample_datasets\\sample_...  000000544427.jpg  \n",
      "99   640  ..\\..\\sample_data\\coco_sample_datasets\\sample_...  000000544432.jpg  \n",
      "\n",
      "[100 rows x 12 columns]\n",
      "              count        mean         std     min         25%         50%  \\\n",
      "count  1.000000e+02  100.000000  100.000000  100.00  100.000000  100.000000   \n",
      "mean   8.431747e+05  111.855399   63.142253    0.09   60.010000  108.110000   \n",
      "std    1.551005e+05   30.146959   13.506914    0.90   34.467228   40.043889   \n",
      "min    4.965000e+05   17.139137   22.469354    0.00    0.000000    1.000000   \n",
      "25%    8.155200e+05   98.112061   54.885087    0.00   34.000000   84.500000   \n",
      "50%    8.217600e+05  110.734979   65.867996    0.00   58.000000  109.000000   \n",
      "75%    9.216000e+05  129.199697   71.330810    0.00   79.750000  131.500000   \n",
      "max    1.228800e+06  189.770452   95.659014    9.00  188.000000  206.000000   \n",
      "\n",
      "              75%         max  \n",
      "count  100.000000  100.000000  \n",
      "mean   160.320000  254.310000  \n",
      "std     41.292717    4.284562  \n",
      "min      5.000000  219.000000  \n",
      "25%    141.750000  255.000000  \n",
      "50%    163.000000  255.000000  \n",
      "75%    185.250000  255.000000  \n",
      "max    239.000000  255.000000  \n"
     ]
    }
   ],
   "source": [
    "# 画素値の統計量を計算する\n",
    "\n",
    "import cv2, random\n",
    "import pandas as pd\n",
    "from pathlib import Path\n",
    "from tqdm import tqdm\n",
    "\n",
    "# 画像の読み込み\n",
    "img_dir_path = Path(\"../../sample_data/coco_sample_datasets/sample_coco_train2017/\")\n",
    "\n",
    "result_df = pd.DataFrame()\n",
    "\n",
    "tmp_list = []\n",
    "for img_path in tqdm(list(img_dir_path.glob(\"*.jpg\"))):\n",
    "    img = cv2.imread(str(img_path))\n",
    "\n",
    "    statistics_dict = pd.Series(img.ravel()).describe().to_dict()\n",
    "    statistics_dict[\"height\"] = img.shape[0]\n",
    "    statistics_dict[\"width\"] = img.shape[1]\n",
    "    statistics_dict[\"file_name\"] = str(img_path)\n",
    "    statistics_dict[\"file_path\"] = str(img_path.name)\n",
    "\n",
    "    tmp_list.append(statistics_dict)\n",
    "\n",
    "    if result_df.columns.empty:\n",
    "        for key in statistics_dict.keys():\n",
    "            result_df[key] = None\n",
    "\n",
    "result_df = pd.concat([result_df, pd.DataFrame(tmp_list)], ignore_index=True)\n",
    "print(result_df)\n",
    "\n",
    "print(result_df.describe())\n"
   ]
  }
 ],
 "metadata": {
  "kernelspec": {
   "display_name": "yolov8",
   "language": "python",
   "name": "python3"
  },
  "language_info": {
   "codemirror_mode": {
    "name": "ipython",
    "version": 3
   },
   "file_extension": ".py",
   "mimetype": "text/x-python",
   "name": "python",
   "nbconvert_exporter": "python",
   "pygments_lexer": "ipython3",
   "version": "3.11.5"
  },
  "orig_nbformat": 4
 },
 "nbformat": 4,
 "nbformat_minor": 2
}
