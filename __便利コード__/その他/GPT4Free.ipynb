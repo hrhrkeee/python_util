{
 "cells": [
  {
   "cell_type": "code",
   "execution_count": 1,
   "metadata": {},
   "outputs": [
    {
     "name": "stdout",
     "output_type": "stream",
     "text": [
      "Collecting g4f\n",
      "  Obtaining dependency information for g4f from https://files.pythonhosted.org/packages/91/86/30f829eb994821d636b05736e293f87db0e7389efd64c424a43c7cc48535/g4f-0.2.4.0-py3-none-any.whl.metadata\n",
      "  Downloading g4f-0.2.4.0-py3-none-any.whl.metadata (35 kB)\n",
      "Requirement already satisfied: requests in c:\\users\\hiahara\\anaconda3\\lib\\site-packages (from g4f) (2.31.0)\n",
      "Requirement already satisfied: aiohttp in c:\\users\\hiahara\\anaconda3\\lib\\site-packages (from g4f) (3.8.5)\n",
      "Requirement already satisfied: attrs>=17.3.0 in c:\\users\\hiahara\\anaconda3\\lib\\site-packages (from aiohttp->g4f) (22.1.0)\n",
      "Requirement already satisfied: charset-normalizer<4.0,>=2.0 in c:\\users\\hiahara\\anaconda3\\lib\\site-packages (from aiohttp->g4f) (2.0.4)\n",
      "Requirement already satisfied: multidict<7.0,>=4.5 in c:\\users\\hiahara\\anaconda3\\lib\\site-packages (from aiohttp->g4f) (6.0.2)\n",
      "Requirement already satisfied: async-timeout<5.0,>=4.0.0a3 in c:\\users\\hiahara\\anaconda3\\lib\\site-packages (from aiohttp->g4f) (4.0.2)\n",
      "Requirement already satisfied: yarl<2.0,>=1.0 in c:\\users\\hiahara\\anaconda3\\lib\\site-packages (from aiohttp->g4f) (1.8.1)\n",
      "Requirement already satisfied: frozenlist>=1.1.1 in c:\\users\\hiahara\\anaconda3\\lib\\site-packages (from aiohttp->g4f) (1.3.3)\n",
      "Requirement already satisfied: aiosignal>=1.1.2 in c:\\users\\hiahara\\anaconda3\\lib\\site-packages (from aiohttp->g4f) (1.2.0)\n",
      "Requirement already satisfied: idna<4,>=2.5 in c:\\users\\hiahara\\anaconda3\\lib\\site-packages (from requests->g4f) (3.4)\n",
      "Requirement already satisfied: urllib3<3,>=1.21.1 in c:\\users\\hiahara\\anaconda3\\lib\\site-packages (from requests->g4f) (1.26.16)\n",
      "Requirement already satisfied: certifi>=2017.4.17 in c:\\users\\hiahara\\anaconda3\\lib\\site-packages (from requests->g4f) (2023.7.22)\n",
      "Downloading g4f-0.2.4.0-py3-none-any.whl (355 kB)\n",
      "   ---------------------------------------- 0.0/355.5 kB ? eta -:--:--\n",
      "   -------- ------------------------------- 71.7/355.5 kB 3.8 MB/s eta 0:00:01\n",
      "   ---------------------------------------- 355.5/355.5 kB 5.6 MB/s eta 0:00:00\n",
      "Installing collected packages: g4f\n",
      "Successfully installed g4f-0.2.4.0\n"
     ]
    }
   ],
   "source": [
    "! pip install -U g4f"
   ]
  },
  {
   "cell_type": "code",
   "execution_count": 2,
   "metadata": {},
   "outputs": [],
   "source": [
    "import g4f\n",
    "import nest_asyncio\n",
    "nest_asyncio.apply()\n",
    "\n",
    "def chatGPT4Free(prompt):\n",
    "    # normal response\n",
    "    response = g4f.ChatCompletion.create(\n",
    "        model=g4f.models.gpt_4,\n",
    "        provider=g4f.Provider.ChatgptAi,\n",
    "        messages=[{\"role\": \"user\", \"content\": prompt}],\n",
    "        stream=True,\n",
    "    ) \n",
    "\n",
    "    return \"\".join(response)"
   ]
  },
  {
   "cell_type": "code",
   "execution_count": 3,
   "metadata": {},
   "outputs": [
    {
     "name": "stdout",
     "output_type": "stream",
     "text": [
      "StableDiffusionの誤差関数は一般的には、平均二乗誤差（Mean Squared Error, MSE）やクロスエントロピー誤差（Cross-Entropy Error）などが使われることが一般的です。これらの誤差関数は、モデルの出力と正解ラベルとの間の差を評価するために使用され、モデルの訓練や評価に役立ちます。もしご質問が他にもあればお知らせくださいね。どうぞお気軽にお尋ねください。\n"
     ]
    }
   ],
   "source": [
    "prompt = \"3+1は？\"\n",
    "prompt = \"StableDiffusionの誤差関数は何を使っている？\"\n",
    "\n",
    "print(chatGPT4Free(prompt))"
   ]
  },
  {
   "cell_type": "code",
   "execution_count": 4,
   "metadata": {},
   "outputs": [
    {
     "name": "stdout",
     "output_type": "stream",
     "text": [
      "こんにちは！この画像はデータの配列ですね。配列の各要素はRGB値を表しています。RGB値を組み合わせることで、色情報が得られます。この画像が何を表しているかは、RGB値を解釈して表示する必要があります。何か他にこの画像について知りたいことがありますか？お手伝いできることがあれば教えてくださいね！\n"
     ]
    }
   ],
   "source": [
    "import cv2\n",
    "\n",
    "img = cv2.imread(\"../sample_data/sample_jpg.jpg\")\n",
    "\n",
    "\n",
    "prompt = f\"添付の画像はなんの画像？\\n{img}\"\n",
    "\n",
    "print(chatGPT4Free(prompt))"
   ]
  },
  {
   "cell_type": "code",
   "execution_count": 5,
   "metadata": {},
   "outputs": [
    {
     "name": "stdout",
     "output_type": "stream",
     "text": [
      "こんにちは！お元気ですか？何かお手伝いできることはありますか？\n"
     ]
    }
   ],
   "source": [
    "\n",
    "\n",
    "# print(g4f.Provider.Ails.params)  # supported args\n",
    "\n",
    "# normal response\n",
    "response = g4f.ChatCompletion.create(\n",
    "    model=g4f.models.gpt_4,\n",
    "    provider=g4f.Provider.ChatgptAi,\n",
    "    messages=[{\"role\": \"user\", \"content\": \"こんにちは\"}],\n",
    "    stream=True,\n",
    ") \n",
    "\n",
    "print(\"\".join(response))\n",
    "\n",
    "for message in response:\n",
    "    print(message, end=\"\")"
   ]
  }
 ],
 "metadata": {
  "kernelspec": {
   "display_name": "aiaug",
   "language": "python",
   "name": "python3"
  },
  "language_info": {
   "codemirror_mode": {
    "name": "ipython",
    "version": 3
   },
   "file_extension": ".py",
   "mimetype": "text/x-python",
   "name": "python",
   "nbconvert_exporter": "python",
   "pygments_lexer": "ipython3",
   "version": "3.11.5"
  },
  "orig_nbformat": 4
 },
 "nbformat": 4,
 "nbformat_minor": 2
}
