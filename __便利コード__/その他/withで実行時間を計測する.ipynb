{
 "cells": [
  {
   "cell_type": "code",
   "execution_count": 18,
   "metadata": {},
   "outputs": [
    {
     "name": "stdout",
     "output_type": "stream",
     "text": [
      "elapsed_time:1.001442[sec]\n",
      "timer:\telapsed_time:2.000342[sec]\n",
      "0\n",
      "1\n",
      "3003\n"
     ]
    }
   ],
   "source": [
    "import time\n",
    "class Exec_Timer:\n",
    "    def __init__(self, output=True, desc:str=\"\"):\n",
    "        if len(desc)>0: desc = desc + \":\\t\"\n",
    "        self.desc = desc\n",
    "        self.output = output\n",
    "    def __call__(self):    \n",
    "        return float(time.time()-self.start)\n",
    "    def __enter__(self):    \n",
    "        self.start = time.time()\n",
    "        return self\n",
    "    def __exit__(self,*args): \n",
    "        if self.output:\n",
    "            print (\"{}elapsed_time:{:.06f}\".format(self.desc, time.time()-self.start)+\"[sec]\")\n",
    "        return True\n",
    "\n",
    "if __name__ == '__main__':\n",
    "    with Exec_Timer():\n",
    "        time.sleep(1)\n",
    "    with Exec_Timer(desc=\"timer\"):\n",
    "        time.sleep(2)\n",
    "\n",
    "    with Exec_Timer(output=False) as t:\n",
    "        print(int(t()))\n",
    "        time.sleep(1)\n",
    "        print(int(t()))\n",
    "        time.sleep(2)\n",
    "        print(int(t()*1000))"
   ]
  }
 ],
 "metadata": {
  "kernelspec": {
   "display_name": "Python 3.9.12 ('detr')",
   "language": "python",
   "name": "python3"
  },
  "language_info": {
   "codemirror_mode": {
    "name": "ipython",
    "version": 3
   },
   "file_extension": ".py",
   "mimetype": "text/x-python",
   "name": "python",
   "nbconvert_exporter": "python",
   "pygments_lexer": "ipython3",
   "version": "3.9.12"
  },
  "orig_nbformat": 4,
  "vscode": {
   "interpreter": {
    "hash": "88df7dddc364b8601feb4ab466babb439259fc75e2094306c233b727644e85b8"
   }
  }
 },
 "nbformat": 4,
 "nbformat_minor": 2
}
