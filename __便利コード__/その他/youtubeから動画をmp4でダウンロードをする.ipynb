{
 "cells": [
  {
   "attachments": {},
   "cell_type": "markdown",
   "metadata": {},
   "source": [
    "# yt_dlp\n",
    "\n",
    "参考サイト：\n",
    "[https://masayoshi-9a7ee.hatenablog.com/entry/2021/11/06/112639](https://masayoshi-9a7ee.hatenablog.com/entry/2021/11/06/112639)"
   ]
  },
  {
   "cell_type": "code",
   "execution_count": null,
   "metadata": {},
   "outputs": [],
   "source": [
    "! pip install -U yt_dlp"
   ]
  },
  {
   "cell_type": "markdown",
   "metadata": {},
   "source": [
    "# 【旧版】"
   ]
  },
  {
   "cell_type": "code",
   "execution_count": null,
   "metadata": {},
   "outputs": [],
   "source": [
    "from yt_dlp import YoutubeDL\n",
    "from pathlib import Path\n",
    "\n",
    "output_dir = Path(\"./output/youtube/\")\n",
    "if not output_dir.exists():\n",
    "  output_dir.mkdir(parents=True)\n",
    "\n",
    "youtube_video_URL_list = [\n",
    "  \"https://www.youtube.com/watch?v=XXXXXXXXXXX\", # single video\n",
    "  # \"https://www.youtube.com/watch?v=XXXXXXXXXXX\", # playlist\n",
    "]\n",
    "\n",
    "ydl_opts = {\n",
    "            'format': 'bestvideo/best',\n",
    "            'outtmpl': f'{str(output_dir)}/%(uploader)s/%(upload_date)s_%(title)s_%(id)s.%(ext)s',\n",
    "            }\n",
    "\n",
    "with YoutubeDL(ydl_opts) as ydl:\n",
    "    result = ydl.download(youtube_video_URL_list)"
   ]
  },
  {
   "cell_type": "markdown",
   "metadata": {},
   "source": [
    "# 【新版】"
   ]
  },
  {
   "cell_type": "code",
   "execution_count": 1,
   "metadata": {},
   "outputs": [],
   "source": [
    "import sys\n",
    "import yt_dlp\n",
    "from tqdm import tqdm\n",
    "from pathlib import Path\n",
    "\n",
    "def download_youtube_video(url, output_dir = Path(\"./output/youtube/\")):\n",
    "    \"\"\"\n",
    "    指定した YouTube 動画を H.264 + AAC の MP4 ファイルとしてダウンロードする。\n",
    "    \"\"\"\n",
    "    \n",
    "    if not output_dir.exists():\n",
    "        output_dir.mkdir(parents=True)\n",
    "\n",
    "    # tqdmのインスタンスを先に作成\n",
    "    pbar = tqdm(\n",
    "        total=0, \n",
    "        unit='B', \n",
    "        unit_scale=True, \n",
    "        desc='Downloading', \n",
    "        leave=True\n",
    "    )\n",
    "\n",
    "    def download_progress_hook(d):\n",
    "\n",
    "        if d['status'] == 'downloading':\n",
    "            # 合計サイズ (Byte) がわかっていれば反映\n",
    "            if d.get('total_bytes'):\n",
    "                pbar.total = d['total_bytes']\n",
    "            elif d.get('total_bytes_estimate'):\n",
    "                pbar.total = d['total_bytes_estimate']\n",
    "\n",
    "            # ダウンロード済みサイズ (Byte) を反映\n",
    "            if d.get('downloaded_bytes'):\n",
    "                pbar.n = d['downloaded_bytes']\n",
    "                pbar.refresh()\n",
    "\n",
    "            pbar.set_postfix_str(f\"title=\\\"{d['info_dict']['title']}\\\", ext={d['info_dict']['ext']}\")\n",
    "            \n",
    "        elif d['status'] == 'finished':\n",
    "            print()\n",
    "            pbar.refresh()\n",
    "\n",
    "    # yt_dlp に渡すためのカスタムlogger（標準出力へのログを抑制）\n",
    "    class TqdmLogger(object):\n",
    "        def debug(self, msg):\n",
    "            pass\n",
    "        def warning(self, msg):\n",
    "            pass\n",
    "        def error(self, msg):\n",
    "            sys.stderr.write(msg + '\\n')\n",
    "\n",
    "    # ダウンロードオプション\n",
    "    ydl_opts = {\n",
    "        'format': 'bestvideo[ext=mp4][vcodec^=avc1]+bestaudio[ext=m4a]/mp4',\n",
    "        'outtmpl': f'{str(output_dir)}/%(uploader)s/%(upload_date)s_%(title)s_%(id)s.%(ext)s',\n",
    "        'merge_output_format': 'mp4',\n",
    "        'logger': TqdmLogger(),\n",
    "        'quiet': True,\n",
    "        'no_warnings': True,\n",
    "        'progress_hooks': [download_progress_hook]\n",
    "    }\n",
    "\n",
    "    with yt_dlp.YoutubeDL(ydl_opts) as ydl:\n",
    "        ydl.download([url])\n"
   ]
  },
  {
   "cell_type": "code",
   "execution_count": null,
   "metadata": {},
   "outputs": [],
   "source": [
    "output_dir = Path(\"./output/youtube/\")\n",
    "youtube_video_url = \"https://www.youtube.com/watch?v=XXXXXXXXXXX\"\n",
    "download_youtube_video(youtube_video_url, output_dir)"
   ]
  },
  {
   "cell_type": "code",
   "execution_count": null,
   "metadata": {},
   "outputs": [],
   "source": []
  }
 ],
 "metadata": {
  "kernelspec": {
   "display_name": "base",
   "language": "python",
   "name": "python3"
  },
  "language_info": {
   "codemirror_mode": {
    "name": "ipython",
    "version": 3
   },
   "file_extension": ".py",
   "mimetype": "text/x-python",
   "name": "python",
   "nbconvert_exporter": "python",
   "pygments_lexer": "ipython3",
   "version": "3.12.7"
  },
  "orig_nbformat": 4,
  "vscode": {
   "interpreter": {
    "hash": "fa2f96632c26e4583eddb82ce107102ca08c138a0247e012846b56405a616993"
   }
  }
 },
 "nbformat": 4,
 "nbformat_minor": 2
}
