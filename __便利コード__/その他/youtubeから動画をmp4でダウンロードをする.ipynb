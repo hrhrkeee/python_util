{
 "cells": [
  {
   "attachments": {},
   "cell_type": "markdown",
   "metadata": {},
   "source": [
    "# yt_dlp\n",
    "\n",
    "参考サイト：\n",
    "[https://masayoshi-9a7ee.hatenablog.com/entry/2021/11/06/112639](https://masayoshi-9a7ee.hatenablog.com/entry/2021/11/06/112639)"
   ]
  },
  {
   "cell_type": "code",
   "execution_count": 2,
   "metadata": {},
   "outputs": [
    {
     "name": "stdout",
     "output_type": "stream",
     "text": [
      "Requirement already satisfied: yt_dlp in c:\\users\\hiahara\\anaconda3\\lib\\site-packages (2024.3.10)\n",
      "Requirement already satisfied: brotli in c:\\users\\hiahara\\anaconda3\\lib\\site-packages (from yt_dlp) (1.1.0)\n",
      "Requirement already satisfied: certifi in c:\\users\\hiahara\\anaconda3\\lib\\site-packages (from yt_dlp) (2023.7.22)\n",
      "Requirement already satisfied: mutagen in c:\\users\\hiahara\\anaconda3\\lib\\site-packages (from yt_dlp) (1.47.0)\n",
      "Requirement already satisfied: pycryptodomex in c:\\users\\hiahara\\anaconda3\\lib\\site-packages (from yt_dlp) (3.20.0)\n",
      "Requirement already satisfied: requests<3,>=2.31.0 in c:\\users\\hiahara\\anaconda3\\lib\\site-packages (from yt_dlp) (2.31.0)\n",
      "Requirement already satisfied: urllib3<3,>=1.26.17 in c:\\users\\hiahara\\anaconda3\\lib\\site-packages (from yt_dlp) (2.2.1)\n",
      "Requirement already satisfied: websockets>=12.0 in c:\\users\\hiahara\\anaconda3\\lib\\site-packages (from yt_dlp) (12.0)\n",
      "Requirement already satisfied: charset-normalizer<4,>=2 in c:\\users\\hiahara\\anaconda3\\lib\\site-packages (from requests<3,>=2.31.0->yt_dlp) (2.0.4)\n",
      "Requirement already satisfied: idna<4,>=2.5 in c:\\users\\hiahara\\anaconda3\\lib\\site-packages (from requests<3,>=2.31.0->yt_dlp) (3.4)\n"
     ]
    }
   ],
   "source": [
    "! pip install -U yt_dlp"
   ]
  },
  {
   "cell_type": "code",
   "execution_count": 2,
   "metadata": {},
   "outputs": [
    {
     "name": "stdout",
     "output_type": "stream",
     "text": [
      "[youtube:tab] Extracting URL: https://youtube.com/playlist?list=PLYEdbQwYrZb_Z6D4qnlURh3reZPHRG-9q&si=UwZNPprcSWsUSiZ6\n",
      "[youtube:tab] PLYEdbQwYrZb_Z6D4qnlURh3reZPHRG-9q: Downloading webpage\n",
      "[youtube:tab] PLYEdbQwYrZb_Z6D4qnlURh3reZPHRG-9q: Redownloading playlist API JSON with unavailable videos\n",
      "[download] Downloading playlist: Short Video Clips\n",
      "[youtube:tab] PLYEdbQwYrZb_Z6D4qnlURh3reZPHRG-9q page 1: Downloading API JSON\n"
     ]
    },
    {
     "name": "stderr",
     "output_type": "stream",
     "text": [
      "WARNING: [youtube:tab] Incomplete data received. Retrying (1/3)...\n"
     ]
    },
    {
     "name": "stdout",
     "output_type": "stream",
     "text": [
      "[youtube:tab] PLYEdbQwYrZb_Z6D4qnlURh3reZPHRG-9q page 1: Downloading API JSON\n"
     ]
    },
    {
     "name": "stderr",
     "output_type": "stream",
     "text": [
      "WARNING: [youtube:tab] Incomplete data received. Retrying (2/3)...\n"
     ]
    },
    {
     "name": "stdout",
     "output_type": "stream",
     "text": [
      "[youtube:tab] PLYEdbQwYrZb_Z6D4qnlURh3reZPHRG-9q page 1: Downloading API JSON\n"
     ]
    },
    {
     "name": "stderr",
     "output_type": "stream",
     "text": [
      "WARNING: [youtube:tab] Incomplete data received. Retrying (3/3)...\n"
     ]
    },
    {
     "name": "stdout",
     "output_type": "stream",
     "text": [
      "[youtube:tab] PLYEdbQwYrZb_Z6D4qnlURh3reZPHRG-9q page 1: Downloading API JSON\n"
     ]
    },
    {
     "name": "stderr",
     "output_type": "stream",
     "text": [
      "WARNING: [youtube:tab] Incomplete data received. Giving up after 3 retries\n"
     ]
    },
    {
     "name": "stdout",
     "output_type": "stream",
     "text": [
      "[youtube:tab] Playlist Short Video Clips: Downloading 17 items of 17\n",
      "[download] Downloading item 1 of 17\n",
      "[youtube] Extracting URL: https://www.youtube.com/watch?v=-TBavKPslwM\n",
      "[youtube] -TBavKPslwM: Downloading webpage\n",
      "[youtube] -TBavKPslwM: Downloading ios player API JSON\n",
      "[youtube] -TBavKPslwM: Downloading android player API JSON\n",
      "[youtube] -TBavKPslwM: Downloading m3u8 information\n",
      "[info] -TBavKPslwM: Downloading 1 format(s): 248\n",
      "[download] Destination: output\\youtube\\IPC Worldwide\\20200922_Incomparable steam ｜ One step ahead_-TBavKPslwM.webm\n",
      "[download] 100% of    1.48MiB in 00:00:01 at 1.48MiB/s   \n",
      "[download] Downloading item 2 of 17\n",
      "[youtube] Extracting URL: https://www.youtube.com/watch?v=Jdxvg3qMQVg\n",
      "[youtube] Jdxvg3qMQVg: Downloading webpage\n",
      "[youtube] Jdxvg3qMQVg: Downloading ios player API JSON\n",
      "[youtube] Jdxvg3qMQVg: Downloading android player API JSON\n",
      "[youtube] Jdxvg3qMQVg: Downloading m3u8 information\n",
      "[info] Jdxvg3qMQVg: Downloading 1 format(s): 248\n",
      "[download] Destination: output\\youtube\\IPC Worldwide\\20200922_Curvy Handle ｜ Cleaning without efforts_Jdxvg3qMQVg.webm\n",
      "[download] 100% of  640.56KiB in 00:00:01 at 481.79KiB/s \n",
      "[download] Downloading item 3 of 17\n",
      "[youtube] Extracting URL: https://www.youtube.com/watch?v=hpU0Ceho4X0\n",
      "[youtube] hpU0Ceho4X0: Downloading webpage\n",
      "[youtube] hpU0Ceho4X0: Downloading ios player API JSON\n",
      "[youtube] hpU0Ceho4X0: Downloading android player API JSON\n",
      "[youtube] hpU0Ceho4X0: Downloading m3u8 information\n",
      "[info] hpU0Ceho4X0: Downloading 1 format(s): 248\n",
      "[download] Destination: output\\youtube\\IPC Worldwide\\20200922_All in one. Vacuum to spray ｜ Application video_hpU0Ceho4X0.webm\n",
      "[download] 100% of    7.60MiB in 00:00:04 at 1.89MiB/s   \n",
      "[download] Downloading item 4 of 17\n",
      "[youtube] Extracting URL: https://www.youtube.com/watch?v=swqf4bub4uM\n",
      "[youtube] swqf4bub4uM: Downloading webpage\n",
      "[youtube] swqf4bub4uM: Downloading ios player API JSON\n",
      "[youtube] swqf4bub4uM: Downloading android player API JSON\n",
      "[youtube] swqf4bub4uM: Downloading m3u8 information\n",
      "[info] swqf4bub4uM: Downloading 1 format(s): 248\n",
      "[download] Destination: output\\youtube\\IPC Worldwide\\20200922_All in one. Vacuum to spray ｜ One step ahead_swqf4bub4uM.webm\n",
      "[download] 100% of    1.92MiB in 00:00:01 at 1.23MiB/s   \n",
      "[download] Downloading item 5 of 17\n",
      "[youtube] Extracting URL: https://www.youtube.com/watch?v=ZwR2ub8Zf3U\n",
      "[youtube] ZwR2ub8Zf3U: Downloading webpage\n",
      "[youtube] ZwR2ub8Zf3U: Downloading ios player API JSON\n",
      "[youtube] ZwR2ub8Zf3U: Downloading android player API JSON\n",
      "[youtube] ZwR2ub8Zf3U: Downloading m3u8 information\n",
      "[info] ZwR2ub8Zf3U: Downloading 1 format(s): 137\n",
      "[download] Destination: output\\youtube\\IPC Worldwide\\20200924_Telematic GPS ｜ Your Scrubber fleet in a click_ZwR2ub8Zf3U.mp4\n",
      "[download] 100% of    7.01MiB in 00:00:07 at 984.73KiB/s \n",
      "[download] Downloading item 6 of 17\n",
      "[youtube] Extracting URL: https://www.youtube.com/watch?v=6SxpX5-RRaY\n",
      "[youtube] 6SxpX5-RRaY: Downloading webpage\n",
      "[youtube] 6SxpX5-RRaY: Downloading ios player API JSON\n",
      "[youtube] 6SxpX5-RRaY: Downloading android player API JSON\n",
      "[youtube] 6SxpX5-RRaY: Downloading m3u8 information\n",
      "[info] 6SxpX5-RRaY: Downloading 1 format(s): 248\n",
      "[download] Destination: output\\youtube\\IPC Worldwide\\20201102_Hygiene Trolleys_6SxpX5-RRaY.webm\n",
      "[download] 100% of    1.44MiB in 00:00:01 at 1014.76KiB/s\n",
      "[download] Downloading item 7 of 17\n",
      "[youtube] Extracting URL: https://www.youtube.com/watch?v=O6Zh02xVlBU\n",
      "[youtube] O6Zh02xVlBU: Downloading webpage\n",
      "[youtube] O6Zh02xVlBU: Downloading ios player API JSON\n",
      "[youtube] O6Zh02xVlBU: Downloading android player API JSON\n",
      "[youtube] O6Zh02xVlBU: Downloading m3u8 information\n",
      "[info] O6Zh02xVlBU: Downloading 1 format(s): 248\n",
      "[download] Destination: output\\youtube\\IPC Worldwide\\20201110_Silver Range： Industrial Vacuum Cleaners_O6Zh02xVlBU.webm\n",
      "[download] 100% of    4.69MiB in 00:00:03 at 1.40MiB/s   \n",
      "[download] Downloading item 8 of 17\n",
      "[youtube] Extracting URL: https://www.youtube.com/watch?v=-gZc4Kj8B1Q\n",
      "[youtube] -gZc4Kj8B1Q: Downloading webpage\n",
      "[youtube] -gZc4Kj8B1Q: Downloading ios player API JSON\n",
      "[youtube] -gZc4Kj8B1Q: Downloading android player API JSON\n",
      "[youtube] -gZc4Kj8B1Q: Downloading m3u8 information\n",
      "[info] -gZc4Kj8B1Q: Downloading 1 format(s): 248\n",
      "[download] Destination: output\\youtube\\IPC Worldwide\\20220208_CT51-CT71： Service_-gZc4Kj8B1Q.webm\n",
      "[download] 100% of    3.31MiB in 00:00:01 at 1.67MiB/s   \n",
      "[download] Downloading item 9 of 17\n",
      "[youtube] Extracting URL: https://www.youtube.com/watch?v=C68X4TPVV8Y\n",
      "[youtube] C68X4TPVV8Y: Downloading webpage\n",
      "[youtube] C68X4TPVV8Y: Downloading ios player API JSON\n",
      "[youtube] C68X4TPVV8Y: Downloading android player API JSON\n",
      "[youtube] C68X4TPVV8Y: Downloading m3u8 information\n",
      "[info] C68X4TPVV8Y: Downloading 1 format(s): 248\n",
      "[download] Destination: output\\youtube\\IPC Worldwide\\20220208_CT51-CT71： Modular_C68X4TPVV8Y.webm\n",
      "[download] 100% of    2.78MiB in 00:00:02 at 1.11MiB/s   \n",
      "[download] Downloading item 10 of 17\n",
      "[youtube] Extracting URL: https://www.youtube.com/watch?v=l1jdA8VasWw\n",
      "[youtube] l1jdA8VasWw: Downloading webpage\n",
      "[youtube] l1jdA8VasWw: Downloading ios player API JSON\n",
      "[youtube] l1jdA8VasWw: Downloading android player API JSON\n",
      "[youtube] l1jdA8VasWw: Downloading m3u8 information\n",
      "[info] l1jdA8VasWw: Downloading 1 format(s): 248\n",
      "[download] Destination: output\\youtube\\IPC Worldwide\\20220208_CT51-CT71： Intuitive_l1jdA8VasWw.webm\n",
      "[download] 100% of    2.73MiB in 00:00:01 at 1.52MiB/s     \n",
      "[download] Downloading item 11 of 17\n",
      "[youtube] Extracting URL: https://www.youtube.com/watch?v=jKwEnQ1Mipo\n",
      "[youtube] jKwEnQ1Mipo: Downloading webpage\n",
      "[youtube] jKwEnQ1Mipo: Downloading ios player API JSON\n",
      "[youtube] jKwEnQ1Mipo: Downloading android player API JSON\n",
      "[youtube] jKwEnQ1Mipo: Downloading m3u8 information\n",
      "[info] jKwEnQ1Mipo: Downloading 1 format(s): 137\n",
      "[download] Destination: output\\youtube\\IPC Worldwide\\20220208_CT51-CT71： Ergonomics_jKwEnQ1Mipo.mp4\n",
      "[download] 100% of    3.74MiB in 00:00:02 at 1.39MiB/s   \n",
      "[download] Downloading item 12 of 17\n",
      "[youtube] Extracting URL: https://www.youtube.com/watch?v=mHFWSvgBXKc\n",
      "[youtube] mHFWSvgBXKc: Downloading webpage\n",
      "[youtube] mHFWSvgBXKc: Downloading ios player API JSON\n",
      "[youtube] mHFWSvgBXKc: Downloading android player API JSON\n",
      "[youtube] mHFWSvgBXKc: Downloading m3u8 information\n",
      "[info] mHFWSvgBXKc: Downloading 1 format(s): 248\n",
      "[download] Destination: output\\youtube\\IPC Worldwide\\20220208_CT51-CT71： Connected_mHFWSvgBXKc.webm\n",
      "[download] 100% of    2.60MiB in 00:00:02 at 1.19MiB/s   \n",
      "[download] Downloading item 13 of 17\n",
      "[youtube] Extracting URL: https://www.youtube.com/watch?v=_PxIgq67RMI\n",
      "[youtube] _PxIgq67RMI: Downloading webpage\n",
      "[youtube] _PxIgq67RMI: Downloading ios player API JSON\n",
      "[youtube] _PxIgq67RMI: Downloading android player API JSON\n",
      "[youtube] _PxIgq67RMI: Downloading m3u8 information\n",
      "[info] _PxIgq67RMI: Downloading 1 format(s): 248\n",
      "[download] Destination: output\\youtube\\IPC Worldwide\\20220208_CT51-CT71： Connessa__PxIgq67RMI.webm\n",
      "[download] 100% of    2.50MiB in 00:00:02 at 1.02MiB/s   \n",
      "[download] Downloading item 14 of 17\n",
      "[youtube] Extracting URL: https://www.youtube.com/watch?v=kWmv6H0fM6A\n",
      "[youtube] kWmv6H0fM6A: Downloading webpage\n",
      "[youtube] kWmv6H0fM6A: Downloading ios player API JSON\n",
      "[youtube] kWmv6H0fM6A: Downloading android player API JSON\n",
      "[youtube] kWmv6H0fM6A: Downloading m3u8 information\n",
      "[info] kWmv6H0fM6A: Downloading 1 format(s): 137\n",
      "[download] Destination: output\\youtube\\IPC Worldwide\\20220208_CT51-CT71： Ergonomica_kWmv6H0fM6A.mp4\n",
      "[download] 100% of    3.75MiB in 00:00:02 at 1.43MiB/s   \n",
      "[download] Downloading item 15 of 17\n",
      "[youtube] Extracting URL: https://www.youtube.com/watch?v=WAGDSWY7yeA\n",
      "[youtube] WAGDSWY7yeA: Downloading webpage\n",
      "[youtube] WAGDSWY7yeA: Downloading ios player API JSON\n",
      "[youtube] WAGDSWY7yeA: Downloading android player API JSON\n",
      "[youtube] WAGDSWY7yeA: Downloading m3u8 information\n",
      "[info] WAGDSWY7yeA: Downloading 1 format(s): 248\n",
      "[download] Destination: output\\youtube\\IPC Worldwide\\20220208_CT51-CT71： Intuitiva_WAGDSWY7yeA.webm\n",
      "[download] 100% of    2.66MiB in 00:00:02 at 1.12MiB/s   \n",
      "[download] Downloading item 16 of 17\n",
      "[youtube] Extracting URL: https://www.youtube.com/watch?v=Naz5cpghsrk\n",
      "[youtube] Naz5cpghsrk: Downloading webpage\n",
      "[youtube] Naz5cpghsrk: Downloading ios player API JSON\n",
      "[youtube] Naz5cpghsrk: Downloading android player API JSON\n",
      "[youtube] Naz5cpghsrk: Downloading m3u8 information\n",
      "[info] Naz5cpghsrk: Downloading 1 format(s): 248\n",
      "[download] Destination: output\\youtube\\IPC Worldwide\\20220208_CT51-CT71： Modulare_Naz5cpghsrk.webm\n",
      "[download] 100% of    2.82MiB in 00:00:01 at 1.77MiB/s   \n",
      "[download] Downloading item 17 of 17\n",
      "[youtube] Extracting URL: https://www.youtube.com/watch?v=ga9Ktbj4yfw\n",
      "[youtube] ga9Ktbj4yfw: Downloading webpage\n",
      "[youtube] ga9Ktbj4yfw: Downloading ios player API JSON\n",
      "[youtube] ga9Ktbj4yfw: Downloading android player API JSON\n",
      "[youtube] ga9Ktbj4yfw: Downloading m3u8 information\n",
      "[info] ga9Ktbj4yfw: Downloading 1 format(s): 248\n",
      "[download] Destination: output\\youtube\\IPC Worldwide\\20220208_CT51-CT71： Service_ga9Ktbj4yfw.webm\n",
      "[download] 100% of    3.34MiB in 00:00:00 at 3.61MiB/s   \n",
      "[download] Finished downloading playlist: Short Video Clips\n"
     ]
    }
   ],
   "source": [
    "from yt_dlp import YoutubeDL\n",
    "from pathlib import Path\n",
    "\n",
    "output_dir = Path(\"./output/youtube/\")\n",
    "if not output_dir.exists():\n",
    "  output_dir.mkdir(parents=True)\n",
    "\n",
    "youtube_video_URL_list = [\n",
    "  # \"https://www.youtube.com/watch?v=HUq6RSHQ434\", # single video\n",
    "  \"https://youtube.com/playlist?list=PLYEdbQwYrZb_Z6D4qnlURh3reZPHRG-9q&si=UwZNPprcSWsUSiZ6\", # playlist\n",
    "]\n",
    "\n",
    "ydl_opts = {\n",
    "            'format': 'bestvideo/best',\n",
    "            'outtmpl': f'{str(output_dir)}/%(uploader)s/%(upload_date)s_%(title)s_%(id)s.%(ext)s',\n",
    "            }\n",
    "\n",
    "with YoutubeDL(ydl_opts) as ydl:\n",
    "    result = ydl.download(youtube_video_URL_list)"
   ]
  }
 ],
 "metadata": {
  "kernelspec": {
   "display_name": "base",
   "language": "python",
   "name": "python3"
  },
  "language_info": {
   "codemirror_mode": {
    "name": "ipython",
    "version": 3
   },
   "file_extension": ".py",
   "mimetype": "text/x-python",
   "name": "python",
   "nbconvert_exporter": "python",
   "pygments_lexer": "ipython3",
   "version": "3.11.5"
  },
  "orig_nbformat": 4,
  "vscode": {
   "interpreter": {
    "hash": "fa2f96632c26e4583eddb82ce107102ca08c138a0247e012846b56405a616993"
   }
  }
 },
 "nbformat": 4,
 "nbformat_minor": 2
}
