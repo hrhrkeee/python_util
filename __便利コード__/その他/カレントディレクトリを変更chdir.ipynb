{
 "cells": [
  {
   "cell_type": "code",
   "execution_count": 3,
   "metadata": {},
   "outputs": [
    {
     "name": "stdout",
     "output_type": "stream",
     "text": [
      "getcwd:       /home/dnn20/hirahara\n",
      "__file__:     /home/dnn20/hirahara\n",
      "getcwd:       /home/dnn20\n"
     ]
    }
   ],
   "source": [
    "import os, sys\n",
    "from pathlib import Path\n",
    "\n",
    "\n",
    "ROOT_DIR = os.path.abspath(\"../\")\n",
    "sys.path.append(ROOT_DIR)  # To find local version of the library\n",
    "ROOT_DIR = os.path.abspath(\"../GPU/\")\n",
    "sys.path.append(ROOT_DIR)  # To find local version of the library\n",
    "\n",
    "print('getcwd:      ', os.getcwd())\n",
    "print('__file__:    ', Path().resolve())\n",
    "\n",
    "os.chdir(os.path.dirname(Path().resolve()))\n",
    "# os.chdir(\"./GPU\")\n",
    "\n",
    "print('getcwd:      ', os.getcwd())"
   ]
  }
 ],
 "metadata": {
  "kernelspec": {
   "display_name": "aiaug",
   "language": "python",
   "name": "python3"
  },
  "language_info": {
   "codemirror_mode": {
    "name": "ipython",
    "version": 3
   },
   "file_extension": ".py",
   "mimetype": "text/x-python",
   "name": "python",
   "nbconvert_exporter": "python",
   "pygments_lexer": "ipython3",
   "version": "3.9.12"
  },
  "orig_nbformat": 4
 },
 "nbformat": 4,
 "nbformat_minor": 2
}
