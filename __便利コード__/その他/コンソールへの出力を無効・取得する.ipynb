{
 "cells": [
  {
   "cell_type": "code",
   "execution_count": 1,
   "metadata": {},
   "outputs": [],
   "source": [
    "import contextlib\n",
    "from io import StringIO\n",
    "import pip"
   ]
  },
  {
   "cell_type": "markdown",
   "metadata": {},
   "source": [
    "### 通常の出力"
   ]
  },
  {
   "cell_type": "code",
   "execution_count": 2,
   "metadata": {},
   "outputs": [
    {
     "name": "stdout",
     "output_type": "stream",
     "text": [
      "Help on package pip:\n",
      "\n",
      "NAME\n",
      "    pip\n",
      "\n",
      "PACKAGE CONTENTS\n",
      "    __main__\n",
      "    __pip-runner__\n",
      "    _internal (package)\n",
      "    _vendor (package)\n",
      "\n",
      "FUNCTIONS\n",
      "    main(args: Optional[List[str]] = None) -> int\n",
      "        This is an internal API only meant for use by pip's own console scripts.\n",
      "        \n",
      "        For additional details, see https://github.com/pypa/pip/issues/7498.\n",
      "\n",
      "DATA\n",
      "    List = typing.List\n",
      "        A generic version of list.\n",
      "    \n",
      "    Optional = typing.Optional\n",
      "        Optional[X] is equivalent to Union[X, None].\n",
      "\n",
      "VERSION\n",
      "    23.2.1\n",
      "\n",
      "FILE\n",
      "    /home/hirahara/anaconda3/envs/aiaug/lib/python3.11/site-packages/pip/__init__.py\n",
      "\n",
      "\n"
     ]
    }
   ],
   "source": [
    "help(pip)"
   ]
  },
  {
   "cell_type": "markdown",
   "metadata": {},
   "source": [
    "### 出力を無効"
   ]
  },
  {
   "cell_type": "code",
   "execution_count": 3,
   "metadata": {},
   "outputs": [],
   "source": [
    "# 標準出力を一時的に捕捉するバッファを作成\n",
    "with contextlib.redirect_stdout(StringIO()):\n",
    "    help(pip)"
   ]
  },
  {
   "cell_type": "markdown",
   "metadata": {},
   "source": [
    "### 出力をテキストとして取得"
   ]
  },
  {
   "cell_type": "code",
   "execution_count": 8,
   "metadata": {},
   "outputs": [
    {
     "name": "stdout",
     "output_type": "stream",
     "text": [
      "Help on package pip:\n",
      "\n",
      "NAME\n",
      "    pip\n",
      "\n",
      "PACKAGE CONTENTS\n",
      "    __main__\n",
      "    __pip-runner__\n",
      "    _internal (package)\n",
      "    _vendor (package)\n"
     ]
    }
   ],
   "source": [
    "f = StringIO()\n",
    "with contextlib.redirect_stdout(f):\n",
    "    help(pip)\n",
    "\n",
    "\n",
    "## 10行だけ表示\n",
    "for line in f.getvalue().split('\\n')[:10]:\n",
    "    print(line)"
   ]
  }
 ],
 "metadata": {
  "kernelspec": {
   "display_name": "aiaug",
   "language": "python",
   "name": "python3"
  },
  "language_info": {
   "codemirror_mode": {
    "name": "ipython",
    "version": 3
   },
   "file_extension": ".py",
   "mimetype": "text/x-python",
   "name": "python",
   "nbconvert_exporter": "python",
   "pygments_lexer": "ipython3",
   "version": "3.11.5"
  }
 },
 "nbformat": 4,
 "nbformat_minor": 2
}
