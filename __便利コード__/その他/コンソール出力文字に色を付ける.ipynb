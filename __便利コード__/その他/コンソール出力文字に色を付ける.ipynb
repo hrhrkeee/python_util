{
 "cells": [
  {
   "cell_type": "code",
   "execution_count": 2,
   "metadata": {},
   "outputs": [],
   "source": [
    "def colorstr(*input):\n",
    "    \"\"\"Colors a string https://en.wikipedia.org/wiki/ANSI_escape_code, i.e.  colorstr('blue', 'hello world').\"\"\"\n",
    "    *args, string = input if len(input) > 1 else ('blue', 'bold', input[0])  # color arguments, string\n",
    "    colors = {\n",
    "        'black': '\\033[30m',  # basic colors\n",
    "        'red': '\\033[31m',\n",
    "        'green': '\\033[32m',\n",
    "        'yellow': '\\033[33m',\n",
    "        'blue': '\\033[34m',\n",
    "        'magenta': '\\033[35m',\n",
    "        'cyan': '\\033[36m',\n",
    "        'white': '\\033[37m',\n",
    "        'bright_black': '\\033[90m',  # bright colors\n",
    "        'bright_red': '\\033[91m',\n",
    "        'bright_green': '\\033[92m',\n",
    "        'bright_yellow': '\\033[93m',\n",
    "        'bright_blue': '\\033[94m',\n",
    "        'bright_magenta': '\\033[95m',\n",
    "        'bright_cyan': '\\033[96m',\n",
    "        'bright_white': '\\033[97m',\n",
    "        'end': '\\033[0m',  # misc\n",
    "        'bold': '\\033[1m',\n",
    "        'underline': '\\033[4m'}\n",
    "    return ''.join(colors[x] for x in args) + f'{string}' + colors['end']\n"
   ]
  },
  {
   "cell_type": "code",
   "execution_count": 3,
   "metadata": {},
   "outputs": [
    {
     "name": "stdout",
     "output_type": "stream",
     "text": [
      "\u001b[30mHello World!\u001b[0m\n",
      "\u001b[31mHello World!\u001b[0m\n",
      "\u001b[32mHello World!\u001b[0m\n",
      "\u001b[33mHello World!\u001b[0m\n",
      "\u001b[34mHello World!\u001b[0m\n",
      "\u001b[35mHello World!\u001b[0m\n",
      "\u001b[36mHello World!\u001b[0m\n",
      "\u001b[37mHello World!\u001b[0m\n",
      "\u001b[90mHello World!\u001b[0m\n",
      "\u001b[91mHello World!\u001b[0m\n",
      "\u001b[92mHello World!\u001b[0m\n",
      "\u001b[93mHello World!\u001b[0m\n",
      "\u001b[94mHello World!\u001b[0m\n",
      "\u001b[95mHello World!\u001b[0m\n",
      "\u001b[96mHello World!\u001b[0m\n",
      "\u001b[97mHello World!\u001b[0m\n",
      "\u001b[0mHello World!\u001b[0m\n",
      "\u001b[1mHello World!\u001b[0m\n",
      "\u001b[4mHello World!\u001b[0m\n"
     ]
    }
   ],
   "source": [
    "print(colorstr(\"black\"         , \"Hello World!\"))\n",
    "print(colorstr(\"red\"           , \"Hello World!\"))\n",
    "print(colorstr(\"green\"         , \"Hello World!\"))\n",
    "print(colorstr(\"yellow\"        , \"Hello World!\"))\n",
    "print(colorstr(\"blue\"          , \"Hello World!\"))\n",
    "print(colorstr(\"magenta\"       , \"Hello World!\"))\n",
    "print(colorstr(\"cyan\"          , \"Hello World!\"))\n",
    "print(colorstr(\"white\"         , \"Hello World!\"))\n",
    "print(colorstr(\"bright_black\"  , \"Hello World!\"))\n",
    "print(colorstr(\"bright_red\"    , \"Hello World!\"))\n",
    "print(colorstr(\"bright_green\"  , \"Hello World!\"))\n",
    "print(colorstr(\"bright_yellow\" , \"Hello World!\"))\n",
    "print(colorstr(\"bright_blue\"   , \"Hello World!\"))\n",
    "print(colorstr(\"bright_magenta\", \"Hello World!\"))\n",
    "print(colorstr(\"bright_cyan\"   , \"Hello World!\"))\n",
    "print(colorstr(\"bright_white\"  , \"Hello World!\"))\n",
    "print(colorstr(\"end\"           , \"Hello World!\"))\n",
    "print(colorstr(\"bold\"          , \"Hello World!\"))\n",
    "print(colorstr(\"underline\"     , \"Hello World!\"))"
   ]
  }
 ],
 "metadata": {
  "kernelspec": {
   "display_name": "yolov8",
   "language": "python",
   "name": "python3"
  },
  "language_info": {
   "codemirror_mode": {
    "name": "ipython",
    "version": 3
   },
   "file_extension": ".py",
   "mimetype": "text/x-python",
   "name": "python",
   "nbconvert_exporter": "python",
   "pygments_lexer": "ipython3",
   "version": "3.9.12"
  },
  "orig_nbformat": 4
 },
 "nbformat": 4,
 "nbformat_minor": 2
}
