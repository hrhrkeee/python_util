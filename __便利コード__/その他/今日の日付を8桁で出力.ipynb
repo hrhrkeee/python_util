{
 "cells": [
  {
   "cell_type": "code",
   "execution_count": 2,
   "metadata": {},
   "outputs": [
    {
     "name": "stdout",
     "output_type": "stream",
     "text": [
      "20240114\n"
     ]
    }
   ],
   "source": [
    "import datetime, time\n",
    "\n",
    "dt_now = datetime.datetime.now().strftime('%Y%m%d')\n",
    "print(dt_now)"
   ]
  },
  {
   "cell_type": "code",
   "execution_count": 3,
   "metadata": {},
   "outputs": [
    {
     "name": "stdout",
     "output_type": "stream",
     "text": [
      "20240114-1342\n"
     ]
    }
   ],
   "source": [
    "import datetime, time\n",
    "\n",
    "dt_now = datetime.datetime.now().strftime('%Y%m%d-%H%M')\n",
    "print(dt_now)"
   ]
  },
  {
   "cell_type": "code",
   "execution_count": 4,
   "metadata": {},
   "outputs": [
    {
     "name": "stdout",
     "output_type": "stream",
     "text": [
      "20240114-134239\n"
     ]
    }
   ],
   "source": [
    "import datetime, time\n",
    "\n",
    "# 秒数も含めて\n",
    "dt_now = datetime.datetime.now().strftime('%Y%m%d-%H%M%S')\n",
    "print(dt_now)\n"
   ]
  },
  {
   "cell_type": "code",
   "execution_count": null,
   "metadata": {},
   "outputs": [],
   "source": []
  }
 ],
 "metadata": {
  "kernelspec": {
   "display_name": "diffusers",
   "language": "python",
   "name": "python3"
  },
  "language_info": {
   "codemirror_mode": {
    "name": "ipython",
    "version": 3
   },
   "file_extension": ".py",
   "mimetype": "text/x-python",
   "name": "python",
   "nbconvert_exporter": "python",
   "pygments_lexer": "ipython3",
   "version": "3.11.3"
  },
  "orig_nbformat": 4
 },
 "nbformat": 4,
 "nbformat_minor": 2
}
