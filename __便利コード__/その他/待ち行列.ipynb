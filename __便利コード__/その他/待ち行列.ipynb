{
 "cells": [
  {
   "cell_type": "code",
   "execution_count": 7,
   "metadata": {},
   "outputs": [
    {
     "name": "stdout",
     "output_type": "stream",
     "text": [
      "0 None\n",
      "1 None\n",
      "2 None\n",
      "3 None\n",
      "4 None\n",
      "5 None\n",
      "6 None\n",
      "7 None\n",
      "8 None\n",
      "9 None\n",
      "10 0\n",
      "11 1\n",
      "12 2\n",
      "13 3\n",
      "14 4\n",
      "15 5\n",
      "16 6\n",
      "17 7\n",
      "18 8\n",
      "19 9\n"
     ]
    }
   ],
   "source": [
    "# 必要なライブラリのインポート\n",
    "from queue import Queue\n",
    "\n",
    "class Custom_Q():\n",
    "    def __init__(self, maxsize=0):\n",
    "        self.maxsize = maxsize\n",
    "        self.q = Queue(maxsize=maxsize)\n",
    "\n",
    "    def put(self, item):\n",
    "        \n",
    "        if self.qsize() < self.maxsize:\n",
    "            self.q.put(item)\n",
    "            return None\n",
    "        \n",
    "        elif self.qsize() == self.maxsize:\n",
    "            value = self.q.get()\n",
    "            self.q.put(item)\n",
    "            return value\n",
    "        \n",
    "\n",
    "    def qsize(self):\n",
    "        return self.q.qsize()\n",
    "\n",
    "\n",
    "q = Custom_Q(maxsize=10) # 最大3つの要素を持つキューを作成\n",
    "\n",
    "for i in range(20):\n",
    "    print(i, q.put(i))\n",
    "\n"
   ]
  },
  {
   "cell_type": "code",
   "execution_count": 6,
   "metadata": {},
   "outputs": [
    {
     "name": "stdout",
     "output_type": "stream",
     "text": [
      "[]\n",
      "None\n",
      "['A']\n",
      "None\n",
      "['A', 'B']\n",
      "None\n",
      "['A', 'B', 'C']\n",
      "A\n",
      "['B', 'C', 'D']\n",
      "B\n",
      "['C', 'D', 'E']\n",
      "C\n",
      "['D', 'E', 'F']\n",
      "D\n",
      "['E', 'F', 'G']\n",
      "E\n",
      "['F', 'G', 'H']\n",
      "F\n",
      "['G', 'H', 'I']\n",
      "G\n"
     ]
    }
   ],
   "source": [
    "class Custom_Q():\n",
    "    def __init__(self, num):\n",
    "        self.queue = []\n",
    "        self.num = num\n",
    "\n",
    "    def enqueue(self, item):\n",
    "        if len(self.queue) < self.num:\n",
    "            self.queue.append(item)\n",
    "            return None\n",
    "        else:\n",
    "            self.queue.append(item)\n",
    "            return self.queue.pop(0)\n",
    "        \n",
    "\n",
    "# クラスのインスタンス化と動作の例を示します。\n",
    "# この例では、待ち行列の長さを3としています。\n",
    "\n",
    "# インスタンスの作成\n",
    "queue = Custom_Q(3)\n",
    "\n",
    "for s in [\"A\", \"B\", \"C\", \"D\", \"E\", \"F\", \"G\", \"H\", \"I\", \"J\"]:\n",
    "    print(queue.queue)\n",
    "    print(queue.enqueue(s))\n"
   ]
  }
 ],
 "metadata": {
  "kernelspec": {
   "display_name": "aiaug",
   "language": "python",
   "name": "python3"
  },
  "language_info": {
   "codemirror_mode": {
    "name": "ipython",
    "version": 3
   },
   "file_extension": ".py",
   "mimetype": "text/x-python",
   "name": "python",
   "nbconvert_exporter": "python",
   "pygments_lexer": "ipython3",
   "version": "3.11.5"
  }
 },
 "nbformat": 4,
 "nbformat_minor": 2
}
