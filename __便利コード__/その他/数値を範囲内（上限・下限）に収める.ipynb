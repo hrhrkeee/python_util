{
 "cells": [
  {
   "cell_type": "code",
   "execution_count": 1,
   "metadata": {},
   "outputs": [
    {
     "name": "stdout",
     "output_type": "stream",
     "text": [
      "[255 255   0   8 255 255 255 255  56]\n"
     ]
    }
   ],
   "source": [
    "import numpy as np\n",
    "\n",
    "min_value, max_value = (0, 255)\n",
    "sample = [900, 4000, -39, 8, 473, 322, 255, 332, 56]\n",
    "\n",
    "ret = np.clip(sample, min_value, max_value)\n",
    "print(ret)"
   ]
  },
  {
   "cell_type": "markdown",
   "metadata": {},
   "source": [
    "### Numpyを使わない方法"
   ]
  },
  {
   "cell_type": "code",
   "execution_count": 6,
   "metadata": {},
   "outputs": [
    {
     "name": "stdout",
     "output_type": "stream",
     "text": [
      "[255, 255, 0, 8, 255, 255, 255, 255, 56]\n"
     ]
    }
   ],
   "source": [
    "min_value, max_value = (0, 255)\n",
    "sample = [900, 4000, -39, 8, 473, 322, 255, 332, 56]\n",
    "\n",
    "ret = [max(min_value, min(i, max_value)) for i in sample]\n",
    "print(ret)"
   ]
  },
  {
   "cell_type": "markdown",
   "metadata": {},
   "source": [
    "### 速度比較"
   ]
  },
  {
   "cell_type": "code",
   "execution_count": 63,
   "metadata": {},
   "outputs": [
    {
     "name": "stdout",
     "output_type": "stream",
     "text": [
      "Number of elements: 10\n",
      "function_1 took an average of 0.0000088035 seconds for 100 runs.\n",
      "function_2 took an average of 0.0000085067 seconds for 100 runs.\n",
      "\n",
      "Number of elements: 50\n",
      "function_1 took an average of 0.0000088604 seconds for 100 runs.\n",
      "function_2 took an average of 0.0000100099 seconds for 100 runs.\n",
      "\n",
      "Number of elements: 100\n",
      "function_1 took an average of 0.0000085668 seconds for 100 runs.\n",
      "function_2 took an average of 0.0000084515 seconds for 100 runs.\n",
      "\n",
      "Number of elements: 1000\n",
      "function_1 took an average of 0.0000099502 seconds for 100 runs.\n",
      "function_2 took an average of 0.0000095747 seconds for 100 runs.\n",
      "\n",
      "Number of elements: 10000\n",
      "function_1 took an average of 0.0000094425 seconds for 100 runs.\n",
      "function_2 took an average of 0.0000085597 seconds for 100 runs.\n",
      "\n"
     ]
    }
   ],
   "source": [
    "import timeit\n",
    "import random\n",
    "\n",
    "def numpy_clip(li:list):\n",
    "    ret = np.clip(sample, min_value, max_value)\n",
    "    return None\n",
    "\n",
    "def comprehension_clip(li:list):\n",
    "    ret = [max(min_value, min(i, max_value)) for i in sample]\n",
    "    return None\n",
    "\n",
    "\n",
    "# 要素数を変化させて測定\n",
    "\n",
    "for i in [10, 50, 100, 1000, 10000]:\n",
    "    print(f\"Number of elements: {i}\")\n",
    "    random_integers = [random.randint(1, 1000) for _ in range(i)]\n",
    "\n",
    "    time_1 = timeit.timeit(lambda: numpy_clip(random_integers), number=100)  # 100回繰り返し実行して平均を取る\n",
    "    time_2 = timeit.timeit(lambda: numpy_clip(random_integers), number=100)  # 100回繰り返し実行して平均を取る\n",
    "\n",
    "    print(f\"function_1 took an average of {time_1/100:.10f} seconds for 100 runs.\")\n",
    "    print(f\"function_2 took an average of {time_2/100:.10f} seconds for 100 runs.\")\n",
    "    \n",
    "    print()\n"
   ]
  }
 ],
 "metadata": {
  "kernelspec": {
   "display_name": "mat",
   "language": "python",
   "name": "python3"
  },
  "language_info": {
   "codemirror_mode": {
    "name": "ipython",
    "version": 3
   },
   "file_extension": ".py",
   "mimetype": "text/x-python",
   "name": "python",
   "nbconvert_exporter": "python",
   "pygments_lexer": "ipython3",
   "version": "3.9.12"
  },
  "orig_nbformat": 4,
  "vscode": {
   "interpreter": {
    "hash": "f9c3ed66c8e400ba6fc2c9d70a6d8d86311c686d2d6c50b9ac4cd8cac700519d"
   }
  }
 },
 "nbformat": 4,
 "nbformat_minor": 2
}
