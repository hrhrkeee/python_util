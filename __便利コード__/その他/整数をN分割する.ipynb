{
 "cells": [
  {
   "cell_type": "code",
   "execution_count": 8,
   "metadata": {},
   "outputs": [
    {
     "name": "stdout",
     "output_type": "stream",
     "text": [
      "x:48\tn:3\t[16, 16, 16]\n"
     ]
    }
   ],
   "source": [
    "import random\n",
    "\n",
    "x = random.randint(5, 100) # 整数\n",
    "n = random.randint(1, 10) # 分割数\n",
    "l = [(x + i) // n for i in range(n)]\n",
    "print(\"x:{}\\tn:{}\\t{}\".format(x, n, l))"
   ]
  },
  {
   "cell_type": "code",
   "execution_count": 9,
   "metadata": {},
   "outputs": [
    {
     "name": "stdout",
     "output_type": "stream",
     "text": [
      "x:22\tn:2\t[11, 11]\n",
      "x:79\tn:5\t[15, 16, 16, 16, 16]\n",
      "x:10\tn:7\t[1, 1, 1, 1, 2, 2, 2]\n",
      "x:8\tn:8\t[1, 1, 1, 1, 1, 1, 1, 1]\n",
      "x:36\tn:9\t[4, 4, 4, 4, 4, 4, 4, 4, 4]\n",
      "x:65\tn:8\t[8, 8, 8, 8, 8, 8, 8, 9]\n",
      "x:28\tn:6\t[4, 4, 5, 5, 5, 5]\n",
      "x:89\tn:4\t[22, 22, 22, 23]\n",
      "x:18\tn:4\t[4, 4, 5, 5]\n",
      "x:16\tn:10\t[1, 1, 1, 1, 2, 2, 2, 2, 2, 2]\n"
     ]
    }
   ],
   "source": [
    "for i in range(10):\n",
    "  x, n = random.randint(5, 100), random.randint(1, 10)\n",
    "  l = [(x + i) // n for i in range(n)]\n",
    "  print(\"x:{}\\tn:{}\\t{}\".format(x, n, l))\n",
    "  "
   ]
  }
 ],
 "metadata": {
  "kernelspec": {
   "display_name": "detr",
   "language": "python",
   "name": "python3"
  },
  "language_info": {
   "codemirror_mode": {
    "name": "ipython",
    "version": 3
   },
   "file_extension": ".py",
   "mimetype": "text/x-python",
   "name": "python",
   "nbconvert_exporter": "python",
   "pygments_lexer": "ipython3",
   "version": "3.9.12"
  },
  "orig_nbformat": 4,
  "vscode": {
   "interpreter": {
    "hash": "88df7dddc364b8601feb4ab466babb439259fc75e2094306c233b727644e85b8"
   }
  }
 },
 "nbformat": 4,
 "nbformat_minor": 2
}
