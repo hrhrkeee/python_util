{
 "cells": [
  {
   "cell_type": "code",
   "execution_count": 1,
   "metadata": {},
   "outputs": [
    {
     "name": "stdout",
     "output_type": "stream",
     "text": [
      "Collecting rapidfuzz\n",
      "  Downloading rapidfuzz-3.3.0-cp39-cp39-manylinux_2_17_x86_64.manylinux2014_x86_64.whl (3.1 MB)\n",
      "\u001b[2K     \u001b[90m━━━━━━━━━━━━━━━━━━━━━━━━━━━━━━━━━━━━━━━━\u001b[0m \u001b[32m3.1/3.1 MB\u001b[0m \u001b[31m10.7 MB/s\u001b[0m eta \u001b[36m0:00:00\u001b[0m00:01\u001b[0m00:01\u001b[0m\n",
      "\u001b[?25hInstalling collected packages: rapidfuzz\n",
      "Successfully installed rapidfuzz-3.3.0\n"
     ]
    }
   ],
   "source": [
    "! pip install rapidfuzz"
   ]
  },
  {
   "cell_type": "code",
   "execution_count": 3,
   "metadata": {},
   "outputs": [],
   "source": [
    "from rapidfuzz.process import cdist\n",
    "import pandas as pd"
   ]
  },
  {
   "cell_type": "code",
   "execution_count": 5,
   "metadata": {},
   "outputs": [
    {
     "name": "stdout",
     "output_type": "stream",
     "text": [
      "            cut        dot  beer\n",
      "cat   66.666664  33.333332   0.0\n",
      "dog    0.000000  66.666664   0.0\n",
      "bear   0.000000   0.000000  75.0\n"
     ]
    }
   ],
   "source": [
    "queries = pd.Series(['cat', 'dog', 'bear'])\n",
    "choices = pd.Series(['cut', 'dot', 'beer'])\n",
    "\n",
    "score = cdist(queries, choices)\n",
    "print(pd.DataFrame(score, index=queries, columns=choices))"
   ]
  },
  {
   "cell_type": "code",
   "execution_count": 8,
   "metadata": {},
   "outputs": [
    {
     "data": {
      "text/plain": [
       "[('cat', 100.0, 0),\n",
       " ('cats', 85.71428571428572, 1),\n",
       " ('cut', 66.66666666666667, 2),\n",
       " ('act', 66.66666666666667, 3),\n",
       " ('nat', 66.66666666666667, 5)]"
      ]
     },
     "execution_count": 8,
     "metadata": {},
     "output_type": "execute_result"
    }
   ],
   "source": [
    "from rapidfuzz.process import extract\n",
    "\n",
    "query = 'cat'\n",
    "choices = pd.Series(['cat', 'cats', 'cut', 'act', 'cute', 'nat'])\n",
    "\n",
    "extract(query, choices)"
   ]
  },
  {
   "cell_type": "code",
   "execution_count": 10,
   "metadata": {},
   "outputs": [
    {
     "name": "stdout",
     "output_type": "stream",
     "text": [
      "('cat', 100.0, 0)\n"
     ]
    }
   ],
   "source": [
    "from rapidfuzz.process import extractOne\n",
    "\n",
    "\n",
    "query = 'cat'\n",
    "choices = pd.Series(['cat', 'cats', 'cut', 'act', 'cute', 'nat'])\n",
    "\n",
    "\n",
    "res = extractOne(query, choices)\n",
    "print(res)"
   ]
  }
 ],
 "metadata": {
  "kernelspec": {
   "display_name": "aiaug",
   "language": "python",
   "name": "python3"
  },
  "language_info": {
   "codemirror_mode": {
    "name": "ipython",
    "version": 3
   },
   "file_extension": ".py",
   "mimetype": "text/x-python",
   "name": "python",
   "nbconvert_exporter": "python",
   "pygments_lexer": "ipython3",
   "version": "3.9.12"
  },
  "orig_nbformat": 4
 },
 "nbformat": 4,
 "nbformat_minor": 2
}
