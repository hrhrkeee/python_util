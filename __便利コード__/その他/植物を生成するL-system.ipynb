{
 "cells": [
  {
   "cell_type": "code",
   "execution_count": 1,
   "metadata": {},
   "outputs": [
    {
     "name": "stderr",
     "output_type": "stream",
     "text": [
      "100%|██████████| 2/2 [00:00<00:00, 55924.05it/s]\n",
      "100%|██████████| 89/89 [00:00<00:00, 8508.69it/s]\n"
     ]
    },
    {
     "data": {
      "image/png": "[encoded data removed]",
      "text/plain": [
       "<Figure size 800x800 with 1 Axes>"
      ]
     },
     "metadata": {},
     "output_type": "display_data"
    }
   ],
   "source": [
    "import numpy as np\n",
    "import matplotlib.pyplot as plt\n",
    "from tqdm import tqdm\n",
    "\n",
    "plt.figure(figsize=(8, 8))\n",
    "ax = plt.axes()\n",
    "plt.axis([0, 8, 0, 8])\n",
    "plt.xticks([])\n",
    "plt.yticks([])\n",
    "# 描画せずに移動する\n",
    "def translate(state):\n",
    "   th = state[1]\n",
    "   x = state[0][0] + distance*np.cos(th)\n",
    "   y = state[0][1] + distance*np.sin(th)\n",
    "   return [[x, y],th]\n",
    "   \n",
    "# distance だけ描画して進む\n",
    "def forward(state):\n",
    "   th = state[1]\n",
    "   x1 = state[0][0]\n",
    "   y1 = state[0][1]\n",
    "   x2 = x1 + distance*np.cos(th)\n",
    "   y2 = y1 + distance*np.sin(th)\n",
    "   plt.plot([x1, x2], [y1, y2], lw=1, color=drawcolor)\n",
    "   return [[x2, y2],th]\n",
    "# 向きを変える coef 1/0 左 / 右\n",
    "def rotate(coef, state):\n",
    "   th = state[1]\n",
    "   th = th + coef*angle\n",
    "   return [state[0], th]\n",
    "   \n",
    "# 亀を命令に従って動かす L , R は何もしない 亀の状態を返す\n",
    "def turtle(command, state):\n",
    "   if command == \"A\" or command == \"B\" or command == \"F\":\n",
    "       state = forward(state)\n",
    "   if command == \"f\":\n",
    "       state = translate(state)\n",
    "   if command == \"+\":\n",
    "       state = rotate(1, state)\n",
    "   if command == \"-\":\n",
    "       state = rotate(-1, state)\n",
    "   if command == \"[\":\n",
    "       stack.append(state)\n",
    "   if command == \"]\":\n",
    "       state = stack.pop()\n",
    "   return state\n",
    "# 置き換え\n",
    "def rewriting(initiator, generator, repeat):\n",
    "   com = initiator\n",
    "   for i in range(repeat):\n",
    "       for rule in generator:\n",
    "           str1 = rule[0]\n",
    "           str2 = rule[1]\n",
    "           com = com.replace(str1, str2)\n",
    "   return com\n",
    "# ここから定義\n",
    "state = [[4, 1], np.pi/2]      # 亀の初期状態 出発点とはじめの向き\n",
    "initiator = \"A\"\n",
    "generator = {\"F\":\"FF\",\"A\":\"F-[[A]+A]+F[+FA]-A\"}\n",
    "angle = 22.5 / 180 * np.pi     # 回転角　度数法 -> 弧度法\n",
    "drawcolor = 'green'\n",
    "repeat = 2\n",
    "distance = 2*(1/2)**repeat     # 1歩の長さ。ものによって変える\n",
    "# 定義はここまで\n",
    "stack = []\n",
    "com = initiator\n",
    "for i in tqdm(range(repeat)):\n",
    "   com = com.translate(str.maketrans(generator))\n",
    "for command in tqdm(com):\n",
    "   state = turtle(command, state)\n",
    "#plt.savefig(\"Lsystem2.png\")\n",
    "plt.show()"
   ]
  },
  {
   "cell_type": "code",
   "execution_count": null,
   "metadata": {},
   "outputs": [],
   "source": []
  }
 ],
 "metadata": {
  "kernelspec": {
   "display_name": "detr",
   "language": "python",
   "name": "python3"
  },
  "language_info": {
   "codemirror_mode": {
    "name": "ipython",
    "version": 3
   },
   "file_extension": ".py",
   "mimetype": "text/x-python",
   "name": "python",
   "nbconvert_exporter": "python",
   "pygments_lexer": "ipython3",
   "version": "3.9.12 (main, Jun  1 2022, 11:38:51) \n[GCC 7.5.0]"
  },
  "orig_nbformat": 4,
  "vscode": {
   "interpreter": {
    "hash": "88df7dddc364b8601feb4ab466babb439259fc75e2094306c233b727644e85b8"
   }
  }
 },
 "nbformat": 4,
 "nbformat_minor": 2
}
