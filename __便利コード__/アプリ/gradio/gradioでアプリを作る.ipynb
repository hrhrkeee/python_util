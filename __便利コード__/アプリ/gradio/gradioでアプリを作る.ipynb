{
 "cells": [
  {
   "cell_type": "markdown",
   "metadata": {},
   "source": [
    "VSCode上で表示させるには9999番ポートに対してポートフォワーディングを設定する"
   ]
  },
  {
   "cell_type": "code",
   "execution_count": null,
   "metadata": {},
   "outputs": [],
   "source": [
    "import gradio as gr\n",
    "\n",
    "def greet(name):\n",
    "    return \"Hello \" + name + \"!\"\n",
    "\n",
    "demo = gr.Interface(fn=greet, inputs=\"text\", outputs=\"text\")\n",
    "    \n",
    "demo.launch(server_port=9999)   "
   ]
  },
  {
   "cell_type": "code",
   "execution_count": null,
   "metadata": {},
   "outputs": [],
   "source": [
    "import random\n",
    "import gradio as gr\n",
    "\n",
    "def get_foturne(your_name):\n",
    "    fortune_lists = ['大吉', '吉', '小吉', '凶', '末吉']\n",
    "    fortune_result = random.choice(fortune_lists)\n",
    "    return your_name + \"さんの今日の運勢は・・・\" + fortune_result + \"です\"\n",
    "\n",
    "\n",
    "demo = gr.Interface(fn=get_foturne,\n",
    "                    inputs=\"text\",\n",
    "                    outputs=\"text\")\n",
    "demo.launch(debug=True)\n",
    "# demo.launch(share=True)"
   ]
  }
 ],
 "metadata": {
  "kernelspec": {
   "display_name": "aiaug",
   "language": "python",
   "name": "python3"
  },
  "language_info": {
   "codemirror_mode": {
    "name": "ipython",
    "version": 3
   },
   "file_extension": ".py",
   "mimetype": "text/x-python",
   "name": "python",
   "nbconvert_exporter": "python",
   "pygments_lexer": "ipython3",
   "version": "3.9.12"
  },
  "orig_nbformat": 4
 },
 "nbformat": 4,
 "nbformat_minor": 2
}
