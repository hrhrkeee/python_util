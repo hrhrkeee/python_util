{
 "cells": [
  {
   "cell_type": "code",
   "execution_count": 5,
   "metadata": {},
   "outputs": [],
   "source": [
    "import sqlite3\n",
    "import os \n",
    "from pathlib import Path\n",
    "\n",
    "output_dir = Path('./output')\n",
    "output_dir.mkdir(exist_ok=True)\n",
    "\n",
    "# カレントディレクトリにTEST.dbがなければ、作成します。\n",
    "# すでにTEST.dbが作成されていれば、TEST.dbに接続します。\n",
    "dbname = './output/sqlite3_test_database.db'\n",
    "conn = sqlite3.connect(dbname)\n",
    "\n",
    "# データベースへのコネクションを閉じる。(必須)\n",
    "conn.close()"
   ]
  }
 ],
 "metadata": {
  "kernelspec": {
   "display_name": "detr",
   "language": "python",
   "name": "python3"
  },
  "language_info": {
   "codemirror_mode": {
    "name": "ipython",
    "version": 3
   },
   "file_extension": ".py",
   "mimetype": "text/x-python",
   "name": "python",
   "nbconvert_exporter": "python",
   "pygments_lexer": "ipython3",
   "version": "3.11.5"
  },
  "orig_nbformat": 4,
  "vscode": {
   "interpreter": {
    "hash": "88df7dddc364b8601feb4ab466babb439259fc75e2094306c233b727644e85b8"
   }
  }
 },
 "nbformat": 4,
 "nbformat_minor": 2
}
