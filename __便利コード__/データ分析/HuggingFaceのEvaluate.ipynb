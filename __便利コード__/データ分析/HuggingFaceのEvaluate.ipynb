{
 "cells": [
  {
   "cell_type": "code",
   "execution_count": 1,
   "metadata": {},
   "outputs": [],
   "source": [
    "! pip install -qqq evaluate"
   ]
  },
  {
   "cell_type": "code",
   "execution_count": 2,
   "metadata": {},
   "outputs": [],
   "source": [
    "import evaluate"
   ]
  },
  {
   "cell_type": "code",
   "execution_count": 3,
   "metadata": {},
   "outputs": [
    {
     "data": {
      "text/plain": [
       "[{'name': 'precision', 'type': 'metric', 'community': False, 'likes': 1},\n",
       " {'name': 'code_eval', 'type': 'metric', 'community': False, 'likes': 11},\n",
       " {'name': 'roc_auc', 'type': 'metric', 'community': False, 'likes': 0},\n",
       " {'name': 'cuad', 'type': 'metric', 'community': False, 'likes': 0},\n",
       " {'name': 'xnli', 'type': 'metric', 'community': False, 'likes': 0},\n",
       " {'name': 'rouge', 'type': 'metric', 'community': False, 'likes': 24},\n",
       " {'name': 'pearsonr', 'type': 'metric', 'community': False, 'likes': 1},\n",
       " {'name': 'mse', 'type': 'metric', 'community': False, 'likes': 0},\n",
       " {'name': 'super_glue', 'type': 'metric', 'community': False, 'likes': 4},\n",
       " {'name': 'comet', 'type': 'metric', 'community': False, 'likes': 5},\n",
       " {'name': 'cer', 'type': 'metric', 'community': False, 'likes': 9},\n",
       " {'name': 'sacrebleu', 'type': 'metric', 'community': False, 'likes': 8},\n",
       " {'name': 'mahalanobis', 'type': 'metric', 'community': False, 'likes': 0},\n",
       " {'name': 'wer', 'type': 'metric', 'community': False, 'likes': 17},\n",
       " {'name': 'competition_math',\n",
       "  'type': 'metric',\n",
       "  'community': False,\n",
       "  'likes': 1},\n",
       " {'name': 'f1', 'type': 'metric', 'community': False, 'likes': 4},\n",
       " {'name': 'recall', 'type': 'metric', 'community': False, 'likes': 0},\n",
       " {'name': 'coval', 'type': 'metric', 'community': False, 'likes': 1},\n",
       " {'name': 'mauve', 'type': 'metric', 'community': False, 'likes': 4},\n",
       " {'name': 'xtreme_s', 'type': 'metric', 'community': False, 'likes': 0},\n",
       " {'name': 'bleurt', 'type': 'metric', 'community': False, 'likes': 8},\n",
       " {'name': 'ter', 'type': 'metric', 'community': False, 'likes': 1},\n",
       " {'name': 'accuracy', 'type': 'metric', 'community': False, 'likes': 12},\n",
       " {'name': 'exact_match', 'type': 'metric', 'community': False, 'likes': 6},\n",
       " {'name': 'indic_glue', 'type': 'metric', 'community': False, 'likes': 1},\n",
       " {'name': 'spearmanr', 'type': 'metric', 'community': False, 'likes': 0},\n",
       " {'name': 'mae', 'type': 'metric', 'community': False, 'likes': 0},\n",
       " {'name': 'squad', 'type': 'metric', 'community': False, 'likes': 8},\n",
       " {'name': 'chrf', 'type': 'metric', 'community': False, 'likes': 9},\n",
       " {'name': 'glue', 'type': 'metric', 'community': False, 'likes': 0},\n",
       " {'name': 'perplexity', 'type': 'metric', 'community': False, 'likes': 13},\n",
       " {'name': 'mean_iou', 'type': 'metric', 'community': False, 'likes': 2},\n",
       " {'name': 'squad_v2', 'type': 'metric', 'community': False, 'likes': 2},\n",
       " {'name': 'meteor', 'type': 'metric', 'community': False, 'likes': 6},\n",
       " {'name': 'bleu', 'type': 'metric', 'community': False, 'likes': 24},\n",
       " {'name': 'wiki_split', 'type': 'metric', 'community': False, 'likes': 0},\n",
       " {'name': 'sari', 'type': 'metric', 'community': False, 'likes': 5},\n",
       " {'name': 'frugalscore', 'type': 'metric', 'community': False, 'likes': 0},\n",
       " {'name': 'google_bleu', 'type': 'metric', 'community': False, 'likes': 5},\n",
       " {'name': 'bertscore', 'type': 'metric', 'community': False, 'likes': 20},\n",
       " {'name': 'matthews_correlation',\n",
       "  'type': 'metric',\n",
       "  'community': False,\n",
       "  'likes': 7},\n",
       " {'name': 'seqeval', 'type': 'metric', 'community': False, 'likes': 16},\n",
       " {'name': 'trec_eval', 'type': 'metric', 'community': False, 'likes': 3},\n",
       " {'name': 'rl_reliability', 'type': 'metric', 'community': False, 'likes': 2},\n",
       " {'name': 'poseval', 'type': 'metric', 'community': False, 'likes': 1},\n",
       " {'name': 'brier_score', 'type': 'metric', 'community': False, 'likes': 0},\n",
       " {'name': 'mase', 'type': 'metric', 'community': False, 'likes': 1},\n",
       " {'name': 'mape', 'type': 'metric', 'community': False, 'likes': 0},\n",
       " {'name': 'smape', 'type': 'metric', 'community': False, 'likes': 0},\n",
       " {'name': 'nist_mt', 'type': 'metric', 'community': False, 'likes': 0},\n",
       " {'name': 'character', 'type': 'metric', 'community': False, 'likes': 0},\n",
       " {'name': 'charcut_mt', 'type': 'metric', 'community': False, 'likes': 0},\n",
       " {'name': 'r_squared', 'type': 'metric', 'community': False, 'likes': 0}]"
      ]
     },
     "execution_count": 3,
     "metadata": {},
     "output_type": "execute_result"
    }
   ],
   "source": [
    "# 公式の現在使用可能なメトリクス（評価指標）を確認\n",
    "evaluate.list_evaluation_modules(module_type=\"metric\", include_community=False, with_details=True)"
   ]
  }
 ],
 "metadata": {
  "kernelspec": {
   "display_name": "mmdet",
   "language": "python",
   "name": "python3"
  },
  "language_info": {
   "codemirror_mode": {
    "name": "ipython",
    "version": 3
   },
   "file_extension": ".py",
   "mimetype": "text/x-python",
   "name": "python",
   "nbconvert_exporter": "python",
   "pygments_lexer": "ipython3",
   "version": "3.11.4"
  }
 },
 "nbformat": 4,
 "nbformat_minor": 2
}
