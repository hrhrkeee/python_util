{
 "cells": [
  {
   "cell_type": "code",
   "execution_count": 3,
   "metadata": {},
   "outputs": [],
   "source": [
    "from pathlib import Path\n",
    "import numpy as np\n",
    "\n",
    "def count_py_file_lines(pyt_file_path):\n",
    "    \"\"\"\n",
    "    Count the number of lines in a .pyt file.\n",
    "    \"\"\"\n",
    "    with open(str(pyt_file_path)) as f:\n",
    "        return sum(1 for _ in f)\n"
   ]
  },
  {
   "cell_type": "code",
   "execution_count": 5,
   "metadata": {},
   "outputs": [
    {
     "name": "stdout",
     "output_type": "stream",
     "text": [
      "28\n"
     ]
    }
   ],
   "source": [
    "py_file_path = Path(\"../../sample_data/sample_python_file.py\")\n",
    "print(count_py_file_lines(py_file_path))"
   ]
  }
 ],
 "metadata": {
  "kernelspec": {
   "display_name": "ymc",
   "language": "python",
   "name": "python3"
  },
  "language_info": {
   "codemirror_mode": {
    "name": "ipython",
    "version": 3
   },
   "file_extension": ".py",
   "mimetype": "text/x-python",
   "name": "python",
   "nbconvert_exporter": "python",
   "pygments_lexer": "ipython3",
   "version": "3.11.5"
  }
 },
 "nbformat": 4,
 "nbformat_minor": 2
}
