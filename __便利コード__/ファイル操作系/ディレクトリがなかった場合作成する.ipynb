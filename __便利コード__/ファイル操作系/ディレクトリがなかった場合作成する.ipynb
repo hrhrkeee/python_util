{
 "cells": [
  {
   "cell_type": "code",
   "execution_count": 27,
   "metadata": {},
   "outputs": [
    {
     "name": "stdout",
     "output_type": "stream",
     "text": [
      "なかったらディレクトリ作成\n",
      "\n"
     ]
    },
    {
     "name": "stderr",
     "output_type": "stream",
     "text": [
      "100%|██████████| 3/3 [00:03<00:00,  1.00s/it]\n"
     ]
    },
    {
     "name": "stdout",
     "output_type": "stream",
     "text": [
      "ファイル書き出し\n",
      "\n"
     ]
    },
    {
     "name": "stderr",
     "output_type": "stream",
     "text": [
      "100%|██████████| 3/3 [00:03<00:00,  1.00s/it]\n"
     ]
    },
    {
     "name": "stdout",
     "output_type": "stream",
     "text": [
      "既に存在していたら無視（エラーにならない）（exist_ok）\n",
      "\n"
     ]
    },
    {
     "name": "stderr",
     "output_type": "stream",
     "text": [
      "100%|██████████| 3/3 [00:03<00:00,  1.00s/it]\n"
     ]
    },
    {
     "name": "stdout",
     "output_type": "stream",
     "text": [
      "ディレクトリを削除\n",
      "\n",
      "[Errno 39] Directory not empty: 'test/test_directory2/test1'\n",
      ">>> 空ではないのでエラーになる\n",
      "\n"
     ]
    },
    {
     "name": "stderr",
     "output_type": "stream",
     "text": [
      "100%|██████████| 3/3 [00:03<00:00,  1.00s/it]"
     ]
    },
    {
     "name": "stdout",
     "output_type": "stream",
     "text": [
      "ディレクトリをまとめて削除\n",
      "\n"
     ]
    },
    {
     "name": "stderr",
     "output_type": "stream",
     "text": [
      "\n"
     ]
    }
   ],
   "source": [
    "from pathlib import Path\n",
    "from time  import sleep\n",
    "import shutil\n",
    "from tqdm import tqdm\n",
    "\n",
    "sleep_time:int = 3\n",
    "\n",
    "target_datasets = [\"./test/\", \"./test/test_directory1/test1\", \"./test/test_directory1/test2\", \"./test/test_directory2/test1\", \"./test/test_directory2/test2\"]\n",
    "target_datasets = list(map(Path, target_datasets))\n",
    "\n",
    "print(\"なかったらディレクトリ作成\", end=\"\\n\\n\")\n",
    "for target in target_datasets:\n",
    "  if not target.exists():\n",
    "    target.mkdir(parents=True)\n",
    "\n",
    "for i in tqdm(range(sleep_time)):\n",
    "  sleep(1)\n",
    "\n",
    "print(\"ファイル書き出し\", end=\"\\n\\n\")\n",
    "for n, target in enumerate(target_datasets[1:]):\n",
    "  for i in range(100):\n",
    "    file_path = target/ Path(f\"text_file_{n}_{i}.txt\")\n",
    "    test_str = f\"こんにちは\\n{file_path}\"\n",
    "\n",
    "    with open(file_path, mode='w') as f:\n",
    "      f.write(test_str)\n",
    "\n",
    "for i in tqdm(range(sleep_time)):\n",
    "  sleep(1)\n",
    "\n",
    "print(\"既に存在していたら無視（エラーにならない）（exist_ok）\", end=\"\\n\\n\")\n",
    "for target in target_datasets:\n",
    "  if not target.exists():\n",
    "    target.mkdir(exist_ok=True, parents=True)\n",
    "\n",
    "for i in tqdm(range(sleep_time)):\n",
    "  sleep(1)\n",
    "\n",
    "print(\"ディレクトリを削除\", end=\"\\n\\n\")\n",
    "try:\n",
    "  target_datasets[3].rmdir()\n",
    "except Exception as e:\n",
    "  print(e)\n",
    "  print(\">>> 空ではないのでエラーになる\", end=\"\\n\\n\")\n",
    "  pass\n",
    "\n",
    "for i in tqdm(range(sleep_time)):\n",
    "  sleep(1)\n",
    "\n",
    "print(\"ディレクトリをまとめて削除\", end=\"\\n\\n\")\n",
    "shutil.rmtree(target_datasets[0])\n"
   ]
  },
  {
   "cell_type": "code",
   "execution_count": null,
   "metadata": {},
   "outputs": [],
   "source": []
  }
 ],
 "metadata": {
  "kernelspec": {
   "display_name": "mat",
   "language": "python",
   "name": "python3"
  },
  "language_info": {
   "codemirror_mode": {
    "name": "ipython",
    "version": 3
   },
   "file_extension": ".py",
   "mimetype": "text/x-python",
   "name": "python",
   "nbconvert_exporter": "python",
   "pygments_lexer": "ipython3",
   "version": "3.9.12"
  },
  "orig_nbformat": 4,
  "vscode": {
   "interpreter": {
    "hash": "f9c3ed66c8e400ba6fc2c9d70a6d8d86311c686d2d6c50b9ac4cd8cac700519d"
   }
  }
 },
 "nbformat": 4,
 "nbformat_minor": 2
}
