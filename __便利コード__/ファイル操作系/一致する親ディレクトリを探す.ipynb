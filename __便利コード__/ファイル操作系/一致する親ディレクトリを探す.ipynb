{
 "cells": [
  {
   "cell_type": "code",
   "execution_count": 9,
   "metadata": {},
   "outputs": [
    {
     "name": "stdout",
     "output_type": "stream",
     "text": [
      "..\\..\\sample_data\\coco_sample_datasets\n"
     ]
    }
   ],
   "source": [
    "from pathlib import Path\n",
    "\n",
    "path1 = Path(\"../../sample_data/coco_sample_datasets/sample_grape_bbox&mask/20220523_grape_night_fawzia_coco.json\")\n",
    "path2 = Path(\"../../sample_data/coco_sample_datasets/sample_melon_bbox&mask/daiwa_melon.jsonn\")\n",
    "\n",
    "common_path = max(list(set(path1.parents) & set(path2.parents)))\n",
    "print(common_path)"
   ]
  }
 ],
 "metadata": {
  "kernelspec": {
   "display_name": "coco_dataset",
   "language": "python",
   "name": "python3"
  },
  "language_info": {
   "codemirror_mode": {
    "name": "ipython",
    "version": 3
   },
   "file_extension": ".py",
   "mimetype": "text/x-python",
   "name": "python",
   "nbconvert_exporter": "python",
   "pygments_lexer": "ipython3",
   "version": "3.11.3"
  },
  "orig_nbformat": 4
 },
 "nbformat": 4,
 "nbformat_minor": 2
}
