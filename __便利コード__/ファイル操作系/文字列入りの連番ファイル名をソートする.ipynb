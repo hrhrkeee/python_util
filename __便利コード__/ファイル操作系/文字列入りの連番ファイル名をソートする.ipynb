{
 "cells": [
  {
   "cell_type": "code",
   "execution_count": 3,
   "metadata": {},
   "outputs": [],
   "source": [
    "import cv2, os, sys\n",
    "from tqdm import tqdm\n",
    "from pathlib import Path\n",
    "import re\n",
    "\n",
    "def atoi(text):\n",
    "    return int(text) if text.isdigit() else text\n",
    "\n",
    "def natural_keys(text):\n",
    "    return [ atoi(c) for c in re.split(r'(\\d+)', text) ]"
   ]
  },
  {
   "attachments": {},
   "cell_type": "markdown",
   "metadata": {},
   "source": [
    "## 通常の場合\n"
   ]
  },
  {
   "cell_type": "code",
   "execution_count": 5,
   "metadata": {},
   "outputs": [
    {
     "name": "stdout",
     "output_type": "stream",
     "text": [
      "2_Demonstration_Demonstration_Or_Protest_2_1.jpg\n",
      "2_Demonstration_Demonstration_Or_Protest_2_102.jpg\n",
      "2_Demonstration_Demonstration_Or_Protest_2_114.jpg\n",
      "2_Demonstration_Demonstration_Or_Protest_2_30.jpg\n",
      "2_Demonstration_Demonstration_Or_Protest_2_32.jpg\n",
      "2_Demonstration_Demonstration_Or_Protest_2_54.jpg\n",
      "2_Demonstration_Demonstration_Or_Protest_2_58.jpg\n",
      "2_Demonstration_Demonstration_Or_Protest_2_76.jpg\n",
      "2_Demonstration_Demonstration_Or_Protest_2_79.jpg\n",
      "2_Demonstration_Demonstration_Or_Protest_2_98.jpg\n"
     ]
    }
   ],
   "source": [
    "dataset_dir = Path(\"../../sample_data/WIDER_OpenData/2--Demonstration/\")\n",
    "img_paths = list(dataset_dir.glob(\"**/*.jpg\"))\n",
    "\n",
    "for img_path in img_paths:\n",
    "    print(img_path.name)"
   ]
  },
  {
   "attachments": {},
   "cell_type": "markdown",
   "metadata": {},
   "source": [
    "## 揃えた場合"
   ]
  },
  {
   "cell_type": "code",
   "execution_count": 6,
   "metadata": {},
   "outputs": [
    {
     "name": "stdout",
     "output_type": "stream",
     "text": [
      "2_Demonstration_Demonstration_Or_Protest_2_1.jpg\n",
      "2_Demonstration_Demonstration_Or_Protest_2_30.jpg\n",
      "2_Demonstration_Demonstration_Or_Protest_2_32.jpg\n",
      "2_Demonstration_Demonstration_Or_Protest_2_54.jpg\n",
      "2_Demonstration_Demonstration_Or_Protest_2_58.jpg\n",
      "2_Demonstration_Demonstration_Or_Protest_2_76.jpg\n",
      "2_Demonstration_Demonstration_Or_Protest_2_79.jpg\n",
      "2_Demonstration_Demonstration_Or_Protest_2_98.jpg\n",
      "2_Demonstration_Demonstration_Or_Protest_2_102.jpg\n",
      "2_Demonstration_Demonstration_Or_Protest_2_114.jpg\n"
     ]
    }
   ],
   "source": [
    "dataset_dir = Path(\"../../sample_data/WIDER_OpenData/2--Demonstration/\")\n",
    "img_paths = list(dataset_dir.glob(\"*.jpg\"))\n",
    "img_paths = sorted(map(str, img_paths), key=natural_keys)\n",
    "\n",
    "for img_path in img_paths:\n",
    "    print(Path(img_path).name)"
   ]
  }
 ],
 "metadata": {
  "kernelspec": {
   "display_name": "diffusers",
   "language": "python",
   "name": "python3"
  },
  "language_info": {
   "codemirror_mode": {
    "name": "ipython",
    "version": 3
   },
   "file_extension": ".py",
   "mimetype": "text/x-python",
   "name": "python",
   "nbconvert_exporter": "python",
   "pygments_lexer": "ipython3",
   "version": "3.11.5"
  },
  "orig_nbformat": 4
 },
 "nbformat": 4,
 "nbformat_minor": 2
}
