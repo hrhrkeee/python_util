{
 "cells": [
  {
   "cell_type": "code",
   "execution_count": 9,
   "metadata": {},
   "outputs": [
    {
     "name": "stdout",
     "output_type": "stream",
     "text": [
      "..\\..\\sample_data\\concrete_sample.jpeg\n",
      "..\\..\\sample_data\\sample_jpg.jpg\n",
      "..\\..\\sample_data\\sample_person.jpg\n",
      "..\\..\\sample_data\\sample_png.png\n"
     ]
    }
   ],
   "source": [
    "from pathlib import Path\n",
    "\n",
    "target_extensions = (\"jpg\", \"jpeg\", \"png\")\n",
    "dataset_dir_path = Path(\"../../sample_data/\")\n",
    "\n",
    "for path in dataset_dir_path.glob(\"*\"):\n",
    "  if not path.suffix[1:] in target_extensions:\n",
    "    continue\n",
    "\n",
    "  print(path)\n"
   ]
  },
  {
   "cell_type": "code",
   "execution_count": 10,
   "metadata": {},
   "outputs": [
    {
     "name": "stdout",
     "output_type": "stream",
     "text": [
      "..\\..\\sample_data\\concrete_sample.jpeg\n",
      "..\\..\\sample_data\\sample_jpg.jpg\n",
      "..\\..\\sample_data\\sample_person.jpg\n",
      "..\\..\\sample_data\\sample_png.png\n"
     ]
    }
   ],
   "source": [
    "target_extensions = (\"jpg\", \"jpeg\", \"png\")\n",
    "dataset_dir_path = Path(\"../../sample_data/\")\n",
    "\n",
    "get_list = [str(path) for path in dataset_dir_path.glob(\"*\") if path.suffix[1:] in target_extensions]\n",
    "\n",
    "for path in get_list:\n",
    "  print(path)"
   ]
  }
 ],
 "metadata": {
  "kernelspec": {
   "display_name": "mat",
   "language": "python",
   "name": "python3"
  },
  "language_info": {
   "codemirror_mode": {
    "name": "ipython",
    "version": 3
   },
   "file_extension": ".py",
   "mimetype": "text/x-python",
   "name": "python",
   "nbconvert_exporter": "python",
   "pygments_lexer": "ipython3",
   "version": "3.11.5"
  },
  "orig_nbformat": 4,
  "vscode": {
   "interpreter": {
    "hash": "f9c3ed66c8e400ba6fc2c9d70a6d8d86311c686d2d6c50b9ac4cd8cac700519d"
   }
  }
 },
 "nbformat": 4,
 "nbformat_minor": 2
}
