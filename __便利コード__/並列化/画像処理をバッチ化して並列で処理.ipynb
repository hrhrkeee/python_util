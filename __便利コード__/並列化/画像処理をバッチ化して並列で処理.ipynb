{
 "cells": [
  {
   "cell_type": "markdown",
   "metadata": {},
   "source": [
    "### 画像処理を並列化して高速化\n",
    "\n",
    "サンプルコードは，カラー画像からグレイスケールにした画像を保存する処理"
   ]
  },
  {
   "cell_type": "code",
   "execution_count": 1,
   "metadata": {},
   "outputs": [],
   "source": [
    "from concurrent.futures import ThreadPoolExecutor\n",
    "from pathlib import Path\n",
    "import cv2\n",
    "import numpy as np\n",
    "\n",
    "def process(img: np.ndarray) -> np.ndarray:\n",
    "    \"\"\"グレースケールに変換する画像処理関数\"\"\"\n",
    "    return cv2.cvtColor(img, cv2.COLOR_BGR2GRAY)\n",
    "\n",
    "def process_image(file_path: Path, output_dir: Path):\n",
    "    \"\"\"指定された画像ファイルを処理して、指定されたディレクトリに保存する\"\"\"\n",
    "    img = cv2.imread(str(file_path))\n",
    "    img = process(img)\n",
    "    output_path = output_dir / file_path.name\n",
    "    cv2.imwrite(str(output_path), img)\n",
    "\n",
    "def batch_process_images(input_dir: str, output_dir: str, max_workers: int = 4):\n",
    "    \"\"\"指定されたディレクトリ内のすべての画像をバッチ処理する\"\"\"\n",
    "    input_dir = Path(input_dir)\n",
    "    output_dir = Path(output_dir)\n",
    "    image_files = list(input_dir.glob('*.jpg'))  # 拡張子は適宜変更\n",
    "\n",
    "    if not output_dir.exists():\n",
    "        output_dir.mkdir(parents=True)\n",
    "\n",
    "    with ThreadPoolExecutor(max_workers=max_workers) as executor:\n",
    "        for file_path in image_files:\n",
    "            executor.submit(process_image, file_path, output_dir)\n",
    "\n",
    "# 使用例\n",
    "input_directory = '../../sample_data/coco_sample_datasets/sample_coco_train2017/'  # 入力ディレクトリ\n",
    "output_directory = './output/' # 出力ディレクトリ\n",
    "batch_process_images(input_directory, output_directory, max_workers=128)\n"
   ]
  }
 ],
 "metadata": {
  "kernelspec": {
   "display_name": "ymc",
   "language": "python",
   "name": "python3"
  },
  "language_info": {
   "codemirror_mode": {
    "name": "ipython",
    "version": 3
   },
   "file_extension": ".py",
   "mimetype": "text/x-python",
   "name": "python",
   "nbconvert_exporter": "python",
   "pygments_lexer": "ipython3",
   "version": "3.11.5"
  }
 },
 "nbformat": 4,
 "nbformat_minor": 2
}
