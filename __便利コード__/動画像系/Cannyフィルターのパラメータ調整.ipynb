{
 "cells": [
  {
   "cell_type": "code",
   "execution_count": 5,
   "metadata": {},
   "outputs": [
    {
     "data": {
      "application/vnd.jupyter.widget-view+json": {
       "model_id": "fd38768a21c7411eb8891823af9697b3",
       "version_major": 2,
       "version_minor": 0
      },
      "text/plain": [
       "interactive(children=(SelectionRangeSlider(description='threshold', index=(100, 200), layout=Layout(width='400…"
      ]
     },
     "execution_count": 5,
     "metadata": {},
     "output_type": "execute_result"
    }
   ],
   "source": [
    "import cv2\n",
    "import numpy as np\n",
    "from IPython.display import Image, display\n",
    "from ipywidgets import widgets\n",
    "\n",
    "\n",
    "def imshow(img):\n",
    "    \"\"\"画像を Notebook 上に表示する。\n",
    "    \"\"\"\n",
    "    ret, encoded = cv2.imencode(\".png\", img)\n",
    "    display(Image(encoded))\n",
    "\n",
    "\n",
    "def canny(img, thresh, apertureSize, L2gradient):\n",
    "    \"\"\"2値化処理を行い、結果を表示する。\n",
    "    \"\"\"\n",
    "    edges = cv2.Canny(\n",
    "        img, thresh[0], thresh[1], apertureSize=apertureSize, L2gradient=L2gradient\n",
    "    )\n",
    "    imshow(edges)\n",
    "\n",
    "\n",
    "# パラメータ「threshold1」「threshold2」を設定するスライダー\n",
    "thresh_slider = widgets.SelectionRangeSlider(\n",
    "    options=np.arange(1000), index=(100, 200), description=f\"threshold\"\n",
    ")\n",
    "thresh_slider.layout.width = \"400px\"\n",
    "\n",
    "# パラメータ「apertureSize」を設定するスライダー\n",
    "aperture_size_slider = slider = widgets.IntSlider(\n",
    "    min=3, max=7, step=2, value=3, description=\"apertureSize: \"\n",
    ")\n",
    "aperture_size_slider.layout.width = \"400px\"\n",
    "\n",
    "# パラメータ「L2gradient」を設定するチェックボックス\n",
    "l2_gradient_checkbox = widgets.Checkbox(value=False, description=\"L2gradient: \")\n",
    "l2_gradient_checkbox.layout.width = \"400px\"\n",
    "\n",
    "# 画像を読み込む。\n",
    "img = cv2.imread(\"../../../AI_Augmentation/__dataset__/03_controlnet/Canny/Buds_Dataset/train/target/26_U3-1_TOP_3600_0.jpg\")\n",
    "\n",
    "# ウィジェットを表示する。\n",
    "widgets.interactive(\n",
    "    canny,\n",
    "    img=widgets.fixed(img),\n",
    "    thresh=thresh_slider,\n",
    "    apertureSize=aperture_size_slider,\n",
    "    L2gradient=l2_gradient_checkbox,\n",
    ")"
   ]
  }
 ],
 "metadata": {
  "kernelspec": {
   "display_name": "aiaug",
   "language": "python",
   "name": "python3"
  },
  "language_info": {
   "codemirror_mode": {
    "name": "ipython",
    "version": 3
   },
   "file_extension": ".py",
   "mimetype": "text/x-python",
   "name": "python",
   "nbconvert_exporter": "python",
   "pygments_lexer": "ipython3",
   "version": "3.9.12"
  },
  "orig_nbformat": 4
 },
 "nbformat": 4,
 "nbformat_minor": 2
}
