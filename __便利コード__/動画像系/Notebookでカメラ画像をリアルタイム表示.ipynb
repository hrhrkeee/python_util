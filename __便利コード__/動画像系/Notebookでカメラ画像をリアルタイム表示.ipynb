{
 "cells": [
  {
   "cell_type": "code",
   "execution_count": 7,
   "metadata": {},
   "outputs": [],
   "source": [
    "import cv2\n",
    "import IPython\n",
    "from PIL import Image\n",
    "from io import BytesIO\n",
    "\n",
    "def show_camera(device=0, fmt=\"jpeg\"):\n",
    "\n",
    "    cap = cv2.VideoCapture(device)\n",
    "    assert cap.isOpened(), 'Could not open video device'\n",
    "\n",
    "    try:\n",
    "        while(True):\n",
    "            ret, frame = cap.read()\n",
    "\n",
    "            if ret:\n",
    "                frame = cv2.cvtColor(frame, cv2.COLOR_BGR2RGB)\n",
    "\n",
    "                f = BytesIO()\n",
    "                Image.fromarray(frame).save(f, fmt)\n",
    "                IPython.display.display(IPython.display.Image(data=f.getvalue()))\n",
    "                \n",
    "                IPython.display.clear_output(wait=True)\n",
    "\n",
    "    except KeyboardInterrupt:\n",
    "        cap.release()\n",
    "        print('Stream stopped')\n",
    "\n",
    "    return None"
   ]
  },
  {
   "cell_type": "code",
   "execution_count": 8,
   "metadata": {},
   "outputs": [
    {
     "name": "stdout",
     "output_type": "stream",
     "text": [
      "Stream stopped\n"
     ]
    }
   ],
   "source": [
    "show_camera()"
   ]
  }
 ],
 "metadata": {
  "kernelspec": {
   "display_name": "hirahara",
   "language": "python",
   "name": "python3"
  },
  "language_info": {
   "codemirror_mode": {
    "name": "ipython",
    "version": 3
   },
   "file_extension": ".py",
   "mimetype": "text/x-python",
   "name": "python",
   "nbconvert_exporter": "python",
   "pygments_lexer": "ipython3",
   "version": "3.9.12"
  },
  "orig_nbformat": 4
 },
 "nbformat": 4,
 "nbformat_minor": 2
}
