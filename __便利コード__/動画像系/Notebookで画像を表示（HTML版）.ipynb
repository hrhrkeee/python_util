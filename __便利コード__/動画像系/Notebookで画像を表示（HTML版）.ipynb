{
 "cells": [
  {
   "cell_type": "code",
   "execution_count": null,
   "metadata": {},
   "outputs": [],
   "source": [
    "import io\n",
    "import cv2\n",
    "import base64\n",
    "import numpy as np\n",
    "from PIL import Image\n",
    "from pathlib import Path\n",
    "from IPython.display import HTML\n",
    "from typing import Any, Optional, Union\n",
    "\n",
    "\n",
    "def display_images_grid_html(images, cols=3, row_height=200, labels=None, font_scale=1.0):\n",
    "    \n",
    "    def _convert_imageType_for_html(image: Any) -> Optional[Union[Path, str]]:\n",
    "        \n",
    "        if isinstance(image, (str, Path)):\n",
    "            path = Path(image)\n",
    "            if path.is_file() and path.exists(): return path\n",
    "            else: return None\n",
    "\n",
    "        if isinstance(image, Image.Image):\n",
    "            buffered = io.BytesIO()\n",
    "            image.save(buffered, format=\"PNG\")\n",
    "            img_base64 = base64.b64encode(buffered.getvalue()).decode(\"utf-8\")\n",
    "            return f\"data:image/png;base64,{img_base64}\"\n",
    "\n",
    "        if isinstance(image, np.ndarray):\n",
    "            ret, buf = cv2.imencode('.png', image)\n",
    "            if ret:\n",
    "                img_base64 = base64.b64encode(buf.tobytes()).decode(\"utf-8\")\n",
    "                return f\"data:image/png;base64,{img_base64}\"\n",
    "            else:\n",
    "                return None\n",
    "\n",
    "        return None\n",
    "    \n",
    "    if labels is not None and len(labels) != len(images):\n",
    "        raise ValueError(\"labels の要素数は images の要素数と一致する必要があります\")\n",
    "    \n",
    "    # フォントサイズの設定（基本サイズ 14px に倍率をかける）\n",
    "    base_font_size = 14\n",
    "    font_size = base_font_size * font_scale\n",
    "\n",
    "    html = \"<table style='border-collapse: collapse;'>\"\n",
    "    for i, img in enumerate(images):\n",
    "        if i % cols == 0:\n",
    "            html += \"<tr>\"\n",
    "        \n",
    "        converted = _convert_imageType_for_html(img)\n",
    "        if converted is None:\n",
    "            converted = \"\"\n",
    "        \n",
    "        cell_content = f\"<img src='{converted}' height='{row_height}px'>\"\n",
    "        \n",
    "        if labels is not None:\n",
    "            label_text = labels[i].replace(\"\\n\", \"<br>\")\n",
    "            cell_content += f\"<br><div style='text-align: center; font-size: {font_size}px;'>{label_text}</div>\"\n",
    "        \n",
    "        html += f\"<td style='padding: 5px; text-align: center;'>{cell_content}</td>\"\n",
    "        \n",
    "        if i % cols == cols - 1:\n",
    "            html += \"</tr>\"\n",
    "            \n",
    "    if len(images) % cols:\n",
    "        html += \"</tr>\"\n",
    "        \n",
    "    html += \"</table>\"\n",
    "    return HTML(html)\n"
   ]
  },
  {
   "cell_type": "markdown",
   "metadata": {},
   "source": [
    "### 様々な形式で表示可能"
   ]
  },
  {
   "cell_type": "code",
   "execution_count": 38,
   "metadata": {},
   "outputs": [
    {
     "data": {
      "text/html": [
       "<table style='border-collapse: collapse;'><tr><td style='padding: 5px; text-align: center;'><img src='..\\..\\sample_data\\coco_sample_datasets\\sample_coco_train2017\\000000544334.jpg' height='200px'><br><div style='text-align: center; font-size: 14.0px;'>Image 1<br>(000000544334.jpg)</div></td><td style='padding: 5px; text-align: center;'><img src='..\\..\\sample_data\\coco_sample_datasets\\sample_coco_train2017\\000000187986.jpg' height='200px'><br><div style='text-align: center; font-size: 14.0px;'>Image 2<br>(000000187986.jpg)</div></td><td style='padding: 5px; text-align: center;'><img src='..\\..\\sample_data\\coco_sample_datasets\\sample_coco_train2017\\000000188137.jpg' height='200px'><br><div style='text-align: center; font-size: 14.0px;'>Image 3<br>(000000188137.jpg)</div></td><td style='padding: 5px; text-align: center;'><img src='..\\..\\sample_data\\coco_sample_datasets\\sample_coco_train2017\\000000188087.jpg' height='200px'><br><div style='text-align: center; font-size: 14.0px;'>Image 4<br>(000000188087.jpg)</div></td><td style='padding: 5px; text-align: center;'><img src='..\\..\\sample_data\\coco_sample_datasets\\sample_coco_train2017\\000000544341.jpg' height='200px'><br><div style='text-align: center; font-size: 14.0px;'>Image 5<br>(000000544341.jpg)</div></td><td style='padding: 5px; text-align: center;'><img src='..\\..\\sample_data\\coco_sample_datasets\\sample_coco_train2017\\000000188183.jpg' height='200px'><br><div style='text-align: center; font-size: 14.0px;'>Image 6<br>(000000188183.jpg)</div></td></tr><tr><td style='padding: 5px; text-align: center;'><img src='..\\..\\sample_data\\coco_sample_datasets\\sample_coco_train2017\\000000188044.jpg' height='200px'><br><div style='text-align: center; font-size: 14.0px;'>Image 7<br>(000000188044.jpg)</div></td><td style='padding: 5px; text-align: center;'><img src='..\\..\\sample_data\\coco_sample_datasets\\sample_coco_train2017\\000000544386.jpg' height='200px'><br><div style='text-align: center; font-size: 14.0px;'>Image 8<br>(000000544386.jpg)</div></td><td style='padding: 5px; text-align: center;'><img src='..\\..\\sample_data\\coco_sample_datasets\\sample_coco_train2017\\000000188001.jpg' height='200px'><br><div style='text-align: center; font-size: 14.0px;'>Image 9<br>(000000188001.jpg)</div></td><td style='padding: 5px; text-align: center;'><img src='..\\..\\sample_data\\coco_sample_datasets\\sample_coco_train2017\\000000188002.jpg' height='200px'><br><div style='text-align: center; font-size: 14.0px;'>Image 10<br>(000000188002.jpg)</div></td></tr></table>"
      ],
      "text/plain": [
       "<IPython.core.display.HTML object>"
      ]
     },
     "execution_count": 38,
     "metadata": {},
     "output_type": "execute_result"
    }
   ],
   "source": [
    "import random\n",
    "from pathlib import Path\n",
    "\n",
    "sample_num = 10\n",
    "image_paths = random.sample(list(Path(\"../../sample_data/coco_sample_datasets/sample_coco_train2017/\").glob(\"*.jpg\")), sample_num)\n",
    "\n",
    "images  = [str(img) for img in image_paths[::4]] # 画像ファイルパス(str)のリスト\n",
    "images += [img for img in image_paths[1::4]] # 画像ファイルパス(pathlib.Path)のリスト\n",
    "images += [cv2.imread(str(img)) for img in image_paths[2::4]] # OpenCV 画像(numpy.ndarray)のリスト\n",
    "images += [Image.open(img) for img in image_paths[3::4]] # Pillow 画像(PIL.Image.Image)のリスト\n",
    "labels = [f\"Image {i+1}\\n({image_paths[i].name})\" for i in range(sample_num)]\n",
    "\n",
    "display_images_grid_html(image_paths, cols=6, row_height=200, labels=labels, font_scale=1.0)"
   ]
  },
  {
   "cell_type": "code",
   "execution_count": null,
   "metadata": {},
   "outputs": [],
   "source": []
  }
 ],
 "metadata": {
  "kernelspec": {
   "display_name": "base",
   "language": "python",
   "name": "python3"
  },
  "language_info": {
   "codemirror_mode": {
    "name": "ipython",
    "version": 3
   },
   "file_extension": ".py",
   "mimetype": "text/x-python",
   "name": "python",
   "nbconvert_exporter": "python",
   "pygments_lexer": "ipython3",
   "version": "3.12.8"
  }
 },
 "nbformat": 4,
 "nbformat_minor": 2
}
