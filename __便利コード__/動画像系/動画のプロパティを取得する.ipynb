{
 "cells": [
  {
   "cell_type": "code",
   "execution_count": 2,
   "metadata": {},
   "outputs": [
    {
     "name": "stdout",
     "output_type": "stream",
     "text": [
      "width: 1280.0\n",
      "height: 720.0\n",
      "fps: 29.97002997002997\n",
      "frame_count: 528.0\n",
      "length: 17.6176 s\n",
      "fourcc: avc1\n"
     ]
    }
   ],
   "source": [
    "# OpenCVをインポート\n",
    "import cv2\n",
    "\n",
    "# サンプル動画ファイル\n",
    "videoPath = \"../../sample_data/sample2_mp4.mp4\"\n",
    "cap = cv2.VideoCapture(videoPath)\n",
    "\n",
    "# 横幅\n",
    "print(f\"width: {cap.get(cv2.CAP_PROP_FRAME_WIDTH)}\")\n",
    "# width: 600.0\n",
    "\n",
    "# 高さ\n",
    "print(f\"height: {cap.get(cv2.CAP_PROP_FRAME_HEIGHT)}\")\n",
    "# height: 360.0\n",
    "\n",
    "# フレームレート\n",
    "print(f\"fps: {cap.get(cv2.CAP_PROP_FPS)}\")\n",
    "# fps: 30.0\n",
    "\n",
    "# フレーム数\n",
    "print(f\"frame_count: {cap.get(cv2.CAP_PROP_FRAME_COUNT)}\")\n",
    "# frame_count: 639.0\n",
    "\n",
    "# 再生時間\n",
    "print(f\"length: {cap.get(cv2.CAP_PROP_FRAME_COUNT) / cap.get(cv2.CAP_PROP_FPS)} s\")\n",
    "# length: 21.3 s\n",
    "\n",
    "print(\"fourcc: \" + int(cap.get(cv2.CAP_PROP_FOURCC)).to_bytes(4, \"little\").decode(\"utf-8\"))\n",
    "# fourcc: avc1\n",
    "# コーデックの種類を4文字で表すコード"
   ]
  }
 ],
 "metadata": {
  "kernelspec": {
   "display_name": "diffusers",
   "language": "python",
   "name": "python3"
  },
  "language_info": {
   "codemirror_mode": {
    "name": "ipython",
    "version": 3
   },
   "file_extension": ".py",
   "mimetype": "text/x-python",
   "name": "python",
   "nbconvert_exporter": "python",
   "pygments_lexer": "ipython3",
   "version": "3.9.12"
  },
  "orig_nbformat": 4
 },
 "nbformat": 4,
 "nbformat_minor": 2
}
