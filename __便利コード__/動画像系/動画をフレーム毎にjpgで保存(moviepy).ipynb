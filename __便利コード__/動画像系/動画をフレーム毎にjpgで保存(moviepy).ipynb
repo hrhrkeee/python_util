{
 "cells": [
  {
   "cell_type": "code",
   "execution_count": 4,
   "metadata": {},
   "outputs": [
    {
     "name": "stdout",
     "output_type": "stream",
     "text": [
      "The autoreload extension is already loaded. To reload it, use:\n",
      "  %reload_ext autoreload\n"
     ]
    }
   ],
   "source": [
    "%load_ext autoreload\n",
    "%autoreload 2\n",
    "%matplotlib inline\n",
    "\n",
    "import cv2, os, time\n",
    "from moviepy.editor import *\n",
    "from tqdm import tqdm\n",
    "from pathlib import Path\n",
    "\n",
    "def video2image( video_path:str,\n",
    "                 output_dir:str  = \"./output/\",\n",
    "                 output_subDir_name:str = None,\n",
    "                 init_frame:int  = 0,\n",
    "                 final_frame:int = None,\n",
    "                 skip:int        = 1,\n",
    "                 output_ext:str  = \"jpg\",\n",
    "                 frame_proc_func = lambda x:x,\n",
    "                ):\n",
    "    '''\n",
    "        動画ファイルからフレームを切り出して画像（jpg）で保存する\n",
    "\n",
    "        args:\n",
    "            video_path(str)        : 対象の動画データの場所\n",
    "            output_dir(str)        : 切り出したフレームの保存先(中に動画ファイル名と同じディレクトリが生成される)\n",
    "            output_subDir_name(str): 画像を保存するサブディレクトリの名前\n",
    "            init_frame(int)        : 切り取り対象とする初期フレーム\n",
    "            final_frame(int)       : 切り取り対象とする最終フレーム\n",
    "            skip(int)              : skipフレームごとにフレームを保存\n",
    "            output_ext(str)        : フレームを保存する際の画像の拡張子（\".\"なし）\n",
    "            frame_proc_func(func)  : 切り出しフレームに対して前処理を行うための関数\n",
    "\n",
    "        return:\n",
    "            None\n",
    "    '''\n",
    "\n",
    "    video_path = Path(video_path)\n",
    "    if output_subDir_name is None:\n",
    "        output_subDir_name = video_path.stem\n",
    "\n",
    "    output_dir = Path(output_dir)/Path(output_subDir_name)\n",
    "    os.makedirs(output_dir, exist_ok=True)\n",
    "\n",
    "    base_path = output_dir/video_path.stem\n",
    "\n",
    "    if not video_path.exists():\n",
    "        raise Exception(\"this file does not exist.\")\n",
    "\n",
    "    print(\"{} --> {}_**.{}\".format(video_path, base_path, output_ext))\n",
    "\n",
    "    video_clip = VideoFileClip(str(video_path))\n",
    "\n",
    "    total_frame = int(video_clip.reader.nframes)\n",
    "    fps         = video_clip.fps\n",
    "    digit       = len(str(total_frame))\n",
    "\n",
    "    if (final_frame is None) or (final_frame > total_frame):\n",
    "        final_frame = total_frame\n",
    "    if final_frame < 0:\n",
    "        final_frame = total_frame + (final_frame)\n",
    "\n",
    "    print(\"total_frame: {}, fps: {}, digit: {}\".format(total_frame, fps, digit))\n",
    "    print(\"init_frame: {}, final_frame: {}\".format(init_frame, final_frame))\n",
    "\n",
    "    for i, frame in tqdm(enumerate(video_clip.iter_frames()), initial=-1, total=final_frame, desc=\"video2image\"):\n",
    "        time.sleep(0.1)\n",
    "        if i < init_frame:\n",
    "            continue\n",
    "        if i > final_frame:\n",
    "            break\n",
    "\n",
    "        frame = frame_proc_func(frame)\n",
    "        cv2.imwrite('{}_{}.{}'.format(base_path, str(i).zfill(digit), output_ext), frame[:,:,::-1])\n",
    "\n",
    "        del frame\n",
    "\n",
    "    return None\n"
   ]
  },
  {
   "cell_type": "code",
   "execution_count": 5,
   "metadata": {},
   "outputs": [
    {
     "name": "stdout",
     "output_type": "stream",
     "text": [
      "..\\..\\sample_data\\sample_mp4.mp4 --> output\\test_name\\sample_mp4_**.jpg\n",
      "total_frame: 325, fps: 25.0, digit: 3\n",
      "init_frame: 50, final_frame: 100\n"
     ]
    },
    {
     "name": "stderr",
     "output_type": "stream",
     "text": [
      "video2image: 100%|██████████| 100/100 [00:11<00:00,  8.71it/s]\n"
     ]
    }
   ],
   "source": [
    "import shutil\n",
    "video_path = \"../../sample_data/sample_mp4.mp4\"\n",
    "output_dir = \"./output/\"\n",
    "\n",
    "video2image(video_path=video_path,\n",
    "            output_dir=output_dir, \n",
    "            output_subDir_name=\"test_name\",\n",
    "            init_frame=50, \n",
    "            final_frame=100,\n",
    "            output_ext=\"jpg\",\n",
    "            )\n"
   ]
  }
 ],
 "metadata": {
  "kernelspec": {
   "display_name": "detectron2",
   "language": "python",
   "name": "python3"
  },
  "language_info": {
   "codemirror_mode": {
    "name": "ipython",
    "version": 3
   },
   "file_extension": ".py",
   "mimetype": "text/x-python",
   "name": "python",
   "nbconvert_exporter": "python",
   "pygments_lexer": "ipython3",
   "version": "3.11.5"
  },
  "orig_nbformat": 4,
  "vscode": {
   "interpreter": {
    "hash": "0b6ebfbeff773078f8ee80af612d8e04d2c53908c329b3ca2a1366aa2881ec7d"
   }
  }
 },
 "nbformat": 4,
 "nbformat_minor": 2
}
