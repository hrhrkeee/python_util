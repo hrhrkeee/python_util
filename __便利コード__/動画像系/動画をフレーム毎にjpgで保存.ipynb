{
 "cells": [
  {
   "cell_type": "code",
   "execution_count": 5,
   "metadata": {},
   "outputs": [],
   "source": [
    "import cv2, os\n",
    "from tqdm import tqdm\n",
    "from pathlib import Path\n",
    "\n",
    "def video2image( video_path:str,\n",
    "                 output_dir:str  = \"./output/\",\n",
    "                 output_subDir_name:str = None,\n",
    "                 init_frame:int  = 0,\n",
    "                 final_frame:int = None,\n",
    "                 skip:int        = 1,\n",
    "                 output_ext:str  = \"jpg\",\n",
    "                 frame_proc_func = lambda x:x,\n",
    "                ):\n",
    "    '''\n",
    "        動画ファイルからフレームを切り出して画像（jpg）で保存する\n",
    "\n",
    "        args:\n",
    "            video_path(str)        : 対象の動画データの場所\n",
    "            output_dir(str)        : 切り出したフレームの保存先(中に動画ファイル名と同じディレクトリが生成される)\n",
    "            output_subDir_name(str): 画像を保存するサブディレクトリの名前\n",
    "            init_frame(int)        : 切り取り対象とする初期フレーム\n",
    "            final_frame(int)       : 切り取り対象とする最終フレーム\n",
    "            skip(int)              : skipフレームごとにフレームを保存\n",
    "            output_ext(str)        : フレームを保存する際の画像の拡張子（\".\"なし）\n",
    "            frame_proc_func(func)  : 切り出しフレームに対して前処理を行うための関数\n",
    "\n",
    "        return:\n",
    "            None\n",
    "    '''\n",
    "    \n",
    "    video_path = Path(video_path)\n",
    "    if output_subDir_name is None:\n",
    "        output_subDir_name = video_path.stem\n",
    "\n",
    "    output_dir = Path(output_dir)/Path(output_subDir_name)\n",
    "    base_path = output_dir/video_path.stem\n",
    "\n",
    "    if not video_path.exists():\n",
    "        raise Exception(\"this file does not exist.\")\n",
    "\n",
    "    print(\"{} --> {}_**.{}\".format(video_path, base_path, output_ext))\n",
    "\n",
    "    cap = cv2.VideoCapture(str(video_path))\n",
    "    if not cap.isOpened():\n",
    "        return\n",
    "\n",
    "    os.makedirs(output_dir, exist_ok=True)\n",
    "\n",
    "    total_frame = int(cap.get(cv2.CAP_PROP_FRAME_COUNT))\n",
    "    fps = cap.get(cv2.CAP_PROP_FPS)\n",
    "    digit = len(str(total_frame))\n",
    "\n",
    "    if (final_frame is None) or (final_frame > total_frame):\n",
    "        final_frame = total_frame\n",
    "    if final_frame < 0:\n",
    "        final_frame = 0\n",
    "\n",
    "    for i in tqdm(range(init_frame, final_frame, skip), desc=\"video2image\"):\n",
    "        cap.set(cv2.CAP_PROP_POS_FRAMES, i)\n",
    "        ret, frame = cap.read()\n",
    "        if ret:\n",
    "            frame = frame_proc_func(frame)\n",
    "            cv2.imwrite('{}_{}.{}'.format(base_path, str(i).zfill(digit), output_ext), frame)\n",
    "\n",
    "        else:\n",
    "            pass\n",
    "            # return None\n",
    "        del ret, frame"
   ]
  },
  {
   "cell_type": "code",
   "execution_count": 6,
   "metadata": {},
   "outputs": [
    {
     "name": "stdout",
     "output_type": "stream",
     "text": [
      "['output\\\\']\n",
      "..\\..\\sample_data\\sample_mp4.mp4 --> output\\test_name\\sample_mp4_**.jpg\n"
     ]
    },
    {
     "name": "stderr",
     "output_type": "stream",
     "text": [
      "video2image:   0%|          | 0/50 [00:00<?, ?it/s]"
     ]
    },
    {
     "name": "stderr",
     "output_type": "stream",
     "text": [
      "video2image: 100%|██████████| 50/50 [00:03<00:00, 14.13it/s]"
     ]
    },
    {
     "name": "stdout",
     "output_type": "stream",
     "text": [
      "['output\\\\', 'output\\\\test_name', 'output\\\\test_name\\\\sample_mp4_050.jpg', 'output\\\\test_name\\\\sample_mp4_051.jpg', 'output\\\\test_name\\\\sample_mp4_052.jpg', 'output\\\\test_name\\\\sample_mp4_053.jpg', 'output\\\\test_name\\\\sample_mp4_054.jpg', 'output\\\\test_name\\\\sample_mp4_055.jpg', 'output\\\\test_name\\\\sample_mp4_056.jpg', 'output\\\\test_name\\\\sample_mp4_057.jpg', 'output\\\\test_name\\\\sample_mp4_058.jpg', 'output\\\\test_name\\\\sample_mp4_059.jpg', 'output\\\\test_name\\\\sample_mp4_060.jpg', 'output\\\\test_name\\\\sample_mp4_061.jpg', 'output\\\\test_name\\\\sample_mp4_062.jpg', 'output\\\\test_name\\\\sample_mp4_063.jpg', 'output\\\\test_name\\\\sample_mp4_064.jpg', 'output\\\\test_name\\\\sample_mp4_065.jpg', 'output\\\\test_name\\\\sample_mp4_066.jpg', 'output\\\\test_name\\\\sample_mp4_067.jpg', 'output\\\\test_name\\\\sample_mp4_068.jpg', 'output\\\\test_name\\\\sample_mp4_069.jpg', 'output\\\\test_name\\\\sample_mp4_070.jpg', 'output\\\\test_name\\\\sample_mp4_071.jpg', 'output\\\\test_name\\\\sample_mp4_072.jpg', 'output\\\\test_name\\\\sample_mp4_073.jpg', 'output\\\\test_name\\\\sample_mp4_074.jpg', 'output\\\\test_name\\\\sample_mp4_075.jpg', 'output\\\\test_name\\\\sample_mp4_076.jpg', 'output\\\\test_name\\\\sample_mp4_077.jpg', 'output\\\\test_name\\\\sample_mp4_078.jpg', 'output\\\\test_name\\\\sample_mp4_079.jpg', 'output\\\\test_name\\\\sample_mp4_080.jpg', 'output\\\\test_name\\\\sample_mp4_081.jpg', 'output\\\\test_name\\\\sample_mp4_082.jpg', 'output\\\\test_name\\\\sample_mp4_083.jpg', 'output\\\\test_name\\\\sample_mp4_084.jpg', 'output\\\\test_name\\\\sample_mp4_085.jpg', 'output\\\\test_name\\\\sample_mp4_086.jpg', 'output\\\\test_name\\\\sample_mp4_087.jpg', 'output\\\\test_name\\\\sample_mp4_088.jpg', 'output\\\\test_name\\\\sample_mp4_089.jpg', 'output\\\\test_name\\\\sample_mp4_090.jpg', 'output\\\\test_name\\\\sample_mp4_091.jpg', 'output\\\\test_name\\\\sample_mp4_092.jpg', 'output\\\\test_name\\\\sample_mp4_093.jpg', 'output\\\\test_name\\\\sample_mp4_094.jpg', 'output\\\\test_name\\\\sample_mp4_095.jpg', 'output\\\\test_name\\\\sample_mp4_096.jpg', 'output\\\\test_name\\\\sample_mp4_097.jpg', 'output\\\\test_name\\\\sample_mp4_098.jpg', 'output\\\\test_name\\\\sample_mp4_099.jpg', 'output\\\\test_name\\\\', 'output\\\\test_name\\\\sample_mp4_050.jpg', 'output\\\\test_name\\\\sample_mp4_051.jpg', 'output\\\\test_name\\\\sample_mp4_052.jpg', 'output\\\\test_name\\\\sample_mp4_053.jpg', 'output\\\\test_name\\\\sample_mp4_054.jpg', 'output\\\\test_name\\\\sample_mp4_055.jpg', 'output\\\\test_name\\\\sample_mp4_056.jpg', 'output\\\\test_name\\\\sample_mp4_057.jpg', 'output\\\\test_name\\\\sample_mp4_058.jpg', 'output\\\\test_name\\\\sample_mp4_059.jpg', 'output\\\\test_name\\\\sample_mp4_060.jpg', 'output\\\\test_name\\\\sample_mp4_061.jpg', 'output\\\\test_name\\\\sample_mp4_062.jpg', 'output\\\\test_name\\\\sample_mp4_063.jpg', 'output\\\\test_name\\\\sample_mp4_064.jpg', 'output\\\\test_name\\\\sample_mp4_065.jpg', 'output\\\\test_name\\\\sample_mp4_066.jpg', 'output\\\\test_name\\\\sample_mp4_067.jpg', 'output\\\\test_name\\\\sample_mp4_068.jpg', 'output\\\\test_name\\\\sample_mp4_069.jpg', 'output\\\\test_name\\\\sample_mp4_070.jpg', 'output\\\\test_name\\\\sample_mp4_071.jpg', 'output\\\\test_name\\\\sample_mp4_072.jpg', 'output\\\\test_name\\\\sample_mp4_073.jpg', 'output\\\\test_name\\\\sample_mp4_074.jpg', 'output\\\\test_name\\\\sample_mp4_075.jpg', 'output\\\\test_name\\\\sample_mp4_076.jpg', 'output\\\\test_name\\\\sample_mp4_077.jpg', 'output\\\\test_name\\\\sample_mp4_078.jpg', 'output\\\\test_name\\\\sample_mp4_079.jpg', 'output\\\\test_name\\\\sample_mp4_080.jpg', 'output\\\\test_name\\\\sample_mp4_081.jpg', 'output\\\\test_name\\\\sample_mp4_082.jpg', 'output\\\\test_name\\\\sample_mp4_083.jpg', 'output\\\\test_name\\\\sample_mp4_084.jpg', 'output\\\\test_name\\\\sample_mp4_085.jpg', 'output\\\\test_name\\\\sample_mp4_086.jpg', 'output\\\\test_name\\\\sample_mp4_087.jpg', 'output\\\\test_name\\\\sample_mp4_088.jpg', 'output\\\\test_name\\\\sample_mp4_089.jpg', 'output\\\\test_name\\\\sample_mp4_090.jpg', 'output\\\\test_name\\\\sample_mp4_091.jpg', 'output\\\\test_name\\\\sample_mp4_092.jpg', 'output\\\\test_name\\\\sample_mp4_093.jpg', 'output\\\\test_name\\\\sample_mp4_094.jpg', 'output\\\\test_name\\\\sample_mp4_095.jpg', 'output\\\\test_name\\\\sample_mp4_096.jpg', 'output\\\\test_name\\\\sample_mp4_097.jpg', 'output\\\\test_name\\\\sample_mp4_098.jpg', 'output\\\\test_name\\\\sample_mp4_099.jpg']\n"
     ]
    },
    {
     "name": "stderr",
     "output_type": "stream",
     "text": [
      "\n"
     ]
    }
   ],
   "source": [
    "import shutil\n",
    "from glob import glob\n",
    "\n",
    "video_path = \"../../sample_data/sample_mp4.mp4\"\n",
    "output_dir = \"./output/\"\n",
    "\n",
    "print(glob(str(Path(output_dir)/\"**/**\"), recursive=True))\n",
    "\n",
    "video2image(video_path=video_path,\n",
    "            output_dir=output_dir, \n",
    "            output_subDir_name=\"test_name\",\n",
    "            init_frame=50, \n",
    "            final_frame=100,\n",
    "            output_ext=\"jpg\",\n",
    "            )\n",
    "\n",
    "print(glob(str(Path(output_dir)/\"**/**\"), recursive=True))\n",
    "# shutil.rmtree(output_dir)\n"
   ]
  }
 ],
 "metadata": {
  "kernelspec": {
   "display_name": "detectron2",
   "language": "python",
   "name": "python3"
  },
  "language_info": {
   "codemirror_mode": {
    "name": "ipython",
    "version": 3
   },
   "file_extension": ".py",
   "mimetype": "text/x-python",
   "name": "python",
   "nbconvert_exporter": "python",
   "pygments_lexer": "ipython3",
   "version": "3.11.5"
  },
  "orig_nbformat": 4,
  "vscode": {
   "interpreter": {
    "hash": "0b6ebfbeff773078f8ee80af612d8e04d2c53908c329b3ca2a1366aa2881ec7d"
   }
  }
 },
 "nbformat": 4,
 "nbformat_minor": 2
}
