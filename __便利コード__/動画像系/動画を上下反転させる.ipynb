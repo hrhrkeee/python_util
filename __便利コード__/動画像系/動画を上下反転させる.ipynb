{
 "cells": [
  {
   "cell_type": "code",
   "execution_count": 1,
   "metadata": {},
   "outputs": [],
   "source": [
    "import os\n",
    "from pathlib import Path\n",
    "import moviepy.editor as mp\n",
    "import moviepy.video.fx.all as vfx"
   ]
  },
  {
   "cell_type": "code",
   "execution_count": 2,
   "metadata": {},
   "outputs": [
    {
     "name": "stdout",
     "output_type": "stream",
     "text": [
      "Moviepy - Building video output\\sample_mp4_flip_ud.mp4.\n",
      "MoviePy - Writing audio in sample_mp4_flip_udTEMP_MPY_wvf_snd.mp3\n"
     ]
    },
    {
     "name": "stderr",
     "output_type": "stream",
     "text": [
      "                                                                    \r"
     ]
    },
    {
     "name": "stdout",
     "output_type": "stream",
     "text": [
      "MoviePy - Done.\n",
      "Moviepy - Writing video output\\sample_mp4_flip_ud.mp4\n",
      "\n"
     ]
    },
    {
     "name": "stderr",
     "output_type": "stream",
     "text": [
      "                                                              \r"
     ]
    },
    {
     "name": "stdout",
     "output_type": "stream",
     "text": [
      "Moviepy - Done !\n",
      "Moviepy - video ready output\\sample_mp4_flip_ud.mp4\n",
      "output\\sample_mp4_flip_ud.mp4\n"
     ]
    }
   ],
   "source": [
    "# moviepyを使って動画を上下反転させる関数\n",
    "def flip_ud_movie(movie_path, output_dir):\n",
    "    # 動画の読み込み\n",
    "    clip = mp.VideoFileClip(str(movie_path))\n",
    "    # 上下反転させる\n",
    "    clip = clip.fx(vfx.mirror_y)\n",
    "    # 動画の保存\n",
    "    output_path = str(output_dir / (movie_path.stem + '_flip_ud.mp4'))\n",
    "    clip.write_videofile(output_path)\n",
    "\n",
    "    return output_path\n",
    "\n",
    "movie_path = Path('../../sample_data/sample_mp4.mp4')\n",
    "output_dir = Path(\"./output/\")\n",
    "os.makedirs(output_dir, exist_ok=True)\n",
    "\n",
    "edited_path = flip_ud_movie(movie_path, output_dir)\n",
    "print(edited_path)\n"
   ]
  }
 ],
 "metadata": {
  "kernelspec": {
   "display_name": "aiaug",
   "language": "python",
   "name": "python3"
  },
  "language_info": {
   "codemirror_mode": {
    "name": "ipython",
    "version": 3
   },
   "file_extension": ".py",
   "mimetype": "text/x-python",
   "name": "python",
   "nbconvert_exporter": "python",
   "pygments_lexer": "ipython3",
   "version": "3.11.5"
  },
  "orig_nbformat": 4
 },
 "nbformat": 4,
 "nbformat_minor": 2
}
