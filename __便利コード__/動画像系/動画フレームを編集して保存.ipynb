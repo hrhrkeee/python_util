{
 "cells": [
  {
   "cell_type": "code",
   "execution_count": 2,
   "metadata": {},
   "outputs": [
    {
     "name": "stdout",
     "output_type": "stream",
     "text": [
      "size: (1280, 720), fps: 25.00\n"
     ]
    },
    {
     "ename": "NameError",
     "evalue": "name 'tqdm' is not defined",
     "output_type": "error",
     "traceback": [
      "\u001b[0;31m---------------------------------------------------------------------------\u001b[0m",
      "\u001b[0;31mNameError\u001b[0m                                 Traceback (most recent call last)",
      "\u001b[1;32m/home/dnn100/hirahara/python_util/__便利コード__/動画像系/動画フレームを編集して保存.ipynb セル 1\u001b[0m in \u001b[0;36m<cell line: 16>\u001b[0;34m()\u001b[0m\n\u001b[1;32m     <a href='vscode-notebook-cell://ssh-remote%2Bdnn20/home/dnn100/hirahara/python_util/__%E4%BE%BF%E5%88%A9%E3%82%B3%E3%83%BC%E3%83%89__/%E5%8B%95%E7%94%BB%E5%83%8F%E7%B3%BB/%E5%8B%95%E7%94%BB%E3%83%95%E3%83%AC%E3%83%BC%E3%83%A0%E3%82%92%E7%B7%A8%E9%9B%86%E3%81%97%E3%81%A6%E4%BF%9D%E5%AD%98.ipynb#W0sdnNjb2RlLXJlbW90ZQ%3D%3D?line=12'>13</a>\u001b[0m fmt \u001b[39m=\u001b[39m cv2\u001b[39m.\u001b[39mVideoWriter_fourcc(\u001b[39m'\u001b[39m\u001b[39mm\u001b[39m\u001b[39m'\u001b[39m, \u001b[39m'\u001b[39m\u001b[39mp\u001b[39m\u001b[39m'\u001b[39m, \u001b[39m'\u001b[39m\u001b[39m4\u001b[39m\u001b[39m'\u001b[39m, \u001b[39m'\u001b[39m\u001b[39mv\u001b[39m\u001b[39m'\u001b[39m)\n\u001b[1;32m     <a href='vscode-notebook-cell://ssh-remote%2Bdnn20/home/dnn100/hirahara/python_util/__%E4%BE%BF%E5%88%A9%E3%82%B3%E3%83%BC%E3%83%89__/%E5%8B%95%E7%94%BB%E5%83%8F%E7%B3%BB/%E5%8B%95%E7%94%BB%E3%83%95%E3%83%AC%E3%83%BC%E3%83%A0%E3%82%92%E7%B7%A8%E9%9B%86%E3%81%97%E3%81%A6%E4%BF%9D%E5%AD%98.ipynb#W0sdnNjb2RlLXJlbW90ZQ%3D%3D?line=13'>14</a>\u001b[0m writer \u001b[39m=\u001b[39m cv2\u001b[39m.\u001b[39mVideoWriter(\u001b[39m'\u001b[39m\u001b[39m../__output__/sample_mp4_gray.mp4\u001b[39m\u001b[39m'\u001b[39m, fmt, fps, (width, height),\u001b[39m0\u001b[39m)\n\u001b[0;32m---> <a href='vscode-notebook-cell://ssh-remote%2Bdnn20/home/dnn100/hirahara/python_util/__%E4%BE%BF%E5%88%A9%E3%82%B3%E3%83%BC%E3%83%89__/%E5%8B%95%E7%94%BB%E5%83%8F%E7%B3%BB/%E5%8B%95%E7%94%BB%E3%83%95%E3%83%AC%E3%83%BC%E3%83%A0%E3%82%92%E7%B7%A8%E9%9B%86%E3%81%97%E3%81%A6%E4%BF%9D%E5%AD%98.ipynb#W0sdnNjb2RlLXJlbW90ZQ%3D%3D?line=15'>16</a>\u001b[0m \u001b[39mfor\u001b[39;00m frame_num \u001b[39min\u001b[39;00m tqdm(\u001b[39mrange\u001b[39m(\u001b[39m0\u001b[39m, cap_frame, \u001b[39m1\u001b[39m)):\n\u001b[1;32m     <a href='vscode-notebook-cell://ssh-remote%2Bdnn20/home/dnn100/hirahara/python_util/__%E4%BE%BF%E5%88%A9%E3%82%B3%E3%83%BC%E3%83%89__/%E5%8B%95%E7%94%BB%E5%83%8F%E7%B3%BB/%E5%8B%95%E7%94%BB%E3%83%95%E3%83%AC%E3%83%BC%E3%83%A0%E3%82%92%E7%B7%A8%E9%9B%86%E3%81%97%E3%81%A6%E4%BF%9D%E5%AD%98.ipynb#W0sdnNjb2RlLXJlbW90ZQ%3D%3D?line=16'>17</a>\u001b[0m     \u001b[39m# 1フレームずつ読み込み\u001b[39;00m\n\u001b[1;32m     <a href='vscode-notebook-cell://ssh-remote%2Bdnn20/home/dnn100/hirahara/python_util/__%E4%BE%BF%E5%88%A9%E3%82%B3%E3%83%BC%E3%83%89__/%E5%8B%95%E7%94%BB%E5%83%8F%E7%B3%BB/%E5%8B%95%E7%94%BB%E3%83%95%E3%83%AC%E3%83%BC%E3%83%A0%E3%82%92%E7%B7%A8%E9%9B%86%E3%81%97%E3%81%A6%E4%BF%9D%E5%AD%98.ipynb#W0sdnNjb2RlLXJlbW90ZQ%3D%3D?line=17'>18</a>\u001b[0m     ret, img \u001b[39m=\u001b[39m cap\u001b[39m.\u001b[39mread()\n\u001b[1;32m     <a href='vscode-notebook-cell://ssh-remote%2Bdnn20/home/dnn100/hirahara/python_util/__%E4%BE%BF%E5%88%A9%E3%82%B3%E3%83%BC%E3%83%89__/%E5%8B%95%E7%94%BB%E5%83%8F%E7%B3%BB/%E5%8B%95%E7%94%BB%E3%83%95%E3%83%AC%E3%83%BC%E3%83%A0%E3%82%92%E7%B7%A8%E9%9B%86%E3%81%97%E3%81%A6%E4%BF%9D%E5%AD%98.ipynb#W0sdnNjb2RlLXJlbW90ZQ%3D%3D?line=19'>20</a>\u001b[0m     \u001b[39m# 動画の最後までいったらretがFalseになるので終了する\u001b[39;00m\n",
      "\u001b[0;31mNameError\u001b[0m: name 'tqdm' is not defined"
     ]
    }
   ],
   "source": [
    "import cv2\n",
    "from tqdm import tqdm\n",
    "\n",
    "path = '../../sample_data/sample_mp4.mp4'\n",
    "cap = cv2.VideoCapture(path)\n",
    "\n",
    "width = int(cap.get(cv2.CAP_PROP_FRAME_WIDTH))\n",
    "height = int(cap.get(cv2.CAP_PROP_FRAME_HEIGHT))\n",
    "fps = cap.get(cv2.CAP_PROP_FPS)\n",
    "cap_frame = int(cap.get(cv2.CAP_PROP_FRAME_COUNT))\n",
    "print(\"size: ({}, {}), fps: {:1.2f}\".format(width, height, fps))\n",
    "\n",
    "# 書き出し用のWriteクラスを作成\n",
    "fmt = cv2.VideoWriter_fourcc('m', 'p', '4', 'v')\n",
    "writer = cv2.VideoWriter('../__output__/sample_mp4_gray.mp4', fmt, fps, (width, height),0)\n",
    "\n",
    "for frame_num in tqdm(range(0, cap_frame, 1)):\n",
    "    # 1フレームずつ読み込み\n",
    "    ret, img = cap.read()\n",
    "\n",
    "    # 動画の最後までいったらretがFalseになるので終了する\n",
    "    if not ret:\n",
    "        break\n",
    "\n",
    "    # 画像をグレースケールに加工\n",
    "    img_gray = cv2.cvtColor(img, cv2.COLOR_BGR2GRAY)\n",
    "\n",
    "    # 1フレーム分を書き出し\n",
    "    writer.write(img_gray)\n",
    "\n",
    "    # 読み込んだ動画と書き出し先の動画を解放する\n",
    "    cap.release()\n",
    "    writer.release()"
   ]
  }
 ],
 "metadata": {
  "kernelspec": {
   "display_name": "detectron2",
   "language": "python",
   "name": "python3"
  },
  "language_info": {
   "codemirror_mode": {
    "name": "ipython",
    "version": 3
   },
   "file_extension": ".py",
   "mimetype": "text/x-python",
   "name": "python",
   "nbconvert_exporter": "python",
   "pygments_lexer": "ipython3",
   "version": "3.9.12"
  },
  "orig_nbformat": 4
 },
 "nbformat": 4,
 "nbformat_minor": 2
}
