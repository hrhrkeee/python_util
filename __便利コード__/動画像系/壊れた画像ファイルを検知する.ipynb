{
 "cells": [
  {
   "cell_type": "code",
   "execution_count": 22,
   "metadata": {},
   "outputs": [
    {
     "name": "stdout",
     "output_type": "stream",
     "text": [
      "正常な画像ファイルです\n",
      "-----------\n",
      "画像ファイルが壊れています\n"
     ]
    },
    {
     "name": "stderr",
     "output_type": "stream",
     "text": [
      "libpng error: IDAT: CRC error\n"
     ]
    }
   ],
   "source": [
    "import cv2\n",
    "from pathlib import Path\n",
    "\n",
    "\n",
    "# 正常な画像ファイルを読み込む\n",
    "img_path = Path(\"../../sample_data/sample_jpg.jpg\")\n",
    "if cv2.imread(str(img_path)) is not None:\n",
    "    print(\"正常な画像ファイルです\")\n",
    "else:\n",
    "    print(\"画像ファイルが壊れています\")\n",
    "\n",
    "print(\"-----------\")\n",
    "\n",
    "# 壊れた画像ファイルを読み込む\n",
    "img_path = Path('../../sample_data/corrupted_image/B3_GX020007(b)_19067_frame_img.png')\n",
    "if cv2.imread(str(img_path)) is not None:\n",
    "    print(\"正常な画像ファイルです\")\n",
    "else:\n",
    "    print(\"画像ファイルが壊れています\")\n"
   ]
  }
 ],
 "metadata": {
  "kernelspec": {
   "display_name": "aiaug",
   "language": "python",
   "name": "python3"
  },
  "language_info": {
   "codemirror_mode": {
    "name": "ipython",
    "version": 3
   },
   "file_extension": ".py",
   "mimetype": "text/x-python",
   "name": "python",
   "nbconvert_exporter": "python",
   "pygments_lexer": "ipython3",
   "version": "3.11.5"
  }
 },
 "nbformat": 4,
 "nbformat_minor": 2
}
