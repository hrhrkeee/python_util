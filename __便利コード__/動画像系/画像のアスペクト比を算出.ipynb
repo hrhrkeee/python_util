{
 "cells": [
  {
   "cell_type": "code",
   "execution_count": 1,
   "metadata": {},
   "outputs": [
    {
     "name": "stdout",
     "output_type": "stream",
     "text": [
      "(3.0, 4.0)\n"
     ]
    }
   ],
   "source": [
    "def aspect_ratio(ox, oy):\n",
    "  x, y = ox, oy\n",
    "  while y:\n",
    "    x, y = y, x % y\n",
    "  return (ox/x, oy/x)\n",
    "\n",
    "img_shape = (960, 1280)\n",
    "print(aspect_ratio(*img_shape))"
   ]
  },
  {
   "cell_type": "code",
   "execution_count": 9,
   "metadata": {},
   "outputs": [
    {
     "name": "stdout",
     "output_type": "stream",
     "text": [
      "<class 'list'>\n",
      "(1920, 1080)\t->\t[16, 9]\n",
      "<class 'list'>\n",
      "(800, 480)\t->\t[5, 3]\n",
      "<class 'list'>\n",
      "(600, 600)\t->\t[1, 1]\n",
      "<class 'list'>\n",
      "(3840, 2400)\t->\t[8, 5]\n"
     ]
    }
   ],
   "source": [
    "img_shapes = [(1920, 1080), (800, 480), (600, 600), (3840, 2400)]\n",
    "for img_shape in img_shapes:\n",
    "  aspect = list(map(int, list(aspect_ratio(*img_shape))))\n",
    "  print(\"{}\\t->\\t{}\".format(img_shape, aspect))"
   ]
  }
 ],
 "metadata": {
  "kernelspec": {
   "display_name": "detr",
   "language": "python",
   "name": "python3"
  },
  "language_info": {
   "codemirror_mode": {
    "name": "ipython",
    "version": 3
   },
   "file_extension": ".py",
   "mimetype": "text/x-python",
   "name": "python",
   "nbconvert_exporter": "python",
   "pygments_lexer": "ipython3",
   "version": "3.9.12"
  },
  "orig_nbformat": 4,
  "vscode": {
   "interpreter": {
    "hash": "88df7dddc364b8601feb4ab466babb439259fc75e2094306c233b727644e85b8"
   }
  }
 },
 "nbformat": 4,
 "nbformat_minor": 2
}
