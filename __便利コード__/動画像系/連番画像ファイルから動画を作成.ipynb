{
 "cells": [
  {
   "cell_type": "code",
   "execution_count": 4,
   "metadata": {},
   "outputs": [
    {
     "name": "stdout",
     "output_type": "stream",
     "text": [
      "output video : output\\result.mp4\n"
     ]
    },
    {
     "name": "stderr",
     "output_type": "stream",
     "text": [
      "  0%|          | 0/100 [00:00<?, ?it/s]"
     ]
    },
    {
     "name": "stderr",
     "output_type": "stream",
     "text": [
      "100%|██████████| 100/100 [00:00<00:00, 176.75it/s]\n"
     ]
    },
    {
     "data": {
      "text/plain": [
       "True"
      ]
     },
     "execution_count": 4,
     "metadata": {},
     "output_type": "execute_result"
    }
   ],
   "source": [
    "import cv2, os, sys\n",
    "from tqdm import tqdm\n",
    "from pathlib import Path\n",
    "\n",
    "def create_video(root_dir:str, output_path:str, fps:float=30.0, img_ext=\"jpg\", frame_proc_func=lambda x:x):\n",
    "\n",
    "  print(f\"output video : {output_path}\")\n",
    "\n",
    "  sample_img = cv2.imread(str(list(Path(root_dir).glob(f\"*.{img_ext}\"))[0]))\n",
    "  sample_img = frame_proc_func(sample_img)\n",
    "  fourcc = cv2.VideoWriter_fourcc('m', 'p', '4', 'v')\n",
    "  video_writer = cv2.VideoWriter(output_path, fourcc, fps, (sample_img.shape[1], sample_img.shape[0]))\n",
    "\n",
    "  if not video_writer.isOpened():\n",
    "      print(\"can't be opened\")\n",
    "      sys.exit()\n",
    "\n",
    "  for img_path in tqdm(list(Path(root_dir).glob(f\"*.{img_ext}\"))):\n",
    "    img = cv2.imread(str(img_path))\n",
    "    img = frame_proc_func(img)\n",
    "\n",
    "    if img is None:\n",
    "        print(\"can't read\"); break\n",
    "\n",
    "    video_writer.write(img)\n",
    "\n",
    "  video_writer.release()\n",
    "\n",
    "  return True\n",
    "\n",
    "    \n",
    "\n",
    "video_img_dir = Path(\"../../sample_data/coco_sample_datasets/sample_coco_train2017/\")\n",
    "output_path = Path(\"./output/\") / \"result.mp4\"\n",
    "os.makedirs(output_path.parent, exist_ok=True)\n",
    "\n",
    "create_video(str(video_img_dir), str(output_path))"
   ]
  }
 ],
 "metadata": {
  "kernelspec": {
   "display_name": "detectron2",
   "language": "python",
   "name": "python3"
  },
  "language_info": {
   "codemirror_mode": {
    "name": "ipython",
    "version": 3
   },
   "file_extension": ".py",
   "mimetype": "text/x-python",
   "name": "python",
   "nbconvert_exporter": "python",
   "pygments_lexer": "ipython3",
   "version": "3.11.5"
  },
  "orig_nbformat": 4,
  "vscode": {
   "interpreter": {
    "hash": "0b6ebfbeff773078f8ee80af612d8e04d2c53908c329b3ca2a1366aa2881ec7d"
   }
  }
 },
 "nbformat": 4,
 "nbformat_minor": 2
}
