{
 "cells": [
  {
   "cell_type": "code",
   "execution_count": null,
   "metadata": {},
   "outputs": [],
   "source": [
    "!pip install mecab-python3  unidic-lite\n",
    "# sudo apt install mecab mecab-ipadic-utf8"
   ]
  },
  {
   "cell_type": "markdown",
   "metadata": {},
   "source": [
    "### 形態素解析"
   ]
  },
  {
   "cell_type": "code",
   "execution_count": null,
   "metadata": {},
   "outputs": [],
   "source": [
    "import MeCab\n",
    "\n",
    "mecab = MeCab.Tagger() \n",
    "\n",
    "result = mecab.parse(\"すもももももももものうち\")\n",
    "\n",
    "print(result)"
   ]
  },
  {
   "cell_type": "markdown",
   "metadata": {},
   "source": [
    "### 分かち書き"
   ]
  },
  {
   "cell_type": "code",
   "execution_count": null,
   "metadata": {},
   "outputs": [],
   "source": [
    "import MeCab\n",
    "\n",
    "mecab = MeCab.Tagger(\"-Owakati\")\n",
    "\n",
    "docs = [\"すもももももももものうち\"]\n",
    "\n",
    "result = [mecab.parse(doc).strip() for doc in docs]\n",
    "\n",
    "print(result)"
   ]
  },
  {
   "cell_type": "markdown",
   "metadata": {},
   "source": [
    "### 単語の表層形と品詞を取得"
   ]
  },
  {
   "cell_type": "code",
   "execution_count": null,
   "metadata": {},
   "outputs": [],
   "source": [
    "import MeCab\n",
    "\n",
    "# MeCabの初期化\n",
    "mecab = MeCab.Tagger()\n",
    "\n",
    "# 解析するテキスト\n",
    "text = \"すもももももももものうち\"\n",
    "\n",
    "# 単語ごとに解析結果を出力\n",
    "node = mecab.parseToNode(text)\n",
    "while node:\n",
    "    word = node.surface  # 表層形\n",
    "    pos = node.feature.split(\",\")[0]  # 品詞\n",
    "    if word:  # 空でない場合のみ出力\n",
    "        print(f\"単語: {word},\\t品詞: {pos}\")\n",
    "    node = node.next\n"
   ]
  },
  {
   "cell_type": "markdown",
   "metadata": {},
   "source": [
    "### 形態素解析結果をリスト形式で取得"
   ]
  },
  {
   "cell_type": "code",
   "execution_count": null,
   "metadata": {},
   "outputs": [],
   "source": [
    "import MeCab\n",
    "\n",
    "# MeCabの初期化\n",
    "mecab = MeCab.Tagger()\n",
    "\n",
    "# 解析するテキスト\n",
    "text = \"すもももももももものうち\"\n",
    "\n",
    "# 結果をリスト形式で保存\n",
    "results = []\n",
    "node = mecab.parseToNode(text)\n",
    "while node:\n",
    "    word = node.surface\n",
    "    features = node.feature.split(\",\")\n",
    "    if word:  # 空でない場合のみ追加\n",
    "        results.append({\n",
    "            \"word\": word,\n",
    "            \"pos\": features[0],  # 品詞\n",
    "            \"reading\": features[-2] if len(features) > 7 else \"\"  # 読み（存在する場合）\n",
    "        })\n",
    "    node = node.next\n",
    "\n",
    "for res in results:\n",
    "    print(res)\n"
   ]
  },
  {
   "cell_type": "markdown",
   "metadata": {},
   "source": [
    "### ふりがな付け\n"
   ]
  },
  {
   "cell_type": "code",
   "execution_count": 8,
   "metadata": {},
   "outputs": [
    {
     "name": "stdout",
     "output_type": "stream",
     "text": [
      "今日（キョウ）は（ハ）とても（トテモ）良い（ヨイ）天気（テンキ）な（ダ）の（ノ）で（ダ）、（）犬（イヌ）の（ノ）散歩（サンポ）を（ヲ）し（スル）て（テ）み（ミル）まし（マス）た（タ）。（）\n"
     ]
    }
   ],
   "source": [
    "import MeCab\n",
    "\n",
    "# MeCabの初期化\n",
    "mecab = MeCab.Tagger()\n",
    "\n",
    "# ふりがなを付けたいテキスト\n",
    "text = \"今日はとても良い天気なので、犬の散歩をしてみました。\"\n",
    "\n",
    "# ふりがなを付ける関数\n",
    "def add_furigana(text):\n",
    "    node = mecab.parseToNode(text)\n",
    "    result = []\n",
    "    while node:\n",
    "        word = node.surface  # 表層形\n",
    "        features = node.feature.split(\",\")\n",
    "        \n",
    "        # 読みの取得\n",
    "        if len(features) > 6 and features[6] != \"*\":\n",
    "            reading = features[6]  # 読みが存在する場合\n",
    "        elif len(features) > 7 and features[7] != \"*\":\n",
    "            reading = features[7]  # 読みが第6フィールドにある場合\n",
    "        else:\n",
    "            reading = word  # 読みがない場合は表層形をそのまま利用\n",
    "        \n",
    "        # 読みが異なる場合にふりがなを付加\n",
    "        if word != reading:\n",
    "            result.append(f\"{word}（{reading}）\")\n",
    "        else:\n",
    "            result.append(word)\n",
    "        \n",
    "        # 次のノードに移動\n",
    "        node = node.next\n",
    "    return \"\".join(result)\n",
    "\n",
    "# 実行\n",
    "furigana_text = add_furigana(text)\n",
    "print(furigana_text)\n"
   ]
  }
 ],
 "metadata": {
  "kernelspec": {
   "display_name": "base",
   "language": "python",
   "name": "python3"
  },
  "language_info": {
   "codemirror_mode": {
    "name": "ipython",
    "version": 3
   },
   "file_extension": ".py",
   "mimetype": "text/x-python",
   "name": "python",
   "nbconvert_exporter": "python",
   "pygments_lexer": "ipython3",
   "version": "3.12.7"
  }
 },
 "nbformat": 4,
 "nbformat_minor": 2
}
