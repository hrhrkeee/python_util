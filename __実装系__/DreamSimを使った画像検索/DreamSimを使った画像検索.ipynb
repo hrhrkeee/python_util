{
 "cells": [
  {
   "cell_type": "code",
   "execution_count": null,
   "metadata": {},
   "outputs": [],
   "source": [
    "# !pip install dreamsim"
   ]
  },
  {
   "cell_type": "code",
   "execution_count": 1,
   "metadata": {},
   "outputs": [
    {
     "name": "stderr",
     "output_type": "stream",
     "text": [
      "/home/kenta/miniforge3/lib/python3.12/site-packages/tqdm/auto.py:21: TqdmWarning: IProgress not found. Please update jupyter and ipywidgets. See https://ipywidgets.readthedocs.io/en/stable/user_install.html\n",
      "  from .autonotebook import tqdm as notebook_tqdm\n"
     ]
    },
    {
     "name": "stdout",
     "output_type": "stream",
     "text": [
      "Downloading checkpoint\n"
     ]
    },
    {
     "name": "stderr",
     "output_type": "stream",
     "text": [
      "100%|██████████| 1.17G/1.17G [02:11<00:00, 9.60MB/s]\n"
     ]
    },
    {
     "name": "stdout",
     "output_type": "stream",
     "text": [
      "Unzipping...\n"
     ]
    },
    {
     "name": "stderr",
     "output_type": "stream",
     "text": [
      "Downloading: \"https://github.com/facebookresearch/dino/zipball/main\" to ./model/main.zip\n",
      "Downloading: \"https://dl.fbaipublicfiles.com/dino/dino_vitbase16_pretrain/dino_vitbase16_pretrain.pth\" to ./model/checkpoints/dino_vitbase16_pretrain.pth\n",
      "100%|██████████| 327M/327M [00:10<00:00, 34.3MB/s] \n",
      "/home/kenta/miniforge3/lib/python3.12/site-packages/torch/nn/utils/weight_norm.py:143: FutureWarning: `torch.nn.utils.weight_norm` is deprecated in favor of `torch.nn.utils.parametrizations.weight_norm`.\n",
      "  WeightNorm.apply(module, name, dim)\n"
     ]
    }
   ],
   "source": [
    "from dreamsim import dreamsim\n",
    "from PIL import Image\n",
    "\n",
    "device = \"cuda\"\n",
    "model, preprocess = dreamsim(pretrained=True, device=device, cache_dir=\"./model/\")\n"
   ]
  },
  {
   "cell_type": "code",
   "execution_count": 2,
   "metadata": {},
   "outputs": [
    {
     "name": "stdout",
     "output_type": "stream",
     "text": [
      "tensor([-2.3842e-07], device='cuda:0')\n"
     ]
    }
   ],
   "source": [
    "img1 = preprocess(Image.open(\"../../sample_data/coco_sample_datasets/sample_coco_train2017/000000187976.jpg\")).to(device)\n",
    "img2 = preprocess(Image.open(\"../../sample_data/coco_sample_datasets/sample_coco_train2017/000000187976.jpg\")).to(device)\n",
    "\n",
    "distance = model(img1, img2) # The model takes an RGB image from [0, 1], size batch_sizex3x224x224\n",
    "\n",
    "print(distance) # The distance between the two images"
   ]
  }
 ],
 "metadata": {
  "kernelspec": {
   "display_name": "base",
   "language": "python",
   "name": "python3"
  },
  "language_info": {
   "codemirror_mode": {
    "name": "ipython",
    "version": 3
   },
   "file_extension": ".py",
   "mimetype": "text/x-python",
   "name": "python",
   "nbconvert_exporter": "python",
   "pygments_lexer": "ipython3",
   "version": "3.12.7"
  }
 },
 "nbformat": 4,
 "nbformat_minor": 2
}
