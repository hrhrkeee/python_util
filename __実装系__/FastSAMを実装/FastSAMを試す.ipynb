{
 "cells": [
  {
   "cell_type": "code",
   "execution_count": 1,
   "metadata": {},
   "outputs": [
    {
     "name": "stderr",
     "output_type": "stream",
     "text": [
      "\n",
      "image 1/1 /home/hirahara/hirahara/python_util/__実装系__/FastSAMを実装/../../sample_data/sample_jpg.jpg: 704x1024 31 objects, 67.1ms\n",
      "Speed: 3.0ms preprocess, 67.1ms inference, 33.3ms postprocess per image at shape (1, 3, 1024, 1024)\n"
     ]
    }
   ],
   "source": [
    "from fastsam import FastSAM, FastSAMPrompt\n",
    "\n",
    "model = FastSAM('FastSAM-x.pt')\n",
    "IMAGE_PATH = '../../sample_data/sample_jpg.jpg'\n",
    "DEVICE = \"cuda:0\"\n",
    "\n",
    "everything_results = model(IMAGE_PATH, device=DEVICE, retina_masks=True, imgsz=1024, conf=0.4, iou=0.9,)\n",
    "prompt_process = FastSAMPrompt(IMAGE_PATH, everything_results, device=DEVICE)\n",
    "\n",
    "# everything prompt\n",
    "ann = prompt_process.everything_prompt()\n",
    "\n",
    "# bbox default shape [0,0,0,0] -> [x1,y1,x2,y2]\n",
    "# ann = prompt_process.box_prompt(bbox=[100, 200, 300, 700])\n",
    "\n",
    "# text prompt\n",
    "# ann = prompt_process.text_prompt(text='skirt')\n",
    "\n",
    "# point prompt\n",
    "# points default [[0,0]] [[x1,y1],[x2,y2]]\n",
    "# point_label default [0] [1,0] 0:background, 1:foreground\n",
    "# ann = prompt_process.point_prompt(points=[[200, 360]], pointlabel=[1])\n",
    "\n",
    "prompt_process.plot(annotations=ann,output_path='./output/students.jpg',)\n"
   ]
  }
 ],
 "metadata": {
  "kernelspec": {
   "display_name": "fastsam",
   "language": "python",
   "name": "python3"
  },
  "language_info": {
   "codemirror_mode": {
    "name": "ipython",
    "version": 3
   },
   "file_extension": ".py",
   "mimetype": "text/x-python",
   "name": "python",
   "nbconvert_exporter": "python",
   "pygments_lexer": "ipython3",
   "version": "3.11.5"
  }
 },
 "nbformat": 4,
 "nbformat_minor": 2
}
