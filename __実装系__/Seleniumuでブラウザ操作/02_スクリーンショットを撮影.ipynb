{
 "cells": [
  {
   "cell_type": "code",
   "execution_count": 7,
   "metadata": {},
   "outputs": [],
   "source": [
    "import selenium\n",
    "from selenium import webdriver\n",
    "from selenium.webdriver.common.keys import Keys\n",
    "from selenium.webdriver.common.by import By\n",
    "import time\n",
    "import pandas as pd\n",
    "import time\n",
    "from pathlib import Path\n",
    "\n",
    "# Firefoxを開く\n",
    "# driver = webdriver.Firefox()\n",
    "# Chromeを開く\n",
    "driver = webdriver.Chrome()\n",
    "# Edgeを開く\n",
    "# driver = webdriver.Edge()\n",
    "\n",
    "driver.get('https://www.google.co.jp/')\n",
    "\n",
    "# 全画面でchromeを開く\n",
    "# driver.fullscreen_window()\n",
    "# 最大ウィンドウでchromeを開く\n",
    "driver.maximize_window()\n",
    "\n",
    "# スクリーンショットを撮る\n",
    "now = time.strftime('%Y%m%d_%H%M%S')\n",
    "output_dir = Path('./screenshot')\n",
    "if not output_dir.exists():\n",
    "    output_dir.mkdir()\n",
    "\n",
    "# スクリーンショットを撮影\n",
    "driver.save_screenshot(output_dir / f'{now}.png')\n",
    "\n",
    "time.sleep(2.0)\n",
    "\n",
    "# ブラウザを閉じる\n",
    "driver.quit()"
   ]
  }
 ],
 "metadata": {
  "kernelspec": {
   "display_name": "base",
   "language": "python",
   "name": "python3"
  },
  "language_info": {
   "codemirror_mode": {
    "name": "ipython",
    "version": 3
   },
   "file_extension": ".py",
   "mimetype": "text/x-python",
   "name": "python",
   "nbconvert_exporter": "python",
   "pygments_lexer": "ipython3",
   "version": "3.11.5"
  }
 },
 "nbformat": 4,
 "nbformat_minor": 2
}
