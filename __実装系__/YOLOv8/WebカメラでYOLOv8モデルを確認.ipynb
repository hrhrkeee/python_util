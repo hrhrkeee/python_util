{
 "cells": [
  {
   "cell_type": "code",
   "execution_count": 9,
   "metadata": {},
   "outputs": [],
   "source": [
    "import cv2\n",
    "import IPython\n",
    "from PIL import Image\n",
    "from io import BytesIO\n",
    "from ultralytics import YOLO\n",
    "from logging import getLogger\n",
    "\n",
    "logger = getLogger('ultralytics')\n",
    "logger.disabled = True\n",
    "\n",
    "# Load a pretrained YOLO model (recommended for training)\n",
    "model = YOLO(\"yolov8n.pt\")\n",
    "\n",
    "def show_camera(device=0, fmt=\"jpeg\"):\n",
    "\n",
    "    cap = cv2.VideoCapture(device)\n",
    "    assert cap.isOpened(), 'Could not open video device'\n",
    "\n",
    "    try:\n",
    "        while(True):\n",
    "            ret, frame = cap.read()\n",
    "\n",
    "            if ret:\n",
    "                frame = cv2.cvtColor(frame, cv2.COLOR_BGR2RGB)\n",
    "\n",
    "                frame = model(frame, conf = 0.80)[0].plot()\n",
    "\n",
    "                f = BytesIO()\n",
    "                Image.fromarray(frame).save(f, fmt)\n",
    "                IPython.display.display(IPython.display.Image(data=f.getvalue()))\n",
    "                \n",
    "                IPython.display.clear_output(wait=True)\n",
    "\n",
    "    except KeyboardInterrupt:\n",
    "        cap.release()\n",
    "        print('Stream stopped')\n",
    "\n",
    "    return None"
   ]
  },
  {
   "cell_type": "code",
   "execution_count": 10,
   "metadata": {},
   "outputs": [
    {
     "name": "stdout",
     "output_type": "stream",
     "text": [
      "Stream stopped\n"
     ]
    }
   ],
   "source": [
    "show_camera()"
   ]
  },
  {
   "cell_type": "code",
   "execution_count": null,
   "metadata": {},
   "outputs": [],
   "source": []
  }
 ],
 "metadata": {
  "kernelspec": {
   "display_name": "yolo",
   "language": "python",
   "name": "python3"
  },
  "language_info": {
   "codemirror_mode": {
    "name": "ipython",
    "version": 3
   },
   "file_extension": ".py",
   "mimetype": "text/x-python",
   "name": "python",
   "nbconvert_exporter": "python",
   "pygments_lexer": "ipython3",
   "version": "3.12.4"
  }
 },
 "nbformat": 4,
 "nbformat_minor": 2
}
