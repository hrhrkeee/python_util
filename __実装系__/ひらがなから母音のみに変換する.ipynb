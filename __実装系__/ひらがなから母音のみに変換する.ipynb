{
 "cells": [
  {
   "cell_type": "code",
   "execution_count": null,
   "metadata": {},
   "outputs": [],
   "source": [
    "src = \"こんにちは\""
   ]
  },
  {
   "cell_type": "code",
   "execution_count": 1,
   "metadata": {},
   "outputs": [],
   "source": [
    "def kana2vowel(text):\n",
    "    #大文字とゥの変換リスト\n",
    "    large_tone = {\n",
    "        'ア' :'ア', 'イ' :'イ', 'ウ' :'ウ', 'エ' :'エ', 'オ' :'オ',\n",
    "        'ゥ': 'ウ', 'ヴ': 'ウ',\n",
    "        'カ' :'ア', 'キ' :'イ', 'ク' :'ウ', 'ケ' :'エ', 'コ' :'オ',\n",
    "        'サ' :'ア', 'シ' :'イ', 'ス' :'ウ', 'セ' :'エ', 'ソ' :'オ',\n",
    "        'タ' :'ア', 'チ' :'イ', 'ツ' :'ウ', 'テ' :'エ', 'ト' :'オ',\n",
    "        'ナ' :'ア', 'ニ' :'イ', 'ヌ' :'ウ', 'ネ' :'エ', 'ノ' :'オ',\n",
    "        'ハ' :'ア', 'ヒ' :'イ', 'フ' :'ウ', 'ヘ' :'エ', 'ホ' :'オ',\n",
    "        'マ' :'ア', 'ミ' :'イ', 'ム' :'ウ', 'メ' :'エ', 'モ' :'オ',\n",
    "        'ヤ' :'ア', 'ユ' :'ウ', 'ヨ' :'オ',\n",
    "        'ラ' :'ア', 'リ' :'イ', 'ル' :'ウ', 'レ' :'エ', 'ロ' :'オ',\n",
    "        'ワ' :'ア', 'ヲ' :'オ', 'ン' :'ン', 'ヴ' :'ウ',\n",
    "        'ガ' :'ア', 'ギ' :'イ', 'グ' :'ウ', 'ゲ' :'エ', 'ゴ' :'オ',\n",
    "        'ザ' :'ア', 'ジ' :'イ', 'ズ' :'ウ', 'ゼ' :'エ', 'ゾ' :'オ',\n",
    "        'ダ' :'ア', 'ヂ' :'イ', 'ヅ' :'ウ', 'デ' :'エ', 'ド' :'オ',\n",
    "        'バ' :'ア', 'ビ' :'イ', 'ブ' :'ウ', 'ベ' :'エ', 'ボ' :'オ',\n",
    "        'パ' :'ア', 'ピ' :'イ', 'プ' :'ウ', 'ペ' :'エ', 'ポ' :'オ'\n",
    "    }\n",
    "\n",
    "    #ト/ド+'ゥ'をウに変換\n",
    "    for k in 'トド':\n",
    "        while k+'ゥ' in text:\n",
    "            text = text.replace(k+'ゥ','ウ')\n",
    "    #テ/デ+ィ/ュをイ/ウに変換\n",
    "    for k in 'テデ':\n",
    "        for k2,v in zip('ィュ','イウ'):\n",
    "            while k+k2 in text:\n",
    "                text = text.replace(k+k2,v)\n",
    "\n",
    "    #大文字とゥを母音に変換\n",
    "    text = list(text)\n",
    "    for i, v in enumerate(text):\n",
    "        if v in large_tone:\n",
    "            text[i] = large_tone[v]\n",
    "    text = ''.join(text)\n",
    "\n",
    "    #ウーをウウに変換\n",
    "    while 'ウー' in text:\n",
    "        text = text.replace('ウー','ウウ')\n",
    "\n",
    "    #ウ+ヮ/ァ/ィ/ェ/ォを母音に変換\n",
    "    for k,v in zip('ヮァィェォ','アアイエオ'):\n",
    "        text = text.replace('ウ'+k,v)\n",
    "\n",
    "    #イー/ィーをイイ/ィイに変換\n",
    "    for k in 'イィ':\n",
    "        while k+'ー' in text:\n",
    "            text = text.replace(k+'ー',k+'イ')\n",
    "\n",
    "    #イ/ィ+ャ/ュ/ェ/ョを母音に変換\n",
    "    for k,v in zip('ャュェョ','アウエオ'):\n",
    "        text = text.replace('イ'+k, v).replace('ィ'+k, v)\n",
    "\n",
    "    #残った小文字を母音に変換\n",
    "    for k,v in zip('ヮァィェォャュョ','アアイエオアウオ'):\n",
    "        text = text.replace(k,v)\n",
    "\n",
    "    #ー（長音）を母音に変換する\n",
    "    for k in 'アイウエオ':\n",
    "        while k+'ー' in text:\n",
    "            text = text.replace(k+'ー',k+k)\n",
    "\n",
    "    return text"
   ]
  },
  {
   "cell_type": "code",
   "execution_count": 3,
   "metadata": {},
   "outputs": [
    {
     "name": "stdout",
     "output_type": "stream",
     "text": [
      "オンアンア\n",
      "オウアッオウ\n"
     ]
    }
   ],
   "source": [
    "print(kana2vowel(\"コンバンワ\"))\n",
    "print(kana2vowel(\"ショウガッコウ\"))"
   ]
  }
 ],
 "metadata": {
  "kernelspec": {
   "display_name": "detr",
   "language": "python",
   "name": "python3"
  },
  "language_info": {
   "codemirror_mode": {
    "name": "ipython",
    "version": 3
   },
   "file_extension": ".py",
   "mimetype": "text/x-python",
   "name": "python",
   "nbconvert_exporter": "python",
   "pygments_lexer": "ipython3",
   "version": "3.9.12"
  },
  "orig_nbformat": 4,
  "vscode": {
   "interpreter": {
    "hash": "88df7dddc364b8601feb4ab466babb439259fc75e2094306c233b727644e85b8"
   }
  }
 },
 "nbformat": 4,
 "nbformat_minor": 2
}
