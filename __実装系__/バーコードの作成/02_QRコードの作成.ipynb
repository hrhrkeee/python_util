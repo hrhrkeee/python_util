{
 "cells": [
  {
   "cell_type": "code",
   "execution_count": 39,
   "metadata": {},
   "outputs": [
    {
     "data": {
      "image/png": "[encoded data removed]",
      "text/plain": [
       "<Figure size 300x200 with 1 Axes>"
      ]
     },
     "metadata": {
      "needs_background": "light"
     },
     "output_type": "display_data"
    }
   ],
   "source": [
    "import cv2\n",
    "import pyqrcode\n",
    "import base64\n",
    "import numpy as np\n",
    "import matplotlib.pyplot as plt\n",
    "from pathlib import Path\n",
    "\n",
    "def show_img(img, dpi=150, title=None):\n",
    "    fig, ax = plt.subplots(nrows=1, ncols=1, dpi=dpi)\n",
    "    ax.set_title( title, fontsize=16, color='black')\n",
    "    ax.axis('off')\n",
    "    ax.imshow(img)\n",
    "    return fig, ax\n",
    "\n",
    "\n",
    "# 埋め込みデータ\n",
    "data = 'こんにちは'\n",
    "\n",
    "# QRコード作成\n",
    "code = pyqrcode.create(content=data, error='L', version=3, mode='binary')\n",
    "\n",
    "# 画像表示\n",
    "base64_img = code.png_as_base64_str(scale=5).encode()\n",
    "img = np.asarray(bytearray(base64.b64decode(base64_img)), dtype=\"uint8\")\n",
    "img = cv2.imdecode(img, cv2.IMREAD_COLOR)\n",
    "show_img(img, dpi=50)\n",
    "\n",
    "# 画像保存\n",
    "output_dir = Path('output')\n",
    "output_dir.mkdir(exist_ok=True)\n",
    "save_file_name = 'qrcode.png'\n",
    "code.png(str(output_dir/save_file_name), scale=5, module_color=[0, 0, 0, 128], background=[255, 255, 255])"
   ]
  }
 ],
 "metadata": {
  "kernelspec": {
   "display_name": "base",
   "language": "python",
   "name": "python3"
  },
  "language_info": {
   "codemirror_mode": {
    "name": "ipython",
    "version": 3
   },
   "file_extension": ".py",
   "mimetype": "text/x-python",
   "name": "python",
   "nbconvert_exporter": "python",
   "pygments_lexer": "ipython3",
   "version": "3.9.7"
  }
 },
 "nbformat": 4,
 "nbformat_minor": 2
}
