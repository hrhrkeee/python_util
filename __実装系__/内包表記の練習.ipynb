{
 "cells": [
  {
   "cell_type": "markdown",
   "metadata": {},
   "source": [
    "### 次のパターンを出力せよ。\n",
    "\n",
    "```\n",
    "ABCDEFGFEDCBA\n",
    "ABCDEF FEDCBA\n",
    "ABCDE   EDCBA\n",
    "ABCD     DCBA\n",
    "ABC       CBA\n",
    "AB         BA\n",
    "A           A\n",
    "```\n"
   ]
  },
  {
   "cell_type": "code",
   "execution_count": 1,
   "metadata": {},
   "outputs": [
    {
     "name": "stdout",
     "output_type": "stream",
     "text": [
      "ABCDEFGFEDCBA\n",
      "ABCDEF FEDCBA\n",
      "ABCDE   EDCBA\n",
      "ABCD     DCBA\n",
      "ABC       CBA\n",
      "AB         BA\n",
      "A           A\n"
     ]
    }
   ],
   "source": [
    "moji = \"ABCDEFG\"\n",
    "pattern = \"\\n\".join([moji[:-i]+(\" \"*(i*2-1))+moji[-i-1::-1] if i!=0 else moji+moji[-2::-1] for i in range(0,len(moji), 1)])\n",
    "print(pattern)"
   ]
  },
  {
   "cell_type": "code",
   "execution_count": 2,
   "metadata": {},
   "outputs": [
    {
     "name": "stdout",
     "output_type": "stream",
     "text": [
      "ABCDEFGHIJKLMNOPQRSTUVWXYZYXWVUTSRQPONMLKJIHGFEDCBA\n",
      "ABCDEFGHIJKLMNOPQRSTUVWXY YXWVUTSRQPONMLKJIHGFEDCBA\n",
      "ABCDEFGHIJKLMNOPQRSTUVWX   XWVUTSRQPONMLKJIHGFEDCBA\n",
      "ABCDEFGHIJKLMNOPQRSTUVW     WVUTSRQPONMLKJIHGFEDCBA\n",
      "ABCDEFGHIJKLMNOPQRSTUV       VUTSRQPONMLKJIHGFEDCBA\n",
      "ABCDEFGHIJKLMNOPQRSTU         UTSRQPONMLKJIHGFEDCBA\n",
      "ABCDEFGHIJKLMNOPQRST           TSRQPONMLKJIHGFEDCBA\n",
      "ABCDEFGHIJKLMNOPQRS             SRQPONMLKJIHGFEDCBA\n",
      "ABCDEFGHIJKLMNOPQR               RQPONMLKJIHGFEDCBA\n",
      "ABCDEFGHIJKLMNOPQ                 QPONMLKJIHGFEDCBA\n",
      "ABCDEFGHIJKLMNOP                   PONMLKJIHGFEDCBA\n",
      "ABCDEFGHIJKLMNO                     ONMLKJIHGFEDCBA\n",
      "ABCDEFGHIJKLMN                       NMLKJIHGFEDCBA\n",
      "ABCDEFGHIJKLM                         MLKJIHGFEDCBA\n",
      "ABCDEFGHIJKL                           LKJIHGFEDCBA\n",
      "ABCDEFGHIJK                             KJIHGFEDCBA\n",
      "ABCDEFGHIJ                               JIHGFEDCBA\n",
      "ABCDEFGHI                                 IHGFEDCBA\n",
      "ABCDEFGH                                   HGFEDCBA\n",
      "ABCDEFG                                     GFEDCBA\n",
      "ABCDEF                                       FEDCBA\n",
      "ABCDE                                         EDCBA\n",
      "ABCD                                           DCBA\n",
      "ABC                                             CBA\n",
      "AB                                               BA\n",
      "A                                                 A\n"
     ]
    }
   ],
   "source": [
    "moji = \"ABCDEFGHIJKLMNOPQRSTUVWXYZ\"\n",
    "pattern = \"\\n\".join([moji[:-i]+(\" \"*(i*2-1))+moji[-i-1::-1] if i!=0 else moji+moji[-2::-1] for i in range(0,len(moji), 1)])\n",
    "print(pattern)"
   ]
  }
 ],
 "metadata": {
  "kernelspec": {
   "display_name": "mmpose",
   "language": "python",
   "name": "python3"
  },
  "language_info": {
   "codemirror_mode": {
    "name": "ipython",
    "version": 3
   },
   "file_extension": ".py",
   "mimetype": "text/x-python",
   "name": "python",
   "nbconvert_exporter": "python",
   "pygments_lexer": "ipython3",
   "version": "3.11.3"
  },
  "orig_nbformat": 4
 },
 "nbformat": 4,
 "nbformat_minor": 2
}
