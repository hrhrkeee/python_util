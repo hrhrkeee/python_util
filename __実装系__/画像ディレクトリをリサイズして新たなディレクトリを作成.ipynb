{
 "cells": [
  {
   "cell_type": "code",
   "execution_count": 1,
   "metadata": {},
   "outputs": [],
   "source": [
    "# 必要なライブラリのインポート\n",
    "from PIL import Image\n",
    "import os\n",
    "from tqdm import tqdm\n",
    "\n",
    "def resize_images_in_directory(source_dir, scale_factor, target_dir):\n",
    "    \"\"\"\n",
    "    指定されたディレクトリ内の画像ファイルをリサイズし、新たな保存先に保存する関数。\n",
    "\n",
    "    :param source_dir: リサイズする画像が含まれるディレクトリのパス。\n",
    "    :param scale_factor: リサイズする倍率。\n",
    "    :param target_dir: リサイズ後の画像を保存するディレクトリのパス。\n",
    "    :return: 保存先のディレクトリのパス。\n",
    "    \"\"\"\n",
    "\n",
    "    # 保存先のディレクトリが存在しない場合は作成\n",
    "    if not os.path.exists(target_dir):\n",
    "        os.makedirs(target_dir)\n",
    "\n",
    "    # 指定されたディレクトリ内の全画像ファイルに対して処理\n",
    "    for file in tqdm(os.listdir(source_dir)):\n",
    "        if file.lower().endswith(('.png', '.jpg', '.jpeg', '.bmp', '.gif', '.tiff')):\n",
    "            img_path = os.path.join(source_dir, file)\n",
    "            with Image.open(img_path) as img:\n",
    "                # リサイズ計算\n",
    "                new_size = tuple(int(dim * scale_factor) for dim in img.size)\n",
    "                resized_img = img.resize(new_size, Image.ANTIALIAS)\n",
    "                \n",
    "                # リサイズした画像を保存\n",
    "                save_path = os.path.join(target_dir, os.path.splitext(file)[0] + '.png')\n",
    "                resized_img.save(save_path)\n",
    "\n",
    "    return target_dir\n"
   ]
  },
  {
   "cell_type": "code",
   "execution_count": 2,
   "metadata": {},
   "outputs": [
    {
     "name": "stderr",
     "output_type": "stream",
     "text": [
      "  0%|          | 0/26 [00:00<?, ?it/s]/tmp/ipykernel_45601/604784795.py:27: DeprecationWarning: ANTIALIAS is deprecated and will be removed in Pillow 10 (2023-07-01). Use Resampling.LANCZOS instead.\n",
      "  resized_img = img.resize(new_size, Image.ANTIALIAS)\n",
      "100%|██████████| 26/26 [00:00<00:00, 91.05it/s]\n"
     ]
    },
    {
     "data": {
      "text/plain": [
       "'./test/'"
      ]
     },
     "execution_count": 2,
     "metadata": {},
     "output_type": "execute_result"
    }
   ],
   "source": [
    "source_dir = \"../sample_data/coco_sample_datasets/sample_coco_train2017/\"\n",
    "target_dir = \"./test/\"\n",
    "\n",
    "\n",
    "resize_images_in_directory(source_dir, 0.1, target_dir)"
   ]
  }
 ],
 "metadata": {
  "kernelspec": {
   "display_name": "aiaug",
   "language": "python",
   "name": "python3"
  },
  "language_info": {
   "codemirror_mode": {
    "name": "ipython",
    "version": 3
   },
   "file_extension": ".py",
   "mimetype": "text/x-python",
   "name": "python",
   "nbconvert_exporter": "python",
   "pygments_lexer": "ipython3",
   "version": "3.11.5"
  }
 },
 "nbformat": 4,
 "nbformat_minor": 2
}
