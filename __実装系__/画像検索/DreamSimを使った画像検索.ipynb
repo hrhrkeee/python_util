{
 "cells": [
  {
   "cell_type": "code",
   "execution_count": null,
   "metadata": {},
   "outputs": [],
   "source": [
    "# !pip install dreamsim"
   ]
  },
  {
   "cell_type": "code",
   "execution_count": null,
   "metadata": {},
   "outputs": [],
   "source": [
    "from dreamsim import dreamsim\n",
    "from PIL import Image\n",
    "\n",
    "device = \"cpu\"\n",
    "model, preprocess = dreamsim(pretrained=True, device=device, cache_dir=\"./model/DreamSim\")\n"
   ]
  },
  {
   "cell_type": "code",
   "execution_count": null,
   "metadata": {},
   "outputs": [],
   "source": [
    "img1 = preprocess(Image.open(\"../../sample_data/coco_sample_datasets/sample_coco_train2017/000000187976.jpg\")).to(device)\n",
    "img2 = preprocess(Image.open(\"../../sample_data/coco_sample_datasets/sample_coco_train2017/000000187976.jpg\")).to(device)\n",
    "\n",
    "distance = model(img1, img2) # The model takes an RGB image from [0, 1], size batch_sizex3x224x224\n",
    "\n",
    "print(distance) # The distance between the two images"
   ]
  },
  {
   "cell_type": "code",
   "execution_count": 5,
   "metadata": {},
   "outputs": [
    {
     "name": "stdout",
     "output_type": "stream",
     "text": [
      "Using cached ./model/DreamSim\n"
     ]
    },
    {
     "name": "stderr",
     "output_type": "stream",
     "text": [
      "Using cache found in ./model/DreamSim\\facebookresearch_dino_main\n",
      "c:\\Users\\hiahara\\miniforge3\\Lib\\site-packages\\torch\\nn\\utils\\weight_norm.py:143: FutureWarning: `torch.nn.utils.weight_norm` is deprecated in favor of `torch.nn.utils.parametrizations.weight_norm`.\n",
      "  WeightNorm.apply(module, name, dim)\n"
     ]
    },
    {
     "name": "stdout",
     "output_type": "stream",
     "text": [
      "tensor([[ 0.0093, -0.0084, -0.0080,  ...,  0.0314, -0.0133, -0.0172]])\n",
      "torch.Size([1, 1792])\n",
      "<class 'torch.Tensor'>\n"
     ]
    }
   ],
   "source": [
    "from dreamsim import dreamsim\n",
    "from PIL import Image\n",
    "import pandas as pd\n",
    "from tqdm import tqdm\n",
    "import torch.nn.functional as F\n",
    "\n",
    "# let query be a sample image.\n",
    "# let images be a list of images we are searching.\n",
    "\n",
    "query = Image.open(\"../../sample_data/WIDER_OpenData/0--Parade/0_Parade_marchingband_1_104.jpg\").convert(\"RGB\")\n",
    "\n",
    "device = \"cpu\"\n",
    "model, preprocess = dreamsim(pretrained=True, device=device, cache_dir=\"./model/DreamSim\")\n",
    "\n",
    "# Compute the query image embedding\n",
    "query_embed = model.embed(preprocess(query).to(device))\n",
    "print(query_embed)\n",
    "print(query_embed.shape)\n",
    "print(type(query_embed))\n",
    "\n",
    "\n",
    "\n",
    "# dists = {}\n",
    "# # Compute the (cosine) distance between the query and each search image\n",
    "# for i, im in tqdm(enumerate(images), total=len(images)):\n",
    "#    img_embed = model.embed(preprocess(im).to(\"cuda\"))\n",
    "#    dists[i] = (1 - F.cosine_similarity(query_embed, img_embed, dim=-1)).item()\n",
    "\n",
    "# # Return results sorted by distance\n",
    "# df = pd.DataFrame({\"ids\": list(dists.keys()), \"dists\": list(dists.values())})\n",
    "# return df.sort_values(by=\"dists\")"
   ]
  }
 ],
 "metadata": {
  "kernelspec": {
   "display_name": "base",
   "language": "python",
   "name": "python3"
  },
  "language_info": {
   "codemirror_mode": {
    "name": "ipython",
    "version": 3
   },
   "file_extension": ".py",
   "mimetype": "text/x-python",
   "name": "python",
   "nbconvert_exporter": "python",
   "pygments_lexer": "ipython3",
   "version": "3.12.8"
  }
 },
 "nbformat": 4,
 "nbformat_minor": 2
}
