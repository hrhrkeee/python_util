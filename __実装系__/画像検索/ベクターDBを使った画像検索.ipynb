{
 "cells": [
  {
   "cell_type": "code",
   "execution_count": 1,
   "metadata": {},
   "outputs": [
    {
     "name": "stderr",
     "output_type": "stream",
     "text": [
      "c:\\Users\\hiahara\\miniforge3\\Lib\\site-packages\\tqdm\\auto.py:21: TqdmWarning: IProgress not found. Please update jupyter and ipywidgets. See https://ipywidgets.readthedocs.io/en/stable/user_install.html\n",
      "  from .autonotebook import tqdm as notebook_tqdm\n"
     ]
    }
   ],
   "source": [
    "%load_ext autoreload\n",
    "%autoreload 2\n",
    "%matplotlib inline\n",
    "\n",
    "import os\n",
    "import random\n",
    "import logging\n",
    "from pathlib import Path\n",
    "from tqdm import tqdm\n",
    "\n",
    "from imageSearch.DatabaseManager import FAISSDatabaseManager\n",
    "from imageSearch.ImageFeatureExtractor import Resnet50ImageFeatureExtractor, ONNXImageFeatureExtractor, DreamSimImageFeatureExtractor\n",
    "from imageSearch.utils.display_notebook import display_images_grid_thml\n",
    "\n",
    "def register_images(image_dir, db_manager, extractor):\n",
    "    image_dir = Path(image_dir)\n",
    "    image_paths = [\n",
    "        str(p) for p in image_dir.glob(\"**/*\")\n",
    "        if p.suffix.lower() in [\".jpg\", \".jpeg\", \".png\"]\n",
    "    ]\n",
    "    rows = []\n",
    "    for img_path in tqdm(image_paths, desc=\"Registering images\"):\n",
    "        try:\n",
    "            feature = extractor.extract_feature(img_path)\n",
    "            rows.append({\"embedding\": feature, \"file_path\": img_path})\n",
    "        except Exception as e:\n",
    "            logging.error(f\"Error processing {img_path}: {e}\")\n",
    "    db_manager.insert_embeddings(rows)\n",
    "\n",
    "def search_images(db_manager, extractor, query_image_path, k=5):\n",
    "    # 特徴抽出\n",
    "    query_feature = extractor.extract_feature(query_image_path)\n",
    "    # FAISSによる検索\n",
    "    distances, indices = db_manager.search(query_feature, k)\n",
    "    results = []\n",
    "    for d, idx in zip(distances[0], indices[0]):\n",
    "        # インデックスが-1の場合は該当なしとする\n",
    "        if idx != -1:\n",
    "            file_path = db_manager.file_paths[idx]\n",
    "            results.append((d, file_path))\n",
    "    return results\n"
   ]
  },
  {
   "cell_type": "code",
   "execution_count": null,
   "metadata": {},
   "outputs": [
    {
     "name": "stderr",
     "output_type": "stream",
     "text": [
      "Registering images: 100%|██████████| 100/100 [00:07<00:00, 13.76it/s]\n"
     ]
    }
   ],
   "source": [
    "logging.basicConfig(level=logging.INFO)\n",
    "\n",
    "# 画像特徴抽出器のインスタンス生成\n",
    "# extractor = Resnet50ImageFeatureExtractor()\n",
    "# extractor = DreamSimImageFeatureExtractor(cache_dir=\"./model/DreamSim/\")\n",
    "extractor = ONNXImageFeatureExtractor(onnx_path=\"./model/ONNX/mobilenet_v2.onnx\")\n",
    "\n",
    "# FAISSの設定\n",
    "index_file = \"./localDB/image_feature.index\"  # インデックスの保存先ファイル\n",
    "recreate = True\n",
    "db_manager = FAISSDatabaseManager(extractor.dim, index_file=index_file, recreate=recreate)\n",
    "\n",
    "# 画像ディレクトリから画像登録\n",
    "image_directory = \"../../sample_data/WIDER_OpenData/\"\n",
    "register_images(image_directory, db_manager, extractor)\n"
   ]
  },
  {
   "cell_type": "code",
   "execution_count": 6,
   "metadata": {},
   "outputs": [
    {
     "name": "stdout",
     "output_type": "stream",
     "text": [
      "Distance: 0.3055, File: ..\\..\\sample_data\\WIDER_OpenData\\4--Dancing\\4_Dancing_Dancing_4_97.jpg\n",
      "Distance: 0.2894, File: ..\\..\\sample_data\\WIDER_OpenData\\3--Riot\\3_Riot_Riot_3_123.jpg\n",
      "Distance: 0.2849, File: ..\\..\\sample_data\\WIDER_OpenData\\2--Demonstration\\2_Demonstration_Demonstration_Or_Protest_2_32.jpg\n",
      "Distance: 0.2701, File: ..\\..\\sample_data\\WIDER_OpenData\\9--Press_Conference\\9_Press_Conference_Press_Conference_9_31.jpg\n",
      "Distance: 0.2522, File: ..\\..\\sample_data\\WIDER_OpenData\\9--Press_Conference\\9_Press_Conference_Press_Conference_9_41.jpg\n"
     ]
    },
    {
     "data": {
      "text/html": [
       "<table style='border-collapse: collapse;'><tr><td style='padding: 5px;'><img src='..\\..\\sample_data\\coco_sample_datasets\\sample_coco_train2017\\000000544348.jpg' width='200px'></td><td style='padding: 5px;'><img src='' width='200px'></td><td style='padding: 5px;'><img src='' width='200px'></td><td style='padding: 5px;'><img src='' width='200px'></td><td style='padding: 5px;'><img src='' width='200px'></td></tr><tr><td style='padding: 5px;'><img src='..\\..\\sample_data\\WIDER_OpenData\\4--Dancing\\4_Dancing_Dancing_4_97.jpg' width='200px'></td><td style='padding: 5px;'><img src='..\\..\\sample_data\\WIDER_OpenData\\3--Riot\\3_Riot_Riot_3_123.jpg' width='200px'></td><td style='padding: 5px;'><img src='..\\..\\sample_data\\WIDER_OpenData\\2--Demonstration\\2_Demonstration_Demonstration_Or_Protest_2_32.jpg' width='200px'></td><td style='padding: 5px;'><img src='..\\..\\sample_data\\WIDER_OpenData\\9--Press_Conference\\9_Press_Conference_Press_Conference_9_31.jpg' width='200px'></td><td style='padding: 5px;'><img src='..\\..\\sample_data\\WIDER_OpenData\\9--Press_Conference\\9_Press_Conference_Press_Conference_9_41.jpg' width='200px'></td></tr></table>"
      ],
      "text/plain": [
       "<IPython.core.display.HTML object>"
      ]
     },
     "execution_count": 6,
     "metadata": {},
     "output_type": "execute_result"
    }
   ],
   "source": [
    "# クエリ画像を用いた検索\n",
    "query_image = str(random.choice(list(Path(\"../../sample_data/\").glob(\"**/*.jpg\"))))\n",
    "k = 5\n",
    "results = search_images(db_manager, extractor, query_image, k=k)\n",
    "\n",
    "# 検索結果の表示\n",
    "if results:\n",
    "    for distance, file_path in results:\n",
    "        print(f\"Distance: {distance:.4f}, File: {file_path}\")\n",
    "else:\n",
    "    print(\"検索結果が見つかりませんでした。\")\n",
    "    \n",
    "# FAISSインデックスの保存\n",
    "db_manager.save(index_file=index_file)\n",
    "\n",
    "display_images_grid_thml([query_image] + [\"\" for _ in range(k-1)] + [r[1] for r in results], cols=k, width=200)"
   ]
  }
 ],
 "metadata": {
  "kernelspec": {
   "display_name": "base",
   "language": "python",
   "name": "python3"
  },
  "language_info": {
   "codemirror_mode": {
    "name": "ipython",
    "version": 3
   },
   "file_extension": ".py",
   "mimetype": "text/x-python",
   "name": "python",
   "nbconvert_exporter": "python",
   "pygments_lexer": "ipython3",
   "version": "3.12.8"
  }
 },
 "nbformat": 4,
 "nbformat_minor": 2
}
