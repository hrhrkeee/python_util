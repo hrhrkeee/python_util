{
 "cells": [
  {
   "cell_type": "code",
   "execution_count": 1,
   "metadata": {},
   "outputs": [
    {
     "name": "stderr",
     "output_type": "stream",
     "text": [
      "c:\\Users\\hiahara\\miniforge3\\Lib\\site-packages\\tqdm\\auto.py:21: TqdmWarning: IProgress not found. Please update jupyter and ipywidgets. See https://ipywidgets.readthedocs.io/en/stable/user_install.html\n",
      "  from .autonotebook import tqdm as notebook_tqdm\n"
     ]
    }
   ],
   "source": [
    "%load_ext autoreload\n",
    "%autoreload 2\n",
    "%matplotlib inline\n",
    "\n",
    "import os\n",
    "from pathlib import Path\n",
    "import numpy as np\n",
    "from tqdm import tqdm\n",
    "import logging\n",
    "from PIL import Image\n",
    "\n",
    "from src.DatabaseManager.faiss_database_manager import FAISSDatabaseManager\n",
    "from src.ImageFeatureExtractor.onnx_image_feature_extractor import ONNXImageFeatureExtractor\n",
    "\n",
    "def register_images(image_dir, db_manager, extractor):\n",
    "    image_dir = Path(image_dir)\n",
    "    image_paths = [\n",
    "        str(p) for p in image_dir.glob(\"**/*\")\n",
    "        if p.suffix.lower() in [\".jpg\", \".jpeg\", \".png\"]\n",
    "    ]\n",
    "    rows = []\n",
    "    for img_path in tqdm(image_paths, desc=\"Registering images\"):\n",
    "        try:\n",
    "            feature = extractor.extract_feature(img_path)\n",
    "            rows.append({\"embedding\": feature, \"file_path\": img_path})\n",
    "        except Exception as e:\n",
    "            logging.error(f\"Error processing {img_path}: {e}\")\n",
    "    db_manager.insert_embeddings(rows)\n",
    "\n",
    "def search_images(db_manager, extractor, query_image_path, k=5):\n",
    "    # 特徴抽出\n",
    "    query_feature = extractor.extract_feature(query_image_path)\n",
    "    # FAISSによる検索\n",
    "    distances, indices = db_manager.search(query_feature, k)\n",
    "    results = []\n",
    "    for d, idx in zip(distances[0], indices[0]):\n",
    "        # インデックスが-1の場合は該当なしとする\n",
    "        if idx != -1:\n",
    "            file_path = db_manager.file_paths[idx]\n",
    "            results.append((d, file_path))\n",
    "    return results\n",
    "\n"
   ]
  },
  {
   "cell_type": "code",
   "execution_count": 2,
   "metadata": {},
   "outputs": [
    {
     "name": "stderr",
     "output_type": "stream",
     "text": [
      "INFO:src.ImageFeatureExtractor.onnx_image_feature_extractor:ONNX model input: name=input.1, shape=[1, 3, 224, 224], type=tensor(float)\n",
      "INFO:src.ImageFeatureExtractor.onnx_image_feature_extractor:モデルの出力次元: 1000\n",
      "Registering images: 100%|██████████| 100/100 [00:02<00:00, 39.97it/s]\n"
     ]
    }
   ],
   "source": [
    "logging.basicConfig(level=logging.INFO)\n",
    "\n",
    "# 画像特徴抽出器のインスタンス生成\n",
    "extractor = ONNXImageFeatureExtractor(onnx_path=\"./model/ONNX/mobilenet_v2.onnx\")\n",
    "\n",
    "# FAISSの設定\n",
    "index_file = \"faiss_index.index\"  # インデックスの保存先ファイル\n",
    "recreate = True\n",
    "db_manager = FAISSDatabaseManager(extractor.dim, index_file=index_file, recreate=recreate)\n",
    "\n",
    "# 画像ディレクトリから画像登録\n",
    "image_directory = \"../../sample_data/WIDER_OpenData/\"  # 適切なパスに変更してください\n",
    "register_images(image_directory, db_manager, extractor)\n"
   ]
  },
  {
   "cell_type": "code",
   "execution_count": 5,
   "metadata": {},
   "outputs": [
    {
     "name": "stdout",
     "output_type": "stream",
     "text": [
      "Distance: 1.0000, File: ..\\..\\sample_data\\WIDER_OpenData\\3--Riot\\3_Riot_Riot_3_101.jpg\n",
      "Distance: 0.8943, File: ..\\..\\sample_data\\WIDER_OpenData\\3--Riot\\3_Riot_Riot_3_199.jpg\n",
      "Distance: 0.8058, File: ..\\..\\sample_data\\WIDER_OpenData\\3--Riot\\3_Riot_Riot_3_186.jpg\n",
      "Distance: 0.7021, File: ..\\..\\sample_data\\WIDER_OpenData\\3--Riot\\3_Riot_Riot_3_184.jpg\n",
      "Distance: 0.5565, File: ..\\..\\sample_data\\WIDER_OpenData\\6--Funeral\\6_Funeral_Funeral_6_109.jpg\n"
     ]
    }
   ],
   "source": [
    "# クエリ画像を用いた検索\n",
    "query_image = \"../../sample_data/WIDER_OpenData/3--Riot/3_Riot_Riot_3_101.jpg\"  # 適切なパスに変更してください\n",
    "results = search_images(db_manager, extractor, query_image, k=5)\n",
    "\n",
    "# 検索結果の表示\n",
    "if results:\n",
    "    for distance, file_path in results:\n",
    "        print(f\"Distance: {distance:.4f}, File: {file_path}\")\n",
    "else:\n",
    "    print(\"検索結果が見つかりませんでした。\")\n",
    "\n",
    "# FAISSインデックスの保存\n",
    "db_manager.save(index_file=index_file)"
   ]
  }
 ],
 "metadata": {
  "kernelspec": {
   "display_name": "base",
   "language": "python",
   "name": "python3"
  },
  "language_info": {
   "codemirror_mode": {
    "name": "ipython",
    "version": 3
   },
   "file_extension": ".py",
   "mimetype": "text/x-python",
   "name": "python",
   "nbconvert_exporter": "python",
   "pygments_lexer": "ipython3",
   "version": "3.12.8"
  }
 },
 "nbformat": 4,
 "nbformat_minor": 2
}
