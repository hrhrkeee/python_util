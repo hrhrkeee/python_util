{
 "cells": [
  {
   "cell_type": "markdown",
   "metadata": {},
   "source": [
    "### ライブラリのインポートと必要な関数の定義"
   ]
  },
  {
   "cell_type": "code",
   "execution_count": 1,
   "metadata": {},
   "outputs": [
    {
     "name": "stderr",
     "output_type": "stream",
     "text": [
      "c:\\Users\\hiahara\\miniforge3\\Lib\\site-packages\\tqdm\\auto.py:21: TqdmWarning: IProgress not found. Please update jupyter and ipywidgets. See https://ipywidgets.readthedocs.io/en/stable/user_install.html\n",
      "  from .autonotebook import tqdm as notebook_tqdm\n"
     ]
    }
   ],
   "source": [
    "%load_ext autoreload\n",
    "%autoreload 2\n",
    "%matplotlib inline\n",
    "\n",
    "import os\n",
    "import random\n",
    "import logging\n",
    "from pathlib import Path\n",
    "from tqdm import tqdm\n",
    "\n",
    "from imageSearch.DatabaseManager import FAISSDatabaseManager\n",
    "from imageSearch.ImageFeatureExtractor import Resnet50ImageFeatureExtractor, ONNXImageFeatureExtractor, DreamSimImageFeatureExtractor\n",
    "from imageSearch.utils.display_notebook import display_images_grid_html\n",
    "from imageSearch.utils.logger_util import configure_logger\n",
    "\n",
    "logger = configure_logger()\n",
    "logger.setLevel(logging.INFO)\n",
    "# logger.setLevel(logging.ERROR)\n",
    "\n",
    "\n",
    "def register_images(image_dir, db_manager, extractor):\n",
    "    image_dir = Path(image_dir)\n",
    "    image_paths = [\n",
    "        str(p) for p in image_dir.glob(\"**/*\")\n",
    "        if p.suffix.lower() in [\".jpg\", \".jpeg\", \".png\"]\n",
    "    ]\n",
    "    rows = []\n",
    "    for img_path in tqdm(image_paths, desc=\"Registering images\"):\n",
    "        try:\n",
    "            feature = extractor.extract_feature(img_path)\n",
    "            rows.append({\"embedding\": feature, \"file_path\": img_path})\n",
    "        except Exception as e:\n",
    "            logging.error(f\"Error processing {img_path}: {e}\")\n",
    "    db_manager.insert_embeddings(rows)\n",
    "\n",
    "def search_images(db_manager, extractor, query_image_path, k=5):\n",
    "    # 特徴抽出\n",
    "    query_feature = extractor.extract_feature(query_image_path)\n",
    "    # FAISSによる検索\n",
    "    distances, indices = db_manager.search(query_feature, k)\n",
    "    results = []\n",
    "    for d, idx in zip(distances[0], indices[0]):\n",
    "        # インデックスが-1の場合は該当なしとする\n",
    "        if idx != -1:\n",
    "            file_path = db_manager.file_paths[idx]\n",
    "            results.append((d, file_path))\n",
    "    return results\n"
   ]
  },
  {
   "cell_type": "markdown",
   "metadata": {},
   "source": [
    "### データベースの初期化・画像の登録\n"
   ]
  },
  {
   "cell_type": "code",
   "execution_count": 2,
   "metadata": {},
   "outputs": [
    {
     "name": "stderr",
     "output_type": "stream",
     "text": [
      "2025-02-11 03:56:38,179 - imageSearch - INFO - ONNX model input: name=input.1, shape=[1, 3, 224, 224], type=tensor(float)\n",
      "2025-02-11 03:56:38,179 - imageSearch - INFO - モデルの出力次元: 1000\n",
      "2025-02-11 03:56:38,194 - imageSearch - INFO - FAISSでは接続処理は不要です。\n",
      "2025-02-11 03:56:38,195 - imageSearch - INFO - 新しいFAISSインデックスを作成しました。\n"
     ]
    },
    {
     "name": "stdout",
     "output_type": "stream",
     "text": [
      "1000\n"
     ]
    },
    {
     "name": "stderr",
     "output_type": "stream",
     "text": [
      "Registering images:   0%|          | 0/206 [00:00<?, ?it/s]2025-02-11 03:56:38,330 - imageSearch - ERROR - 画像の読み込みに失敗しました。path: ..\\..\\sample_data\\corrupted_image\\sample_corrupted_jpg.jpg error: cannot identify image file '..\\\\..\\\\sample_data\\\\corrupted_image\\\\sample_corrupted_jpg.jpg'\n",
      "ERROR:root:Error processing ..\\..\\sample_data\\corrupted_image\\sample_corrupted_jpg.jpg: cannot identify image file '..\\\\..\\\\sample_data\\\\corrupted_image\\\\sample_corrupted_jpg.jpg'\n",
      "Registering images:   2%|▏         | 5/206 [00:00<00:05, 37.38it/s]2025-02-11 03:56:38,331 - imageSearch - ERROR - 画像の読み込みに失敗しました。path: ..\\..\\sample_data\\corrupted_image\\sample_png.png error: cannot identify image file '..\\\\..\\\\sample_data\\\\corrupted_image\\\\sample_png.png'\n",
      "ERROR:root:Error processing ..\\..\\sample_data\\corrupted_image\\sample_png.png: cannot identify image file '..\\\\..\\\\sample_data\\\\corrupted_image\\\\sample_png.png'\n",
      "Registering images: 100%|██████████| 206/206 [00:02<00:00, 84.12it/s]\n",
      "2025-02-11 03:56:40,648 - imageSearch - INFO - 204 件の埋め込みをインデックスに追加しました。\n"
     ]
    }
   ],
   "source": [
    "# 画像特徴抽出器のインスタンス生成\n",
    "# extractor = Resnet50ImageFeatureExtractor()\n",
    "# extractor = DreamSimImageFeatureExtractor(cache_dir=\"./model/DreamSim/\")\n",
    "extractor = ONNXImageFeatureExtractor(onnx_path=\"./model/ONNX/mobilenet_v2.onnx\")\n",
    "\n",
    "# FAISSの設定\n",
    "print(extractor.dim)\n",
    "db_manager = FAISSDatabaseManager(dim = extractor.dim, recreate=True)\n",
    "\n",
    "# # 画像ディレクトリから画像登録\n",
    "image_directory = \"../../sample_data/\"\n",
    "register_images(image_directory, db_manager, extractor)\n"
   ]
  },
  {
   "cell_type": "markdown",
   "metadata": {},
   "source": [
    "### 検索の実行"
   ]
  },
  {
   "cell_type": "code",
   "execution_count": 3,
   "metadata": {},
   "outputs": [
    {
     "name": "stdout",
     "output_type": "stream",
     "text": [
      "Distance: 1.0000, File: ..\\..\\sample_data\\WIDER_OpenData\\2--Demonstration\\2_Demonstration_Demonstration_Or_Protest_2_76.jpg\n",
      "Distance: 0.6421, File: ..\\..\\sample_data\\WIDER_OpenData\\8--Election_Campain\\8_Election_Campain_Election_Campaign_8_25.jpg\n",
      "Distance: 0.6057, File: ..\\..\\sample_data\\WIDER_OpenData\\7--Cheering\\7_Cheering_Cheering_7_134.jpg\n",
      "Distance: 0.5968, File: ..\\..\\sample_data\\WIDER_OpenData\\7--Cheering\\7_Cheering_Cheering_7_118.jpg\n",
      "Distance: 0.5929, File: ..\\..\\sample_data\\WIDER_OpenData\\4--Dancing\\4_Dancing_Dancing_4_53.jpg\n"
     ]
    },
    {
     "data": {
      "text/html": [
       "<table style='border-collapse: collapse;'><tr><td style='padding: 5px; text-align: center;'><img src='..\\..\\sample_data\\WIDER_OpenData\\2--Demonstration\\2_Demonstration_Demonstration_Or_Protest_2_76.jpg' height='200px'><br><div style='text-align: center; font-size: 14.0px;'>2_Demonstration_Demonstration_Or_Protest_2_76.jpg</div></td><td style='padding: 5px; text-align: center;'><img src='' height='200px'><br><div style='text-align: center; font-size: 14.0px;'></div></td><td style='padding: 5px; text-align: center;'><img src='' height='200px'><br><div style='text-align: center; font-size: 14.0px;'></div></td><td style='padding: 5px; text-align: center;'><img src='' height='200px'><br><div style='text-align: center; font-size: 14.0px;'></div></td><td style='padding: 5px; text-align: center;'><img src='' height='200px'><br><div style='text-align: center; font-size: 14.0px;'></div></td></tr><tr><td style='padding: 5px; text-align: center;'><img src='..\\..\\sample_data\\WIDER_OpenData\\2--Demonstration\\2_Demonstration_Demonstration_Or_Protest_2_76.jpg' height='200px'><br><div style='text-align: center; font-size: 14.0px;'>2_Demonstration_Demonstration_Or_Protest_2_76.jpg<br>(Distance: 1.0)</div></td><td style='padding: 5px; text-align: center;'><img src='..\\..\\sample_data\\WIDER_OpenData\\8--Election_Campain\\8_Election_Campain_Election_Campaign_8_25.jpg' height='200px'><br><div style='text-align: center; font-size: 14.0px;'>8_Election_Campain_Election_Campaign_8_25.jpg<br>(Distance: 0.64211)</div></td><td style='padding: 5px; text-align: center;'><img src='..\\..\\sample_data\\WIDER_OpenData\\7--Cheering\\7_Cheering_Cheering_7_134.jpg' height='200px'><br><div style='text-align: center; font-size: 14.0px;'>7_Cheering_Cheering_7_134.jpg<br>(Distance: 0.60571)</div></td><td style='padding: 5px; text-align: center;'><img src='..\\..\\sample_data\\WIDER_OpenData\\7--Cheering\\7_Cheering_Cheering_7_118.jpg' height='200px'><br><div style='text-align: center; font-size: 14.0px;'>7_Cheering_Cheering_7_118.jpg<br>(Distance: 0.59676)</div></td><td style='padding: 5px; text-align: center;'><img src='..\\..\\sample_data\\WIDER_OpenData\\4--Dancing\\4_Dancing_Dancing_4_53.jpg' height='200px'><br><div style='text-align: center; font-size: 14.0px;'>4_Dancing_Dancing_4_53.jpg<br>(Distance: 0.59291)</div></td></tr></table>"
      ],
      "text/plain": [
       "<IPython.core.display.HTML object>"
      ]
     },
     "execution_count": 3,
     "metadata": {},
     "output_type": "execute_result"
    }
   ],
   "source": [
    "# クエリ画像を用いた検索\n",
    "query_image = str(random.choice(list(Path(\"../../sample_data/\").glob(\"**/*.jpg\"))))\n",
    "k = 5\n",
    "results = search_images(db_manager, extractor, query_image, k=k)\n",
    "\n",
    "# 検索結果の表示\n",
    "if results:\n",
    "    for distance, file_path in results:\n",
    "        print(f\"Distance: {distance:.4f}, File: {file_path}\")\n",
    "else:\n",
    "    print(\"検索結果が見つかりませんでした。\")\n",
    "    \n",
    "\n",
    "images = [query_image] + [\"\" for _ in range(k-1)] + [r[1] for r in results]\n",
    "labels = [f\"{Path(query_image).name}\"] + [\"\" for _ in range(k-1)] + [f\"{Path(r[1]).name}\\n(Distance: {r[0]:.05})\" for r in results]\n",
    "display_images_grid_html(images, labels=labels, cols=k)"
   ]
  },
  {
   "cell_type": "markdown",
   "metadata": {},
   "source": [
    "### FAISSインデックスの保存"
   ]
  },
  {
   "cell_type": "code",
   "execution_count": 4,
   "metadata": {},
   "outputs": [
    {
     "name": "stderr",
     "output_type": "stream",
     "text": [
      "2025-02-11 03:56:40,946 - imageSearch - INFO - FAISSインデックスをファイルに保存しました: localDB\\FAISS\\sampleDB\\sampleDB.index\n",
      "2025-02-11 03:56:40,947 - imageSearch - INFO - 画像ファイルパスをファイルに保存しました: localDB\\FAISS\\sampleDB\\sampleDB.pkl\n"
     ]
    }
   ],
   "source": [
    "db_manager.save(save_dir=str(\"./localDB/FAISS/sampleDB/\"), file_name=\"sampleDB.index\")"
   ]
  }
 ],
 "metadata": {
  "kernelspec": {
   "display_name": "base",
   "language": "python",
   "name": "python3"
  },
  "language_info": {
   "codemirror_mode": {
    "name": "ipython",
    "version": 3
   },
   "file_extension": ".py",
   "mimetype": "text/x-python",
   "name": "python",
   "nbconvert_exporter": "python",
   "pygments_lexer": "ipython3",
   "version": "3.12.8"
  }
 },
 "nbformat": 4,
 "nbformat_minor": 2
}
