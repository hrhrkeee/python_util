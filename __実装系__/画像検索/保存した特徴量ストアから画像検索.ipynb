{
 "cells": [
  {
   "cell_type": "code",
   "execution_count": 4,
   "metadata": {},
   "outputs": [
    {
     "name": "stdout",
     "output_type": "stream",
     "text": [
      "The autoreload extension is already loaded. To reload it, use:\n",
      "  %reload_ext autoreload\n"
     ]
    }
   ],
   "source": [
    "%load_ext autoreload\n",
    "%autoreload 2\n",
    "%matplotlib inline\n",
    "\n",
    "import os\n",
    "import random\n",
    "import logging\n",
    "from pathlib import Path\n",
    "from tqdm import tqdm\n",
    "\n",
    "from imageSearch.DatabaseManager import FAISSDatabaseManager\n",
    "from imageSearch.ImageFeatureExtractor import Resnet50ImageFeatureExtractor, ONNXImageFeatureExtractor, DreamSimImageFeatureExtractor\n",
    "from imageSearch.utils.display_notebook import display_images_grid_html\n",
    "from imageSearch.utils.logger_util import configure_logger\n",
    "\n",
    "logger = configure_logger()\n",
    "# logger.setLevel(logging.INFO)\n",
    "logger.setLevel(logging.ERROR)\n",
    "\n",
    "\n",
    "def register_images(image_dir, db_manager, extractor):\n",
    "    image_dir = Path(image_dir)\n",
    "    image_paths = [\n",
    "        str(p) for p in image_dir.glob(\"**/*\")\n",
    "        if p.suffix.lower() in [\".jpg\", \".jpeg\", \".png\"]\n",
    "    ]\n",
    "    rows = []\n",
    "    for img_path in tqdm(image_paths, desc=\"Registering images\"):\n",
    "        try:\n",
    "            feature = extractor.extract_feature(img_path)\n",
    "            rows.append({\"embedding\": feature, \"file_path\": img_path})\n",
    "        except Exception as e:\n",
    "            logging.error(f\"Error processing {img_path}: {e}\")\n",
    "    db_manager.insert_embeddings(rows)\n",
    "\n",
    "def search_images(db_manager, extractor, query_image_path, k=5):\n",
    "    # 特徴抽出\n",
    "    query_feature = extractor.extract_feature(query_image_path)\n",
    "    # FAISSによる検索\n",
    "    distances, indices = db_manager.search(query_feature, k)\n",
    "    results = []\n",
    "    for d, idx in zip(distances[0], indices[0]):\n",
    "        # インデックスが-1の場合は該当なしとする\n",
    "        if idx != -1:\n",
    "            file_path = db_manager.file_paths[idx]\n",
    "            results.append((d, file_path))\n",
    "    return results\n"
   ]
  },
  {
   "cell_type": "code",
   "execution_count": 5,
   "metadata": {},
   "outputs": [],
   "source": [
    "# FAISSのデータベースを読み込み\n",
    "db_manager = FAISSDatabaseManager(index_file=Path(\"./localDB/FAISS/sampleDB/sampleDB.index\"))\n"
   ]
  },
  {
   "cell_type": "code",
   "execution_count": 6,
   "metadata": {},
   "outputs": [
    {
     "name": "stdout",
     "output_type": "stream",
     "text": [
      "Distance: 1.0000, File: ..\\..\\sample_data\\coco_sample_datasets\\sample_coco_train2017\\000000544261.jpg\n",
      "Distance: 0.4118, File: ..\\..\\sample_data\\coco_sample_datasets\\sample_coco_train2017\\000000544250.jpg\n",
      "Distance: 0.1999, File: ..\\..\\sample_data\\coco_sample_datasets\\sample_coco_train2017\\000000188087.jpg\n",
      "Distance: 0.1425, File: ..\\..\\sample_data\\coco_sample_datasets\\sample_coco_train2017\\000000188120.jpg\n",
      "Distance: 0.1347, File: ..\\..\\sample_data\\coco_sample_datasets\\sample_coco_train2017\\000000188130.jpg\n"
     ]
    },
    {
     "data": {
      "text/html": [
       "<table style='border-collapse: collapse;'><tr><td style='padding: 5px; text-align: center;'><img src='..\\..\\sample_data\\coco_sample_datasets\\sample_coco_train2017\\000000544261.jpg' height='200px'><br><div style='text-align: center; font-size: 14.0px;'>000000544261.jpg</div></td><td style='padding: 5px; text-align: center;'><img src='' height='200px'><br><div style='text-align: center; font-size: 14.0px;'></div></td><td style='padding: 5px; text-align: center;'><img src='' height='200px'><br><div style='text-align: center; font-size: 14.0px;'></div></td><td style='padding: 5px; text-align: center;'><img src='' height='200px'><br><div style='text-align: center; font-size: 14.0px;'></div></td><td style='padding: 5px; text-align: center;'><img src='' height='200px'><br><div style='text-align: center; font-size: 14.0px;'></div></td></tr><tr><td style='padding: 5px; text-align: center;'><img src='..\\..\\sample_data\\coco_sample_datasets\\sample_coco_train2017\\000000544261.jpg' height='200px'><br><div style='text-align: center; font-size: 14.0px;'>000000544261.jpg<br>(Distance: 1.0)</div></td><td style='padding: 5px; text-align: center;'><img src='..\\..\\sample_data\\coco_sample_datasets\\sample_coco_train2017\\000000544250.jpg' height='200px'><br><div style='text-align: center; font-size: 14.0px;'>000000544250.jpg<br>(Distance: 0.41182)</div></td><td style='padding: 5px; text-align: center;'><img src='..\\..\\sample_data\\coco_sample_datasets\\sample_coco_train2017\\000000188087.jpg' height='200px'><br><div style='text-align: center; font-size: 14.0px;'>000000188087.jpg<br>(Distance: 0.19992)</div></td><td style='padding: 5px; text-align: center;'><img src='..\\..\\sample_data\\coco_sample_datasets\\sample_coco_train2017\\000000188120.jpg' height='200px'><br><div style='text-align: center; font-size: 14.0px;'>000000188120.jpg<br>(Distance: 0.14253)</div></td><td style='padding: 5px; text-align: center;'><img src='..\\..\\sample_data\\coco_sample_datasets\\sample_coco_train2017\\000000188130.jpg' height='200px'><br><div style='text-align: center; font-size: 14.0px;'>000000188130.jpg<br>(Distance: 0.13473)</div></td></tr></table>"
      ],
      "text/plain": [
       "<IPython.core.display.HTML object>"
      ]
     },
     "metadata": {},
     "output_type": "display_data"
    }
   ],
   "source": [
    "# 画像特徴抽出器のインスタンス生成\n",
    "# extractor = Resnet50ImageFeatureExtractor()\n",
    "# extractor = DreamSimImageFeatureExtractor(cache_dir=\"./model/DreamSim/\")\n",
    "extractor = ONNXImageFeatureExtractor(onnx_path=\"./model/ONNX/mobilenet_v2.onnx\")\n",
    "\n",
    "# クエリ画像を用いた検索\n",
    "query_image = str(random.choice(list(Path(\"../../sample_data/\").glob(\"**/*.jpg\"))))\n",
    "k = 5\n",
    "results = search_images(db_manager, extractor, query_image, k=k)\n",
    "\n",
    "# 検索結果の表示\n",
    "if results:\n",
    "    for distance, file_path in results:\n",
    "        print(f\"Distance: {distance:.4f}, File: {file_path}\")\n",
    "else:\n",
    "    print(\"検索結果が見つかりませんでした。\")\n",
    "    \n",
    "\n",
    "images = [query_image] + [\"\" for _ in range(k-1)] + [r[1] for r in results]\n",
    "labels = [f\"{Path(query_image).name}\"] + [\"\" for _ in range(k-1)] + [f\"{Path(r[1]).name}\\n(Distance: {r[0]:.05})\" for r in results]\n",
    "display_images_grid_html(images, labels=labels, cols=k)"
   ]
  },
  {
   "cell_type": "code",
   "execution_count": null,
   "metadata": {},
   "outputs": [],
   "source": []
  }
 ],
 "metadata": {
  "kernelspec": {
   "display_name": "base",
   "language": "python",
   "name": "python3"
  },
  "language_info": {
   "codemirror_mode": {
    "name": "ipython",
    "version": 3
   },
   "file_extension": ".py",
   "mimetype": "text/x-python",
   "name": "python",
   "nbconvert_exporter": "python",
   "pygments_lexer": "ipython3",
   "version": "3.12.8"
  }
 },
 "nbformat": 4,
 "nbformat_minor": 2
}
