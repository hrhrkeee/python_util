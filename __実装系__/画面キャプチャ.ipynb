{
 "cells": [
  {
   "cell_type": "code",
   "execution_count": 1,
   "metadata": {},
   "outputs": [],
   "source": [
    "import cv2\n",
    "import matplotlib.pyplot as plt\n",
    "import win32gui\n",
    "import numpy as np\n",
    "\n",
    "def show_img(img, dpi=150, title=None):\n",
    "    fig, ax = plt.subplots(nrows=1, ncols=1, dpi=dpi)\n",
    "    ax.set_title( title, fontsize=16, color='black')\n",
    "    ax.axis('off')\n",
    "    ax.imshow(img)\n",
    "    return fig, ax\n",
    "\n",
    "def get_cursor_npimg():\n",
    "    cursor_icon = \\\n",
    "                b'\\x89PNG\\r\\n\\x1a\\n\\x00\\x00\\x00\\rIHDR\\x00\\x00\\x00 \\x00\\x00\\x00 ' + \\\n",
    "                b'\\x08\\x03\\x00\\x00\\x00D\\xa4\\x8a\\xc6\\x00\\x00\\x003PLTE\\x00\\x00\\x00' + \\\n",
    "                b'\\x01\\x02\\x10\\x00\\x01\\x0e\\x02\\x05\\x16\\x00\\x01\\x0f\\x00\\x00\\x0e\\x01' + \\\n",
    "                b'\\x02\\x11\\x02\\x04\\x15\\x01\\x02\\x12\\x03\\x05\\x18\\xff\\xff\\xff\\xf5\\xf5' + \\\n",
    "                b'\\xf8\\xe1\\xe1\\xe3\\xd6\\xd6\\xd8\\xe8\\xe8\\xea\\xc2\\xc2\\xc9\\xb3\\xb4\\xbc' + \\\n",
    "                b'\\xbc\\xcdR^\\x00\\x00\\x00\\ntRNS\\x00\\xbd\\xe76\\xd3\\xf4\\xb4M\\x9e\\x1aY' + \\\n",
    "                b'\\xc1\\x82\\x1e\\x00\\x00\\x00fIDAT8\\xcb\\xed\\xcf1\\x0e\\x800\\x0cC\\xd1\\x84' + \\\n",
    "                b'\\x94\\x02n\\x0b\\xdc\\xff\\xb4x\\xea\\x163#\\xf1W?E\\x8a-a\\xba\\xc5\\xe3\\x05' + \\\n",
    "                b'\\x80B\\x03\\n\\r\\xb4 \\xd0\\x82@\\x0b\\x82)$h\\x1e\\x02L\\xa1\\x00N\\x0f\\r\\xd0=' + \\\n",
    "                b'\\x05\\rp\\x96\\x82\\xb6\\xde\\xf0-\\xfd\\x82{\\x14\\xf4\\x92\\x02\\xeeV/\\xd4\\xec' + \\\n",
    "                b'\\x84s7\\x9e\\x18\\xc5Tu@\\x83\\xa3\\xeca\\x7f_\\xef\\x01\\xd5h\\x03\\xe1\\xc1\\xcc' + \\\n",
    "                b'\\xc3\\xc0\\x00\\x00\\x00\\x00IEND\\xaeB`\\x82'\n",
    "    \n",
    "    nparr = np.frombuffer(cursor_icon, np.uint8)\n",
    "\n",
    "    return cv2.imdecode(nparr, cv2.IMREAD_UNCHANGED)\n",
    "\n",
    "def overlay_transparent(background, overlay, x, y):\n",
    "    background_width = background.shape[1]\n",
    "    background_height = background.shape[0]\n",
    "\n",
    "    if x >= background_width or y >= background_height:\n",
    "        return background\n",
    "\n",
    "    h, w = overlay.shape[0], overlay.shape[1]\n",
    "\n",
    "    if x + w > background_width:\n",
    "        w = background_width - x\n",
    "        overlay = overlay[:, :w]\n",
    "\n",
    "    if y + h > background_height:\n",
    "        h = background_height - y\n",
    "        overlay = overlay[:h]\n",
    "\n",
    "    if overlay.shape[2] < 4:\n",
    "        overlay = np.concatenate(\n",
    "            [\n",
    "                overlay,\n",
    "                np.ones((overlay.shape[0], overlay.shape[1], 1), dtype = overlay.dtype) * 255\n",
    "            ],\n",
    "            axis = 2,\n",
    "        )\n",
    "\n",
    "    overlay_image = overlay[..., :3]\n",
    "    mask = overlay[..., 3:] / 255.0\n",
    "\n",
    "    background[y:y+h, x:x+w] = (1.0 - mask) * background[y:y+h, x:x+w] + mask * overlay_image\n",
    "\n",
    "    return background"
   ]
  },
  {
   "cell_type": "markdown",
   "metadata": {},
   "source": [
    "### PILを利用した方法"
   ]
  },
  {
   "cell_type": "code",
   "execution_count": null,
   "metadata": {},
   "outputs": [],
   "source": [
    "import cv2\n",
    "import numpy as np\n",
    "from PIL import ImageGrab\n",
    "\n",
    "while True:\n",
    "    img = ImageGrab.grab(bbox=(100,10,400,780))\n",
    "    img_np = np.array(img)\n",
    "    frame = cv2.cvtColor(img_np, cv2.COLOR_BGR2GRAY)\n",
    "\n",
    "    #カメラの画像の出力\n",
    "    cv2.imshow('capture' , frame)\n",
    "\n",
    "    # 'q'キーが押されたらループから抜ける\n",
    "    if cv2.waitKey(1) & 0xFF == ord('q'):\n",
    "        break\n",
    "\n",
    "cv2.destroyAllWindows()\n",
    "\n"
   ]
  },
  {
   "cell_type": "markdown",
   "metadata": {},
   "source": [
    "### dxcamを利用した方法"
   ]
  },
  {
   "cell_type": "code",
   "execution_count": 4,
   "metadata": {},
   "outputs": [
    {
     "name": "stdout",
     "output_type": "stream",
     "text": [
      "You already created a DXCamera Instance for Device 0--Output 0!\n",
      "Returning the existed instance...\n",
      "To change capture parameters you can manually delete the old object using `del obj`.\n",
      "Screen Capture FPS: 55\n"
     ]
    }
   ],
   "source": [
    "import cv2\n",
    "import dxcam\n",
    "\n",
    "region = (100,10,400,780)\n",
    "\n",
    "camera = dxcam.create()\n",
    "camera.start(region=region, target_fps=60)\n",
    "\n",
    "while True:\n",
    "    frame = camera.get_latest_frame()[:,:,::-1]\n",
    "    cursor_pos = win32gui.GetCursorInfo()[2]\n",
    "    cursor_x = cursor_pos[0]+3-region[0]\n",
    "    cursor_y = cursor_pos[1]+3-region[1]\n",
    "    if cursor_x > 0 and cursor_y > 0:\n",
    "        frame = overlay_transparent(frame, get_cursor_npimg(), cursor_x, cursor_y)\n",
    "\n",
    "    #カメラの画像の出力\n",
    "    cv2.imshow('capture' , frame)\n",
    "\n",
    "    # 'q'キーが押されたらループから抜ける\n",
    "    if cv2.waitKey(1) & 0xFF == ord('q'):\n",
    "        break\n",
    "    \n",
    "camera.stop()\n",
    "del camera\n",
    "cv2.destroyAllWindows()\n"
   ]
  }
 ],
 "metadata": {
  "kernelspec": {
   "display_name": "base",
   "language": "python",
   "name": "python3"
  },
  "language_info": {
   "codemirror_mode": {
    "name": "ipython",
    "version": 3
   },
   "file_extension": ".py",
   "mimetype": "text/x-python",
   "name": "python",
   "nbconvert_exporter": "python",
   "pygments_lexer": "ipython3",
   "version": "3.9.7"
  }
 },
 "nbformat": 4,
 "nbformat_minor": 2
}
