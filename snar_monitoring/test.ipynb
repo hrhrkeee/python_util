{
 "cells": [
  {
   "cell_type": "code",
   "execution_count": 1,
   "metadata": {},
   "outputs": [],
   "source": [
    "from selenium import webdriver\n",
    "from selenium.webdriver.chrome.service import Service\n",
    "from selenium.webdriver.common.by import By\n",
    "import time\n",
    "from pathlib import Path\n",
    "import random\n",
    "\n",
    "import smtplib\n",
    "from email.mime.multipart import  MIMEMultipart\n",
    "from email.mime.text import MIMEText\n"
   ]
  },
  {
   "cell_type": "code",
   "execution_count": 2,
   "metadata": {},
   "outputs": [
    {
     "name": "stdout",
     "output_type": "stream",
     "text": [
      "開催日▲ 開始時間 会場名 予約状況\n",
      "2023年3月8日(水) 14:00 WEB面接③　JOB-MATCH選考エンジニア この日程に予約中\n",
      "2023年3月8日(水) 14:50 WEB面接③　JOB-MATCH選考エンジニア 満　席\n",
      "2023年3月15日(水) 16:30 WEB面接③　JOB-MATCH選考エンジニア 満　席\n",
      "2023年3月22日(水) 14:00 WEB面接③　JOB-MATCH選考エンジニア 満　席\n",
      "2023年3月22日(水) 14:50 WEB面接③　JOB-MATCH選考エンジニア 満　席\n",
      "2023年3月22日(水) 15:40 WEB面接③　JOB-MATCH選考エンジニア 満　席\n",
      "2023年3月22日(水) 16:30 WEB面接③　JOB-MATCH選考エンジニア 満　席\n",
      "2023年3月27日(月) 14:00 WEB面接③　JOB-MATCH選考エンジニア 満　席\n",
      "2023年3月27日(月) 14:50 WEB面接③　JOB-MATCH選考エンジニア 満　席\n",
      "2023年3月29日(水) 14:00 WEB面接③　JOB-MATCH選考エンジニア 満　席\n",
      "2023年3月29日(水) 14:50 WEB面接③　JOB-MATCH選考エンジニア 満　席\n",
      "2023年3月29日(水) 15:40 WEB面接③　JOB-MATCH選考エンジニア 満　席\n"
     ]
    }
   ],
   "source": [
    "driver_path = Path(\"C:\\\\WebDriver\\\\bin\\\\chromedriver.exe\")\n",
    "\n",
    "service = Service(executable_path=str(driver_path))\n",
    "driver = webdriver.Chrome(service=service)\n",
    "\n",
    "driver.get(\"https://softbank-recruit.snar.jp/login.aspx\")\n",
    "\n",
    "time.sleep(random.randint(1, 6))\n",
    "\n",
    "id = driver.find_element(by=By.ID, value=\"id\")\n",
    "password = driver.find_element(by=By.ID, value=\"password\")\n",
    "\n",
    "id.clear()\n",
    "password.clear()\n",
    "\n",
    "id.send_keys(\"SB00191014\")\n",
    "password.send_keys(\"ivbl8375joif\")\n",
    "\n",
    "time.sleep(random.randint(0, 2))\n",
    "id.submit()\n",
    "time.sleep(random.randint(0, 2))\n",
    "\n",
    "###############\n",
    "\n",
    "sanji_mensetsu_buttom = driver.find_element(by=By.XPATH, value=\"/html/body/form/div[3]/div[2]/div[1]/div[1]/div[2]/div/div[3]/ul/li[2]/a\")\n",
    "sanji_mensetsu_buttom.click()\n",
    "\n",
    "time.sleep(random.randint(1, 2))\n",
    "\n",
    "betsunoNittei_buttom = driver.find_element(by=By.ID, value=\"lkb_OtherEvent\")\n",
    "betsunoNittei_buttom.click()\n",
    "time.sleep(random.randint(1, 2))\n",
    "\n",
    "calender_list = driver.find_element(by=By.ID, value=\"grv_EventList\")\n",
    "calender_text = calender_list.text\n",
    "print(calender_text)"
   ]
  },
  {
   "cell_type": "code",
   "execution_count": 3,
   "metadata": {},
   "outputs": [
    {
     "name": "stdout",
     "output_type": "stream",
     "text": [
      "開催日▲ 開始時間 会場名 予約状況\n",
      "2023年3月8日(水) 14:00 WEB面接③　JOB-MATCH選考エンジニア この日程に予約中\n",
      "2023年3月8日(水) 14:50 WEB面接③　JOB-MATCH選考エンジニア 満　席\n",
      "2023年3月15日(水) 16:30 WEB面接③　JOB-MATCH選考エンジニア 満　席\n",
      "2023年3月22日(水) 14:00 WEB面接③　JOB-MATCH選考エンジニア 満　席\n",
      "2023年3月22日(水) 14:50 WEB面接③　JOB-MATCH選考エンジニア 満　席\n",
      "2023年3月22日(水) 15:40 WEB面接③　JOB-MATCH選考エンジニア 満　席\n",
      "2023年3月22日(水) 16:30 WEB面接③　JOB-MATCH選考エンジニア 満　席\n",
      "2023年3月27日(月) 14:00 WEB面接③　JOB-MATCH選考エンジニア 満　席\n",
      "2023年3月27日(月) 14:50 WEB面接③　JOB-MATCH選考エンジニア 満　席\n",
      "2023年3月29日(水) 14:00 WEB面接③　JOB-MATCH選考エンジニア 満　席\n",
      "2023年3月29日(水) 14:50 WEB面接③　JOB-MATCH選考エンジニア 満　席\n",
      "2023年3月29日(水) 15:40 WEB面接③　JOB-MATCH選考エンジニア 満　席\n",
      "12\n",
      "0\n"
     ]
    }
   ],
   "source": [
    "print(calender_text)\n",
    "\n",
    "\n",
    "\n",
    "count_lines = calender_text.count('\\n')\n",
    "print(count_lines)\n",
    "\n",
    "Reservable_count = 0\n",
    "for i in calender_text.split('\\n'):\n",
    "    if i.split(\" \")[-1] == \"予約受付中\": Reservable_count += 1\n",
    "\n",
    "print(Reservable_count)"
   ]
  },
  {
   "cell_type": "code",
   "execution_count": 4,
   "metadata": {},
   "outputs": [
    {
     "data": {
      "text/plain": [
       "(221,\n",
       " b'2.0.0 closing connection c26-20020aa78c1a000000b005a8f1187112sm3370921pfd.58 - gsmtp')"
      ]
     },
     "execution_count": 4,
     "metadata": {},
     "output_type": "execute_result"
    }
   ],
   "source": [
    "smtp_server = \"smtp.gmail.com\"\n",
    "port = 587\n",
    "server = smtplib.SMTP(smtp_server, port)\n",
    "server.starttls()\n",
    "\n",
    "login_address = \"hirahara.kentaro.18@gmail.com\"\n",
    "login_password = \"hubxvzybzhbpgdrn\"\n",
    "\n",
    "server.login(login_address, login_password)\n",
    "\n",
    "\n",
    "message = MIMEMultipart()\n",
    "message[\"Subject\"] = f\"【SB_auto】面接日 {count_lines} 件/受付中 {Reservable_count} 件\"\n",
    "message[\"From\"] = \"hirahara.kentaro.18@gmail.com\"\n",
    "message[\"To\"] = \"hirahara.kentaro.18@gmail.com\"\n",
    "text = MIMEText(calender_list.text)\n",
    "message.attach(text)\n",
    "server.send_message(message)\n",
    "server.quit()"
   ]
  }
 ],
 "metadata": {
  "kernelspec": {
   "display_name": "base",
   "language": "python",
   "name": "python3"
  },
  "language_info": {
   "codemirror_mode": {
    "name": "ipython",
    "version": 3
   },
   "file_extension": ".py",
   "mimetype": "text/x-python",
   "name": "python",
   "nbconvert_exporter": "python",
   "pygments_lexer": "ipython3",
   "version": "3.9.7"
  },
  "orig_nbformat": 4,
  "vscode": {
   "interpreter": {
    "hash": "3645da56cb814aa032b2cac3a7394756acee5934a6fcdb3f4bf73fac323e5936"
   }
  }
 },
 "nbformat": 4,
 "nbformat_minor": 2
}
