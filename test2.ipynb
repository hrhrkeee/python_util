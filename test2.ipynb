{
 "cells": [
  {
   "cell_type": "code",
   "execution_count": 1,
   "metadata": {},
   "outputs": [
    {
     "name": "stdout",
     "output_type": "stream",
     "text": [
      "([1], [1])\n",
      "([1, 4], [1, 27])\n",
      "([1, 4, 9], [1, 27, 64])\n",
      "([1, 4, 9, 16], [1, 27, 64, 125])\n"
     ]
    }
   ],
   "source": [
    "def culc(a, b=1, squares=[], cubes=[]):\n",
    "    print(a ** 2)\n",
    "    squares.append(a ** 2)\n",
    "    cubes.append(b ** 3)\n",
    "    return squares, cubes\n",
    "\n",
    "print(culc(1))\n",
    "print(culc(2, 3))\n",
    "print(culc(3, 4)) \n",
    "print(culc(4, 5))"
   ]
  }
 ],
 "metadata": {
  "interpreter": {
   "hash": "00fa53bc8b6d4f8009fad8eb2a9824d1f9ec2cce235dc16497794ba0f835bfe6"
  },
  "kernelspec": {
   "display_name": "Python 3.9.7 64-bit ('detectron2': conda)",
   "name": "python3"
  },
  "language_info": {
   "codemirror_mode": {
    "name": "ipython",
    "version": 3
   },
   "file_extension": ".py",
   "mimetype": "text/x-python",
   "name": "python",
   "nbconvert_exporter": "python",
   "pygments_lexer": "ipython3",
   "version": "3.9.7"
  },
  "orig_nbformat": 4
 },
 "nbformat": 4,
 "nbformat_minor": 2
}
