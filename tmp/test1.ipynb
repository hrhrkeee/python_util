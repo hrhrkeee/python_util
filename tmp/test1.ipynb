{
 "cells": [
  {
   "cell_type": "code",
   "execution_count": null,
   "metadata": {},
   "outputs": [],
   "source": []
  },
  {
   "cell_type": "code",
   "execution_count": 27,
   "metadata": {},
   "outputs": [
    {
     "name": "stdout",
     "output_type": "stream",
     "text": [
      "YES\n",
      "4\n",
      "YES\n",
      "1\n",
      "YES\n",
      "3\n",
      "YES\n",
      "38049076\n"
     ]
    }
   ],
   "source": [
    "import sys\n",
    "\n",
    "# 魔王を倒す\n",
    "# 魔王の体力H\n",
    "# 勇者の攻撃力A\n",
    "# 魔王の回復力B\n",
    "\n",
    "# iターン目：勇者は魔王に攻撃して、魔王の体力をA減らす\n",
    "#     もし、魔王の体力が0以下になったら、勇者の勝ち\n",
    "#     そうでなければ、魔王は体力をB回復する\n",
    "\n",
    "# 倒せない場合は、「NO」を1行出力する\n",
    "# 勝てる場合は、「YES」を1行出力し、勝つまでに必要な攻撃の回数を次の行に出力する\n",
    "\n",
    "def main(lines):\n",
    "\n",
    "    for i, v in enumerate(lines):\n",
    "        h, a, b = list(map(int, v.split(\" \")))\n",
    "\n",
    "        if h - a <= 0:\n",
    "            print(f\"YES\\n1\"); continue\n",
    "        elif a - b <= 0:\n",
    "            print(\"NO\"); continue\n",
    "\n",
    "        if (h-a)%(a-b) == 0:  \n",
    "            print(f\"YES\\n{(h-a)//(a-b)+1}\"); continue\n",
    "        else:  \n",
    "            print(f\"YES\\n{((h-a)//(a-b))+2}\"); continue\n",
    "    \n",
    "if __name__ == '__main__':\n",
    "    lines = [\"5 2 1\", \"1 1 2\", \"10 5 2\", \"38049078 3 2\"]\n",
    "    main(lines)\n"
   ]
  }
 ],
 "metadata": {
  "kernelspec": {
   "display_name": "aiaug",
   "language": "python",
   "name": "python3"
  },
  "language_info": {
   "codemirror_mode": {
    "name": "ipython",
    "version": 3
   },
   "file_extension": ".py",
   "mimetype": "text/x-python",
   "name": "python",
   "nbconvert_exporter": "python",
   "pygments_lexer": "ipython3",
   "version": "3.11.3"
  },
  "orig_nbformat": 4
 },
 "nbformat": 4,
 "nbformat_minor": 2
}
