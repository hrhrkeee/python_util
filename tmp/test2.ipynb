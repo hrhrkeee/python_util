{
 "cells": [
  {
   "cell_type": "code",
   "execution_count": 41,
   "metadata": {},
   "outputs": [
    {
     "name": "stdout",
     "output_type": "stream",
     "text": [
      "[1, 2, 3, 4]\n"
     ]
    }
   ],
   "source": [
    "a = [1, 2, 3, 4, 5]\n",
    "print(a[:-1])"
   ]
  },
  {
   "cell_type": "code",
   "execution_count": 59,
   "metadata": {},
   "outputs": [
    {
     "name": "stdout",
     "output_type": "stream",
     "text": [
      "10\n"
     ]
    }
   ],
   "source": [
    "import sys\n",
    "import numpy as np\n",
    "\n",
    "def instert_top(block_w, pre_index):\n",
    "    return block_w[1:pre_index+1] + [block_w[0]] + block_w[pre_index+1:]\n",
    "\n",
    "def instert_last(block_w, target_index):\n",
    "    # if target_index == len(block_w)-1:\n",
    "    #     return block_w\n",
    "    # if target_index == 0:\n",
    "    #     return block_w[1:] + [block_w[0]]\n",
    "    # return block_w[:target_index] + block_w[target_index+1:] + [block_w[target_index]]\n",
    "\n",
    "    target_value = block_w.pop(target_index)\n",
    "    return block_w + [target_value]\n",
    "\n",
    "def main(lines):\n",
    "    n = int(lines[0])\n",
    "    block_w = [int(x) for x in lines[1].split()]\n",
    "\n",
    "    \n",
    "    print(len(block_w)-np.argmax(block_w[::-1]))\n",
    "\n",
    "    # loop = 0\n",
    "    # target = block_w.copy()\n",
    "\n",
    "    # while True:\n",
    "    #     if len(target) == 0:\n",
    "    #         break\n",
    "\n",
    "    #     max_index = np.argmax(target)\n",
    "\n",
    "\n",
    "    #     if max_index != len(target)-1:\n",
    "    #         loop += max_index+1\n",
    "    #         # target = instert_last(block_w.copy(), max_index)[:-1]\n",
    "    #         target = block_w[:max_index] + block_w[max_index+1:]\n",
    "    #     else:\n",
    "    #         target = target[:-1]\n",
    "\n",
    "    # print(loop)\n",
    "\n",
    "    # print(np.argmax(block_w))\n",
    "    # if np.argmax(block_w) != len(block_w)-1:\n",
    "    #     block_w = instert_top(block_w, np.argmax(block_w))\n",
    "    #     loop += len(block_w)-1\n",
    "        \n",
    "\n",
    "    # i = 0\n",
    "    # while True:\n",
    "\n",
    "\n",
    "\n",
    "\n",
    "\n",
    "\n",
    "    # print(instert_top(block_w, 1))\n",
    "\n",
    "    # print(block_w)\n",
    "    # print(block_w[::-1])\n",
    "\n",
    "    # top = n\n",
    "    # for block_w_x in block_w[::-1]:\n",
    "    #     if block_w_x == top:\n",
    "    #         top -= 1\n",
    "    # print(top)\n",
    "\n",
    "if __name__ == '__main__':\n",
    "    # lines = [\"3\", \"3 1 5\"]\n",
    "    lines = [\"8\", \"1 43 6 2 7 83 2 6\"]\n",
    "    lines = [\"8\", \"7 7 5 7 8 3 9 6 9 5\"]\n",
    "    main(lines)\n"
   ]
  }
 ],
 "metadata": {
  "kernelspec": {
   "display_name": "aiaug",
   "language": "python",
   "name": "python3"
  },
  "language_info": {
   "codemirror_mode": {
    "name": "ipython",
    "version": 3
   },
   "file_extension": ".py",
   "mimetype": "text/x-python",
   "name": "python",
   "nbconvert_exporter": "python",
   "pygments_lexer": "ipython3",
   "version": "3.11.3"
  },
  "orig_nbformat": 4
 },
 "nbformat": 4,
 "nbformat_minor": 2
}
